{
 "cells": [
  {
   "cell_type": "code",
   "execution_count": 7,
   "metadata": {},
   "outputs": [
    {
     "ename": "ValueError",
     "evalue": "Buffer dtype mismatch, expected 'Python object' but got 'long'",
     "output_type": "error",
     "traceback": [
      "\u001b[0;31m---------------------------------------------------------------------------\u001b[0m",
      "\u001b[0;31mValueError\u001b[0m                                Traceback (most recent call last)",
      "\u001b[0;31mValueError\u001b[0m: Buffer dtype mismatch, expected 'Python object' but got 'long'"
     ]
    },
    {
     "name": "stderr",
     "output_type": "stream",
     "text": [
      "Exception ignored in: 'pandas._libs.lib.is_bool_array'\n",
      "ValueError: Buffer dtype mismatch, expected 'Python object' but got 'long'\n"
     ]
    },
    {
     "ename": "ValueError",
     "evalue": "Buffer dtype mismatch, expected 'Python object' but got 'long'",
     "output_type": "error",
     "traceback": [
      "\u001b[0;31m---------------------------------------------------------------------------\u001b[0m",
      "\u001b[0;31mValueError\u001b[0m                                Traceback (most recent call last)",
      "\u001b[0;31mValueError\u001b[0m: Buffer dtype mismatch, expected 'Python object' but got 'long'"
     ]
    },
    {
     "name": "stderr",
     "output_type": "stream",
     "text": [
      "Exception ignored in: 'pandas._libs.lib.is_bool_array'\n",
      "ValueError: Buffer dtype mismatch, expected 'Python object' but got 'long'\n"
     ]
    },
    {
     "ename": "ValueError",
     "evalue": "Buffer dtype mismatch, expected 'Python object' but got 'long'",
     "output_type": "error",
     "traceback": [
      "\u001b[0;31m---------------------------------------------------------------------------\u001b[0m",
      "\u001b[0;31mValueError\u001b[0m                                Traceback (most recent call last)",
      "\u001b[0;31mValueError\u001b[0m: Buffer dtype mismatch, expected 'Python object' but got 'long'"
     ]
    },
    {
     "name": "stderr",
     "output_type": "stream",
     "text": [
      "Exception ignored in: 'pandas._libs.lib.is_bool_array'\n",
      "ValueError: Buffer dtype mismatch, expected 'Python object' but got 'long'\n"
     ]
    },
    {
     "ename": "ValueError",
     "evalue": "Buffer dtype mismatch, expected 'Python object' but got 'long'",
     "output_type": "error",
     "traceback": [
      "\u001b[0;31m---------------------------------------------------------------------------\u001b[0m",
      "\u001b[0;31mValueError\u001b[0m                                Traceback (most recent call last)",
      "\u001b[0;31mValueError\u001b[0m: Buffer dtype mismatch, expected 'Python object' but got 'long'"
     ]
    },
    {
     "name": "stderr",
     "output_type": "stream",
     "text": [
      "Exception ignored in: 'pandas._libs.lib.is_bool_array'\n",
      "ValueError: Buffer dtype mismatch, expected 'Python object' but got 'long'\n"
     ]
    },
    {
     "ename": "ValueError",
     "evalue": "Buffer dtype mismatch, expected 'Python object' but got 'long'",
     "output_type": "error",
     "traceback": [
      "\u001b[0;31m---------------------------------------------------------------------------\u001b[0m",
      "\u001b[0;31mValueError\u001b[0m                                Traceback (most recent call last)",
      "\u001b[0;31mValueError\u001b[0m: Buffer dtype mismatch, expected 'Python object' but got 'long'"
     ]
    },
    {
     "name": "stderr",
     "output_type": "stream",
     "text": [
      "Exception ignored in: 'pandas._libs.lib.is_bool_array'\n",
      "ValueError: Buffer dtype mismatch, expected 'Python object' but got 'long'\n"
     ]
    },
    {
     "ename": "ValueError",
     "evalue": "Buffer dtype mismatch, expected 'Python object' but got 'long'",
     "output_type": "error",
     "traceback": [
      "\u001b[0;31m---------------------------------------------------------------------------\u001b[0m",
      "\u001b[0;31mValueError\u001b[0m                                Traceback (most recent call last)",
      "\u001b[0;31mValueError\u001b[0m: Buffer dtype mismatch, expected 'Python object' but got 'long'"
     ]
    },
    {
     "name": "stderr",
     "output_type": "stream",
     "text": [
      "Exception ignored in: 'pandas._libs.lib.is_bool_array'\n",
      "ValueError: Buffer dtype mismatch, expected 'Python object' but got 'long'\n"
     ]
    },
    {
     "ename": "ValueError",
     "evalue": "Buffer dtype mismatch, expected 'Python object' but got 'long'",
     "output_type": "error",
     "traceback": [
      "\u001b[0;31m---------------------------------------------------------------------------\u001b[0m",
      "\u001b[0;31mValueError\u001b[0m                                Traceback (most recent call last)",
      "\u001b[0;31mValueError\u001b[0m: Buffer dtype mismatch, expected 'Python object' but got 'long'"
     ]
    },
    {
     "name": "stderr",
     "output_type": "stream",
     "text": [
      "Exception ignored in: 'pandas._libs.lib.is_bool_array'\n",
      "ValueError: Buffer dtype mismatch, expected 'Python object' but got 'long'\n"
     ]
    },
    {
     "ename": "ValueError",
     "evalue": "Buffer dtype mismatch, expected 'Python object' but got 'long'",
     "output_type": "error",
     "traceback": [
      "\u001b[0;31m---------------------------------------------------------------------------\u001b[0m",
      "\u001b[0;31mValueError\u001b[0m                                Traceback (most recent call last)",
      "\u001b[0;31mValueError\u001b[0m: Buffer dtype mismatch, expected 'Python object' but got 'long'"
     ]
    },
    {
     "name": "stderr",
     "output_type": "stream",
     "text": [
      "Exception ignored in: 'pandas._libs.lib.is_bool_array'\n",
      "ValueError: Buffer dtype mismatch, expected 'Python object' but got 'long'\n"
     ]
    },
    {
     "ename": "ValueError",
     "evalue": "Buffer dtype mismatch, expected 'Python object' but got 'long'",
     "output_type": "error",
     "traceback": [
      "\u001b[0;31m---------------------------------------------------------------------------\u001b[0m",
      "\u001b[0;31mValueError\u001b[0m                                Traceback (most recent call last)",
      "\u001b[0;31mValueError\u001b[0m: Buffer dtype mismatch, expected 'Python object' but got 'long'"
     ]
    },
    {
     "name": "stderr",
     "output_type": "stream",
     "text": [
      "Exception ignored in: 'pandas._libs.lib.is_bool_array'\n",
      "ValueError: Buffer dtype mismatch, expected 'Python object' but got 'long'\n"
     ]
    }
   ],
   "source": [
    "import pandas as pd\n",
    "import numpy as np\n",
    "import gc\n",
    "import matplotlib.pyplot as plt\n",
    "import seaborn as sns\n",
    "import time\n",
    "\n",
    "# Definindo o estilo dos plots\n",
    "sns.set_style(\"whitegrid\")\n",
    "sns.set(font_scale=1.5)\n",
    "\n",
    "%matplotlib inline\n",
    "%config InlineBackend.figure_format = 'retina'\n",
    "\n",
    "path_raul = '/dados/home/alessandrorivello/Kaggle/Dados/'\n",
    "\n",
    "\n",
    "# Definir os datatypes antes da importação otimiza o uso de memória pelo Pandas.\n",
    "dtypes = {\n",
    "        'ip'            : 'uint32',\n",
    "        'app'           : 'uint8',\n",
    "        'device'        : 'uint8',\n",
    "        'os'            : 'uint8',\n",
    "        'channel'       : 'uint8',\n",
    "        'is_attributed' : 'uint8',\n",
    "        'days'          : 'uint8',\n",
    "        'hours'         : 'uint8',\n",
    "        'minutes'       : 'uint8',\n",
    "        'seconds'       : 'uint8',\n",
    "        }\n",
    "\n",
    "# Forçando o Pandas a ler as mesmas colunas, sem necessidade de ler click_time, click_id e days, uma vez que os dados\n",
    "# de teste e treinamento são de dias diferentes. Logo essa feature não é informativa.\n",
    "\n",
    "cols_train = ['ip', 'app', 'device', 'os', 'channel', 'is_attributed', 'hours', 'minutes']\n",
    "cols_test = ['ip', 'app', 'device', 'os', 'channel', 'hours', 'minutes']\n",
    "\n",
    "train = pd.read_csv(path_raul + '10_train_timed.csv', dtype = dtypes, usecols = cols_train)\n",
    "test = pd.read_csv(path_raul + 'test_timed.csv', dtype = dtypes, usecols = cols_test)"
   ]
  },
  {
   "cell_type": "code",
   "execution_count": null,
   "metadata": {},
   "outputs": [],
   "source": [
    "def blacklist(features, nick_names, dataframe, numb_class=4):\n",
    "    # Esta função adiciona duas novas colunas no dataframe dado, feature_count e feature_conv.\n",
    "    # feature_count = em qual quartil(ou outra separação especificada por numb_class) \n",
    "    # está aquela observação, em relação ao número de cliques, \n",
    "    # na distribuição do total de cliques dessa feature;\n",
    "    # feature_conv = o mesmo que a feature_count, mas em relação a taxa de conversão\n",
    "    \n",
    "    categories=range(1,numb_class+1)\n",
    "    df=dataframe.copy()\n",
    "        \n",
    "    for feature, nick_name in zip(features, nick_names):\n",
    "        \n",
    "        conversion = dataframe[[feature, 'is_attributed']].groupby(feature, as_index=False).mean().sort_values(\n",
    "                                                                                                'is_attributed', \n",
    "                                                                                                 ascending=True)\n",
    "        counts = dataframe[[feature, 'is_attributed']].groupby(feature, as_index=False).count().sort_values(\n",
    "                                                                                                'is_attributed', \n",
    "                                                                                                 ascending=True)\n",
    "\n",
    "        # Fazendo um filtro na taxa de conversão mínima considerada devido a problemas técnicos com o qcut\n",
    "        conversion = conversion[conversion.is_attributed > 0.001]\n",
    "        conversion[nick_name+'_conv']=pd.qcut(conversion['is_attributed'], numb_class, labels=False, duplicates='drop')\n",
    "        conversion[nick_name+'_conv']=conversion[nick_name+'_conv']+1 # Apenas padronizando a categoria criada\n",
    "        counts[nick_name+'_count']=pd.qcut(counts['is_attributed'], numb_class, categories)\n",
    "\n",
    "        # Dropando a coluna is_attributed para não ter problemas no merge\n",
    "        conversion=conversion.drop('is_attributed', axis=1)\n",
    "        counts = counts.drop('is_attributed', axis=1)\n",
    "        \n",
    "        counts[nick_name+'_count'] = counts[nick_name+'_count'].astype('uint8')\n",
    "\n",
    "        df=df.merge(conversion, on=feature, how='left')\n",
    "        df[nick_name+'_conv']=df[nick_name+'_conv'].fillna(value=1) # Criou-se NA ao se fixar um mínimo na tx de conversão\n",
    "        df[nick_name+'_conv']=df[nick_name+'_conv'].astype('uint8')\n",
    "\n",
    "        df=df.merge(counts, on=feature, how='left')\n",
    "    \n",
    "    return df"
   ]
  },
  {
   "cell_type": "code",
   "execution_count": null,
   "metadata": {},
   "outputs": [],
   "source": [
    "train_eng = blacklist(['ip', 'app', 'channel'], ['ip', 'app', 'ch'], train)\n",
    "\n",
    "train_eng.head()\n",
    "\n",
    "gc.collect();"
   ]
  },
  {
   "cell_type": "code",
   "execution_count": 49,
   "metadata": {},
   "outputs": [
    {
     "data": {
      "text/plain": [
       "ip               uint32\n",
       "app               uint8\n",
       "device            uint8\n",
       "os                uint8\n",
       "channel           uint8\n",
       "hours             uint8\n",
       "minutes           uint8\n",
       "is_attributed     uint8\n",
       "ip_conv           uint8\n",
       "ip_count          uint8\n",
       "app_conv          uint8\n",
       "app_count         uint8\n",
       "ch_conv           uint8\n",
       "ch_count          uint8\n",
       "dtype: object"
      ]
     },
     "execution_count": 49,
     "metadata": {},
     "output_type": "execute_result"
    }
   ],
   "source": [
    "train_eng.dtypes"
   ]
  },
  {
   "cell_type": "code",
   "execution_count": 50,
   "metadata": {},
   "outputs": [
    {
     "data": {
      "text/html": [
       "<div>\n",
       "<style scoped>\n",
       "    .dataframe tbody tr th:only-of-type {\n",
       "        vertical-align: middle;\n",
       "    }\n",
       "\n",
       "    .dataframe tbody tr th {\n",
       "        vertical-align: top;\n",
       "    }\n",
       "\n",
       "    .dataframe thead th {\n",
       "        text-align: right;\n",
       "    }\n",
       "</style>\n",
       "<table border=\"1\" class=\"dataframe\">\n",
       "  <thead>\n",
       "    <tr style=\"text-align: right;\">\n",
       "      <th></th>\n",
       "      <th>ip</th>\n",
       "      <th>app</th>\n",
       "      <th>device</th>\n",
       "      <th>os</th>\n",
       "      <th>channel</th>\n",
       "      <th>hours</th>\n",
       "      <th>minutes</th>\n",
       "      <th>is_attributed</th>\n",
       "      <th>ip_conv</th>\n",
       "      <th>ip_count</th>\n",
       "      <th>app_conv</th>\n",
       "      <th>app_count</th>\n",
       "      <th>ch_conv</th>\n",
       "      <th>ch_count</th>\n",
       "    </tr>\n",
       "  </thead>\n",
       "  <tbody>\n",
       "    <tr>\n",
       "      <th>0</th>\n",
       "      <td>29045</td>\n",
       "      <td>64</td>\n",
       "      <td>1</td>\n",
       "      <td>13</td>\n",
       "      <td>203</td>\n",
       "      <td>14</td>\n",
       "      <td>54</td>\n",
       "      <td>0</td>\n",
       "      <td>1</td>\n",
       "      <td>4</td>\n",
       "      <td>1</td>\n",
       "      <td>4</td>\n",
       "      <td>1</td>\n",
       "      <td>4</td>\n",
       "    </tr>\n",
       "    <tr>\n",
       "      <th>1</th>\n",
       "      <td>64886</td>\n",
       "      <td>3</td>\n",
       "      <td>1</td>\n",
       "      <td>13</td>\n",
       "      <td>123</td>\n",
       "      <td>15</td>\n",
       "      <td>5</td>\n",
       "      <td>0</td>\n",
       "      <td>1</td>\n",
       "      <td>4</td>\n",
       "      <td>1</td>\n",
       "      <td>4</td>\n",
       "      <td>1</td>\n",
       "      <td>4</td>\n",
       "    </tr>\n",
       "    <tr>\n",
       "      <th>2</th>\n",
       "      <td>147605</td>\n",
       "      <td>3</td>\n",
       "      <td>1</td>\n",
       "      <td>19</td>\n",
       "      <td>123</td>\n",
       "      <td>15</td>\n",
       "      <td>8</td>\n",
       "      <td>0</td>\n",
       "      <td>1</td>\n",
       "      <td>4</td>\n",
       "      <td>1</td>\n",
       "      <td>4</td>\n",
       "      <td>1</td>\n",
       "      <td>4</td>\n",
       "    </tr>\n",
       "    <tr>\n",
       "      <th>3</th>\n",
       "      <td>108881</td>\n",
       "      <td>3</td>\n",
       "      <td>1</td>\n",
       "      <td>19</td>\n",
       "      <td>123</td>\n",
       "      <td>15</td>\n",
       "      <td>25</td>\n",
       "      <td>0</td>\n",
       "      <td>1</td>\n",
       "      <td>4</td>\n",
       "      <td>1</td>\n",
       "      <td>4</td>\n",
       "      <td>1</td>\n",
       "      <td>4</td>\n",
       "    </tr>\n",
       "    <tr>\n",
       "      <th>4</th>\n",
       "      <td>116013</td>\n",
       "      <td>3</td>\n",
       "      <td>1</td>\n",
       "      <td>13</td>\n",
       "      <td>123</td>\n",
       "      <td>15</td>\n",
       "      <td>39</td>\n",
       "      <td>0</td>\n",
       "      <td>1</td>\n",
       "      <td>4</td>\n",
       "      <td>1</td>\n",
       "      <td>4</td>\n",
       "      <td>1</td>\n",
       "      <td>4</td>\n",
       "    </tr>\n",
       "  </tbody>\n",
       "</table>\n",
       "</div>"
      ],
      "text/plain": [
       "       ip  app  device  os  channel  hours  minutes  is_attributed  ip_conv  \\\n",
       "0   29045   64       1  13      203     14       54              0        1   \n",
       "1   64886    3       1  13      123     15        5              0        1   \n",
       "2  147605    3       1  19      123     15        8              0        1   \n",
       "3  108881    3       1  19      123     15       25              0        1   \n",
       "4  116013    3       1  13      123     15       39              0        1   \n",
       "\n",
       "   ip_count  app_conv  app_count  ch_conv  ch_count  \n",
       "0         4         1          4        1         4  \n",
       "1         4         1          4        1         4  \n",
       "2         4         1          4        1         4  \n",
       "3         4         1          4        1         4  \n",
       "4         4         1          4        1         4  "
      ]
     },
     "execution_count": 50,
     "metadata": {},
     "output_type": "execute_result"
    }
   ],
   "source": [
    "train_eng.head()"
   ]
  },
  {
   "cell_type": "code",
   "execution_count": 54,
   "metadata": {},
   "outputs": [],
   "source": [
    "# Tranformando as features criadas em blacklists para que possa ser usado nos dados de teste\n",
    "\n",
    "columns = ['ip', 'app', 'ch']\n",
    "\n",
    "for col in columns:\n",
    "    train_eng[col+'_count'] = train_eng[col+'_count'].apply(lambda x: 1 if x>=3 else 0)\n",
    "    train_eng[col+'_conv'] = train_eng[col+'_conv'].apply(lambda x: 1 if x>=3 else 0)"
   ]
  },
  {
   "cell_type": "markdown",
   "metadata": {},
   "source": [
    "Fazendo a mesma engenharia de features nos dados de teste"
   ]
  },
  {
   "cell_type": "code",
   "execution_count": 65,
   "metadata": {
    "scrolled": false
   },
   "outputs": [],
   "source": [
    "test_eng = test.copy()\n",
    "columns = {'ip':'ip', 'app':'app', 'channel': 'ch'}\n",
    "\n",
    "for key, value in columns.items():\n",
    "    \n",
    "    df = train_eng[train_eng[value+'_conv']==1]\n",
    "    df = df[[key, value+'_conv']].groupby(key, as_index=False).mean()\n",
    "\n",
    "    test_eng = test_eng.merge(df, on=key, how='left')\n",
    "    test_eng[value+'_conv'] = test_eng[value+'_conv'].fillna(value=0)\n",
    "    \n",
    "    df = train_eng[train_eng[value+'_count']==1]\n",
    "    df = df[[key, value+'_count']].groupby(key, as_index=False).mean()\n",
    "\n",
    "    test_eng = test_eng.merge(df, on=key, how='left')\n",
    "    test_eng[value+'_count'] = test_eng[value+'_count'].fillna(value=0)\n",
    "    "
   ]
  },
  {
   "cell_type": "code",
   "execution_count": 69,
   "metadata": {},
   "outputs": [
    {
     "name": "stdout",
     "output_type": "stream",
     "text": [
      "<class 'pandas.core.frame.DataFrame'>\n",
      "Int64Index: 18790469 entries, 0 to 18790468\n",
      "Data columns (total 13 columns):\n",
      "ip           uint32\n",
      "app          uint8\n",
      "device       uint8\n",
      "os           uint8\n",
      "channel      uint8\n",
      "hours        uint8\n",
      "minutes      uint8\n",
      "ip_conv      float64\n",
      "ip_count     float64\n",
      "app_conv     float64\n",
      "app_count    float64\n",
      "ch_conv      float64\n",
      "ch_count     float64\n",
      "dtypes: float64(6), uint32(1), uint8(6)\n",
      "memory usage: 1.2 GB\n"
     ]
    }
   ],
   "source": [
    "test_eng.info()"
   ]
  },
  {
   "cell_type": "markdown",
   "metadata": {},
   "source": [
    "Note que ficamos com muitos dados do tipo float que pesam na memória e só precisamos de uint8. Vamos ajustar"
   ]
  },
  {
   "cell_type": "code",
   "execution_count": 98,
   "metadata": {},
   "outputs": [],
   "source": [
    "test_eng[['ip_conv', 'ip_count', \n",
    "           'app_conv', 'app_count', \n",
    "           'ch_conv', 'ch_count']] = test_eng[['ip_conv', \n",
    "                                                'ip_count', \n",
    "                                                'app_conv', \n",
    "                                                'app_count', \n",
    "                                                'ch_conv', \n",
    "                                                'ch_count']].astype('uint8')"
   ]
  },
  {
   "cell_type": "code",
   "execution_count": 100,
   "metadata": {},
   "outputs": [
    {
     "name": "stdout",
     "output_type": "stream",
     "text": [
      "<class 'pandas.core.frame.DataFrame'>\n",
      "Int64Index: 18790469 entries, 0 to 18790468\n",
      "Data columns (total 13 columns):\n",
      "ip           uint32\n",
      "app          uint8\n",
      "device       uint8\n",
      "os           uint8\n",
      "channel      uint8\n",
      "hours        uint8\n",
      "minutes      uint8\n",
      "ip_conv      uint8\n",
      "ip_count     uint8\n",
      "app_conv     uint8\n",
      "app_count    uint8\n",
      "ch_conv      uint8\n",
      "ch_count     uint8\n",
      "dtypes: uint32(1), uint8(12)\n",
      "memory usage: 430.1 MB\n"
     ]
    }
   ],
   "source": [
    "test_eng.info()"
   ]
  },
  {
   "cell_type": "markdown",
   "metadata": {},
   "source": [
    "# Machine Learning"
   ]
  },
  {
   "cell_type": "markdown",
   "metadata": {},
   "source": [
    "Com essas novas features criadas, vamos tentar usar random forest para predição"
   ]
  },
  {
   "cell_type": "code",
   "execution_count": 21,
   "metadata": {},
   "outputs": [],
   "source": [
    "from sklearn import model_selection\n",
    "from sklearn.metrics import roc_auc_score\n",
    "from sklearn.metrics import roc_curve\n",
    "from sklearn.metrics import f1_score\n",
    "\n",
    "# Primeiro separamos os dados de treino em treino e cross-validation\n",
    "param = ['ip_conv', 'ip_count', 'app_conv', 'app_count', 'ch_conv', 'ch_count', 'os', 'hours', 'minutes']\n",
    "X = train_eng[param]\n",
    "Y = train_eng['is_attributed']\n",
    "X_train, X_cv, Y_train, Y_cv = model_selection.train_test_split(X,Y, test_size = 0.3)\n"
   ]
  },
  {
   "cell_type": "code",
   "execution_count": 94,
   "metadata": {},
   "outputs": [
    {
     "name": "stdout",
     "output_type": "stream",
     "text": [
      "CPU times: user 14h 6min 45s, sys: 18min 16s, total: 14h 25min 2s\n",
      "Wall time: 53min 23s\n"
     ]
    }
   ],
   "source": [
    "%%time\n",
    "from sklearn.ensemble import RandomForestClassifier\n",
    "\n",
    "clf_rf = RandomForestClassifier(n_estimators=200, \n",
    "                                criterion='gini', \n",
    "                                max_depth=400, \n",
    "                                min_samples_split=150, #2,\n",
    "                                min_samples_leaf=100, \n",
    "                                min_weight_fraction_leaf=0.0, \n",
    "                                max_features=3, \n",
    "                                max_leaf_nodes=None, \n",
    "                                bootstrap=True, \n",
    "                                oob_score=True, \n",
    "                                n_jobs=-1, \n",
    "                                random_state=None, \n",
    "                                verbose=0, \n",
    "                                warm_start=False, \n",
    "                                class_weight=None)\n",
    "\n",
    "clf_rf = clf_rf.fit(X_train, Y_train)"
   ]
  },
  {
   "cell_type": "code",
   "execution_count": 95,
   "metadata": {},
   "outputs": [],
   "source": [
    "def clf_eval(clf, X, y_true, classes=['Não baixou', 'Baixou']):\n",
    "    y_pred = clf.predict(X)\n",
    "    print('Classification Report')\n",
    "    print(classification_report(y_true, y_pred, target_names=classes))\n",
    "    print('ROC Score: {}'.format(roc_auc_score(y_true, y_pred)))\n",
    "    print('Accuracy Score: {}'.format(accuracy_score(y_true, y_pred)))\n",
    "    print('Average Precision Score: {}'.format(average_precision_score(y_true, y_pred)))\n",
    "    print('f1 Score: {}'.format(f1_score(y_true, y_pred)))\n",
    "    return roc_auc_score(y_true, y_pred)"
   ]
  },
  {
   "cell_type": "code",
   "execution_count": 96,
   "metadata": {},
   "outputs": [
    {
     "name": "stdout",
     "output_type": "stream",
     "text": [
      "Classification Report\n",
      "             precision    recall  f1-score   support\n",
      "\n",
      " Não baixou       1.00      1.00      1.00   5533514\n",
      "     Baixou       0.88      0.61      0.72     13603\n",
      "\n",
      "avg / total       1.00      1.00      1.00   5547117\n",
      "\n",
      "ROC Score: 0.8026218911931743\n",
      "Accuracy Score: 0.9988220908266402\n",
      "Average Precision Score: 0.5312796360950677\n",
      "f1 Score: 0.715987133791185\n"
     ]
    }
   ],
   "source": [
    "from sklearn.metrics import classification_report\n",
    "from sklearn.metrics import accuracy_score\n",
    "from sklearn.metrics import average_precision_score\n",
    "\n",
    "roc_rf = clf_eval(clf_rf, X_cv, Y_cv)"
   ]
  },
  {
   "cell_type": "markdown",
   "metadata": {},
   "source": [
    "Vamos definir algumas funções que nos ajudam a visualizar como está se comportando nossa random forrest para que possamos mexer nos hyperparâmetros"
   ]
  },
  {
   "cell_type": "code",
   "execution_count": 92,
   "metadata": {},
   "outputs": [],
   "source": [
    "from sklearn.tree import _tree\n",
    "\n",
    "def leaf_depths(tree, node_id = 0):\n",
    "    \n",
    "     '''\n",
    "     tree.children_left and tree.children_right store ids\n",
    "     of left and right chidren of a given node\n",
    "     '''\n",
    "     left_child = tree.children_left[node_id]\n",
    "     right_child = tree.children_right[node_id]\n",
    "\n",
    "     '''\n",
    "     If a given node is terminal, \n",
    "     both left and right children are set to _tree.TREE_LEAF\n",
    "     '''\n",
    "     if left_child == _tree.TREE_LEAF:\n",
    "         \n",
    "         '''\n",
    "         Set depth of terminal nodes to 0\n",
    "         '''\n",
    "         depths = np.array([0])\n",
    "\n",
    "     else:\n",
    "         \n",
    "         '''\n",
    "         Get depths of left and right children and\n",
    "         increment them by 1\n",
    "         '''\n",
    "         left_depths = leaf_depths(tree, left_child) + 1\n",
    "         right_depths = leaf_depths(tree, right_child) + 1\n",
    " \n",
    "         depths = np.append(left_depths, right_depths)\n",
    " \n",
    "     return depths\n",
    "\n",
    "def leaf_samples(tree, node_id = 0):\n",
    "    \n",
    "     left_child = tree.children_left[node_id]\n",
    "     right_child = tree.children_right[node_id]\n",
    "\n",
    "     if left_child == _tree.TREE_LEAF:\n",
    "        \n",
    "         samples = np.array([tree.n_node_samples[node_id]])\n",
    "\n",
    "     else:\n",
    "        \n",
    "         left_samples = leaf_samples(tree, left_child)\n",
    "         right_samples = leaf_samples(tree, right_child)\n",
    "\n",
    "         samples = np.append(left_samples, right_samples)\n",
    "\n",
    "     return samples\n",
    "\n",
    "def draw_ensemble(ensemble, max_leaf):\n",
    "\n",
    "     plt.figure(figsize=(15,8))\n",
    "     plt.subplot(211)\n",
    "\n",
    "     depths_all = np.array([], dtype=int)\n",
    "\n",
    "     for x in ensemble.estimators_:\n",
    "         tree = x.tree_\n",
    "         depths = leaf_depths(tree)\n",
    "         depths_all = np.append(depths_all, depths)\n",
    "         plt.hist(depths, histtype='step', color='#ddaaff', \n",
    "                  bins=range(min(depths), max(depths)+1))\n",
    "\n",
    "     plt.hist(depths_all, histtype='step', color='#9933ff', \n",
    "              bins=range(min(depths_all), max(depths_all)+1), \n",
    "              weights=np.ones(len(depths_all))/len(ensemble.estimators_), \n",
    "              linewidth=2)\n",
    "     plt.xlabel(\"Depth of leaf nodes\")\n",
    "    \n",
    "     samples_all = np.array([], dtype=int)\n",
    "    \n",
    "     plt.subplot(212)\n",
    "    \n",
    "     for x in ensemble.estimators_:\n",
    "         tree = x.tree_\n",
    "         samples = leaf_samples(tree)\n",
    "         samples = np.select([samples < max_leaf], [samples])\n",
    "        \n",
    "         samples_all = np.append(samples_all, samples)\n",
    "         \n",
    "         plt.hist(samples, histtype='step', color='#aaddff', \n",
    "                  bins=range(min(samples), max(samples)+1))\n",
    "    \n",
    "     plt.hist(samples_all, histtype='step', color='#3399ff', \n",
    "              bins=range(min(samples_all), max(samples_all)+1), \n",
    "              weights=np.ones(len(samples_all))/len(ensemble.estimators_), \n",
    "              linewidth=2)\n",
    "     plt.xlabel(\"Number of samples in leaf nodes\")\n",
    "    \n",
    "     plt.show()"
   ]
  },
  {
   "cell_type": "code",
   "execution_count": 97,
   "metadata": {},
   "outputs": [
    {
     "data": {
      "image/png": "[encoded data removed]",
      "text/plain": [
       "<Figure size 1080x576 with 2 Axes>"
      ]
     },
     "metadata": {
      "image/png": {
       "height": 491,
       "width": 896
      }
     },
     "output_type": "display_data"
    }
   ],
   "source": [
    "draw_ensemble(clf_rf, 200)"
   ]
  },
  {
   "cell_type": "code",
   "execution_count": 103,
   "metadata": {},
   "outputs": [],
   "source": [
    "# Usando o modelo treinado para prever nos dados de teste\n",
    "\n",
    "prev = clf_rf.predict_proba(test_eng[['ip_conv', \n",
    "                                      'ip_count', \n",
    "                                      'app_conv', \n",
    "                                      'app_count', \n",
    "                                      'ch_conv', \n",
    "                                      'ch_count',\n",
    "                                      'os', \n",
    "                                      'hours', \n",
    "                                      'minutes']])[:,1]"
   ]
  },
  {
   "cell_type": "code",
   "execution_count": 107,
   "metadata": {},
   "outputs": [],
   "source": [
    "# Criando o csv para submeter pro Kaggle\n",
    "\n",
    "submission = pd.DataFrame({'click_id': range(0,len(prev)), 'is_attributed': prev})"
   ]
  },
  {
   "cell_type": "code",
   "execution_count": 108,
   "metadata": {},
   "outputs": [
    {
     "data": {
      "text/html": [
       "<div>\n",
       "<style scoped>\n",
       "    .dataframe tbody tr th:only-of-type {\n",
       "        vertical-align: middle;\n",
       "    }\n",
       "\n",
       "    .dataframe tbody tr th {\n",
       "        vertical-align: top;\n",
       "    }\n",
       "\n",
       "    .dataframe thead th {\n",
       "        text-align: right;\n",
       "    }\n",
       "</style>\n",
       "<table border=\"1\" class=\"dataframe\">\n",
       "  <thead>\n",
       "    <tr style=\"text-align: right;\">\n",
       "      <th></th>\n",
       "      <th>click_id</th>\n",
       "      <th>is_attributed</th>\n",
       "    </tr>\n",
       "  </thead>\n",
       "  <tbody>\n",
       "    <tr>\n",
       "      <th>0</th>\n",
       "      <td>0</td>\n",
       "      <td>0.043134</td>\n",
       "    </tr>\n",
       "    <tr>\n",
       "      <th>1</th>\n",
       "      <td>1</td>\n",
       "      <td>0.043134</td>\n",
       "    </tr>\n",
       "    <tr>\n",
       "      <th>2</th>\n",
       "      <td>2</td>\n",
       "      <td>0.042937</td>\n",
       "    </tr>\n",
       "    <tr>\n",
       "      <th>3</th>\n",
       "      <td>3</td>\n",
       "      <td>0.043705</td>\n",
       "    </tr>\n",
       "    <tr>\n",
       "      <th>4</th>\n",
       "      <td>4</td>\n",
       "      <td>0.043705</td>\n",
       "    </tr>\n",
       "  </tbody>\n",
       "</table>\n",
       "</div>"
      ],
      "text/plain": [
       "   click_id  is_attributed\n",
       "0         0       0.043134\n",
       "1         1       0.043134\n",
       "2         2       0.042937\n",
       "3         3       0.043705\n",
       "4         4       0.043705"
      ]
     },
     "execution_count": 108,
     "metadata": {},
     "output_type": "execute_result"
    }
   ],
   "source": [
    "submission.head()"
   ]
  },
  {
   "cell_type": "code",
   "execution_count": 112,
   "metadata": {},
   "outputs": [],
   "source": [
    "submission.to_csv(path_or_buf='/dados/home/alessandrorivello/Kaggle/Dados/submission.csv', index=False)"
   ]
  },
  {
   "cell_type": "code",
   "execution_count": null,
   "metadata": {},
   "outputs": [],
   "source": []
  }
 ],
 "metadata": {
  "kernelspec": {
   "display_name": "Python 3",
   "language": "python",
   "name": "python3"
  },
  "language_info": {
   "codemirror_mode": {
    "name": "ipython",
    "version": 3
   },
   "file_extension": ".py",
   "mimetype": "text/x-python",
   "name": "python",
   "nbconvert_exporter": "python",
   "pygments_lexer": "ipython3",
   "version": "3.5.2"
  }
 },
 "nbformat": 4,
 "nbformat_minor": 2
}
