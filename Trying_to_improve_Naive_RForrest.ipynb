{
 "cells": [
  {
   "cell_type": "code",
   "execution_count": 34,
   "metadata": {},
   "outputs": [],
   "source": [
    "# This is hardly inspired by the work of Raven Ron on https://www.kaggle.com/codeastar/random-forest-classification-on-talkingdata\n",
    "\n",
    "import numpy as np # linear algebra\n",
    "import pandas as pd # data processing, CSV file I/O (e.g. pd.read_csv)\n",
    "\n",
    "import statsmodels.api as sm\n",
    "import statsmodels.formula.api as smf\n",
    "\n",
    "import matplotlib\n",
    "import matplotlib.pyplot as plt\n",
    "from matplotlib.font_manager import FontProperties\n",
    "import seaborn as sns\n",
    "import pickle\n",
    "import itertools\n",
    "%matplotlib inline\n",
    "\n",
    "import os\n",
    "# print(os.listdir(\"../input\"))\n",
    "\n",
    "import gc, time\n",
    "\n",
    "dtypes = {\n",
    "    'ip'            : 'uint32',\n",
    "    'app'           : 'uint16',\n",
    "    'device'        : 'uint16',\n",
    "    'os'            : 'uint16',\n",
    "    'channel'       : 'uint16',\n",
    "    'is_attributed' : 'uint8',\n",
    "    'click_id'      : 'uint32'\n",
    "}\n",
    "\n",
    "\n",
    "path = '~/Kaggle/dados_kaggle/'\n",
    "\n",
    "def handleClickHour(df):\n",
    "    df['click_hour']= (pd.to_datetime(df['click_time']).dt.round('H')).dt.hour\n",
    "    df['click_hour'] = df['click_hour'].astype('uint16')\n",
    "    df = df.drop(['click_time'], axis=1)   \n",
    "    return df\n",
    "\n",
    "train_columns = ['ip', 'app', 'device', 'os', 'channel', 'hours', 'minutes', 'seconds', 'is_attributed']"
   ]
  },
  {
   "cell_type": "code",
   "execution_count": 46,
   "metadata": {},
   "outputs": [
    {
     "name": "stdout",
     "output_type": "stream",
     "text": [
      "Load df_train_30m with 18.258 seconds\n"
     ]
    }
   ],
   "source": [
    "# Importing data\n",
    "\n",
    "start_time = time.time()\n",
    "df_train_30m = pd.read_csv(path + '10_train_timed.csv', dtype=dtypes, usecols=train_columns)\n",
    "print('Load df_train_30m with {} seconds'.format(round(time.time() - start_time, 3)))"
   ]
  },
  {
   "cell_type": "code",
   "execution_count": 47,
   "metadata": {},
   "outputs": [
    {
     "name": "stdout",
     "output_type": "stream",
     "text": [
      "Load df_test with 18.753 seconds\n"
     ]
    }
   ],
   "source": [
    "# Load testing df\n",
    "start_time = time.time()\n",
    "df_test = pd.read_csv(path + 'test_timed.csv', dtype=dtypes)\n",
    "print('Load df_test with {} seconds'.format(round(time.time() - start_time, 3)))\n",
    "\n",
    "train_record_index = df_train_30m.shape[0]"
   ]
  },
  {
   "cell_type": "code",
   "execution_count": 48,
   "metadata": {},
   "outputs": [
    {
     "data": {
      "text/html": [
       "<div>\n",
       "<style scoped>\n",
       "    .dataframe tbody tr th:only-of-type {\n",
       "        vertical-align: middle;\n",
       "    }\n",
       "\n",
       "    .dataframe tbody tr th {\n",
       "        vertical-align: top;\n",
       "    }\n",
       "\n",
       "    .dataframe thead th {\n",
       "        text-align: right;\n",
       "    }\n",
       "</style>\n",
       "<table border=\"1\" class=\"dataframe\">\n",
       "  <thead>\n",
       "    <tr style=\"text-align: right;\">\n",
       "      <th></th>\n",
       "      <th>ip</th>\n",
       "      <th>app</th>\n",
       "      <th>device</th>\n",
       "      <th>os</th>\n",
       "      <th>channel</th>\n",
       "      <th>is_attributed</th>\n",
       "      <th>hours</th>\n",
       "      <th>minutes</th>\n",
       "      <th>seconds</th>\n",
       "    </tr>\n",
       "  </thead>\n",
       "  <tbody>\n",
       "    <tr>\n",
       "      <th>0</th>\n",
       "      <td>103022</td>\n",
       "      <td>3</td>\n",
       "      <td>1</td>\n",
       "      <td>23</td>\n",
       "      <td>379</td>\n",
       "      <td>0</td>\n",
       "      <td>14</td>\n",
       "      <td>37</td>\n",
       "      <td>44</td>\n",
       "    </tr>\n",
       "    <tr>\n",
       "      <th>1</th>\n",
       "      <td>114221</td>\n",
       "      <td>3</td>\n",
       "      <td>1</td>\n",
       "      <td>19</td>\n",
       "      <td>379</td>\n",
       "      <td>0</td>\n",
       "      <td>14</td>\n",
       "      <td>37</td>\n",
       "      <td>59</td>\n",
       "    </tr>\n",
       "    <tr>\n",
       "      <th>2</th>\n",
       "      <td>47902</td>\n",
       "      <td>3</td>\n",
       "      <td>1</td>\n",
       "      <td>17</td>\n",
       "      <td>379</td>\n",
       "      <td>0</td>\n",
       "      <td>14</td>\n",
       "      <td>48</td>\n",
       "      <td>7</td>\n",
       "    </tr>\n",
       "    <tr>\n",
       "      <th>3</th>\n",
       "      <td>23550</td>\n",
       "      <td>3</td>\n",
       "      <td>1</td>\n",
       "      <td>13</td>\n",
       "      <td>379</td>\n",
       "      <td>0</td>\n",
       "      <td>14</td>\n",
       "      <td>53</td>\n",
       "      <td>39</td>\n",
       "    </tr>\n",
       "    <tr>\n",
       "      <th>4</th>\n",
       "      <td>84644</td>\n",
       "      <td>3</td>\n",
       "      <td>1</td>\n",
       "      <td>19</td>\n",
       "      <td>379</td>\n",
       "      <td>0</td>\n",
       "      <td>14</td>\n",
       "      <td>56</td>\n",
       "      <td>49</td>\n",
       "    </tr>\n",
       "  </tbody>\n",
       "</table>\n",
       "</div>"
      ],
      "text/plain": [
       "       ip  app  device  os  channel  is_attributed  hours  minutes  seconds\n",
       "0  103022    3       1  23      379              0     14       37       44\n",
       "1  114221    3       1  19      379              0     14       37       59\n",
       "2   47902    3       1  17      379              0     14       48        7\n",
       "3   23550    3       1  13      379              0     14       53       39\n",
       "4   84644    3       1  19      379              0     14       56       49"
      ]
     },
     "execution_count": 48,
     "metadata": {},
     "output_type": "execute_result"
    }
   ],
   "source": [
    "df_train_30m.head()"
   ]
  },
  {
   "cell_type": "code",
   "execution_count": 49,
   "metadata": {},
   "outputs": [
    {
     "data": {
      "text/html": [
       "<div>\n",
       "<style scoped>\n",
       "    .dataframe tbody tr th:only-of-type {\n",
       "        vertical-align: middle;\n",
       "    }\n",
       "\n",
       "    .dataframe tbody tr th {\n",
       "        vertical-align: top;\n",
       "    }\n",
       "\n",
       "    .dataframe thead th {\n",
       "        text-align: right;\n",
       "    }\n",
       "</style>\n",
       "<table border=\"1\" class=\"dataframe\">\n",
       "  <thead>\n",
       "    <tr style=\"text-align: right;\">\n",
       "      <th></th>\n",
       "      <th>click_id</th>\n",
       "      <th>ip</th>\n",
       "      <th>app</th>\n",
       "      <th>device</th>\n",
       "      <th>os</th>\n",
       "      <th>channel</th>\n",
       "      <th>days</th>\n",
       "      <th>hours</th>\n",
       "      <th>minutes</th>\n",
       "      <th>seconds</th>\n",
       "    </tr>\n",
       "  </thead>\n",
       "  <tbody>\n",
       "    <tr>\n",
       "      <th>0</th>\n",
       "      <td>0</td>\n",
       "      <td>5744</td>\n",
       "      <td>9</td>\n",
       "      <td>1</td>\n",
       "      <td>3</td>\n",
       "      <td>107</td>\n",
       "      <td>10</td>\n",
       "      <td>4</td>\n",
       "      <td>0</td>\n",
       "      <td>0</td>\n",
       "    </tr>\n",
       "    <tr>\n",
       "      <th>1</th>\n",
       "      <td>1</td>\n",
       "      <td>119901</td>\n",
       "      <td>9</td>\n",
       "      <td>1</td>\n",
       "      <td>3</td>\n",
       "      <td>466</td>\n",
       "      <td>10</td>\n",
       "      <td>4</td>\n",
       "      <td>0</td>\n",
       "      <td>0</td>\n",
       "    </tr>\n",
       "    <tr>\n",
       "      <th>2</th>\n",
       "      <td>2</td>\n",
       "      <td>72287</td>\n",
       "      <td>21</td>\n",
       "      <td>1</td>\n",
       "      <td>19</td>\n",
       "      <td>128</td>\n",
       "      <td>10</td>\n",
       "      <td>4</td>\n",
       "      <td>0</td>\n",
       "      <td>0</td>\n",
       "    </tr>\n",
       "    <tr>\n",
       "      <th>3</th>\n",
       "      <td>3</td>\n",
       "      <td>78477</td>\n",
       "      <td>15</td>\n",
       "      <td>1</td>\n",
       "      <td>13</td>\n",
       "      <td>111</td>\n",
       "      <td>10</td>\n",
       "      <td>4</td>\n",
       "      <td>0</td>\n",
       "      <td>0</td>\n",
       "    </tr>\n",
       "    <tr>\n",
       "      <th>4</th>\n",
       "      <td>4</td>\n",
       "      <td>123080</td>\n",
       "      <td>12</td>\n",
       "      <td>1</td>\n",
       "      <td>13</td>\n",
       "      <td>328</td>\n",
       "      <td>10</td>\n",
       "      <td>4</td>\n",
       "      <td>0</td>\n",
       "      <td>0</td>\n",
       "    </tr>\n",
       "  </tbody>\n",
       "</table>\n",
       "</div>"
      ],
      "text/plain": [
       "   click_id      ip  app  device  os  channel  days  hours  minutes  seconds\n",
       "0         0    5744    9       1   3      107    10      4        0        0\n",
       "1         1  119901    9       1   3      466    10      4        0        0\n",
       "2         2   72287   21       1  19      128    10      4        0        0\n",
       "3         3   78477   15       1  13      111    10      4        0        0\n",
       "4         4  123080   12       1  13      328    10      4        0        0"
      ]
     },
     "execution_count": 49,
     "metadata": {},
     "output_type": "execute_result"
    }
   ],
   "source": [
    "df_test.head()"
   ]
  },
  {
   "cell_type": "code",
   "execution_count": 50,
   "metadata": {},
   "outputs": [
    {
     "name": "stdout",
     "output_type": "stream",
     "text": [
      "Training target correctly extracted.\n",
      "Data was correctly merged\n"
     ]
    }
   ],
   "source": [
    "#df for submit\n",
    "df_submit = pd.DataFrame()\n",
    "df_submit['click_id'] = df_test['click_id']\n",
    "\n",
    "#Extracting learning data\n",
    "Learning_Y = df_train_30m['is_attributed']\n",
    "print('Training target correctly extracted.')\n",
    "\n",
    "#drop zone\n",
    "df_test = df_test.drop(['click_id', 'days'], axis=1)\n",
    "df_train_30m = df_train_30m.drop(['is_attributed'], axis=1)\n",
    "gc.collect();\n",
    "\n",
    "df_merge = pd.concat([df_train_30m, df_test])\n",
    "del df_train_30m, df_test\n",
    "gc.collect();\n",
    "print('Data was correctly merged')"
   ]
  },
  {
   "cell_type": "code",
   "execution_count": 51,
   "metadata": {},
   "outputs": [
    {
     "name": "stdout",
     "output_type": "stream",
     "text": [
      "Loaded counts for all features with 21.108 seconds\n"
     ]
    }
   ],
   "source": [
    "# Count all features except device for both train and test df \n",
    "start_time = time.time()\n",
    "columns = df_merge.columns\n",
    "columns = [i for i in columns if i != 'app' and i != 'device' and i != 'os' and\n",
    "           i != 'channel' and i != 'days' and i != 'hours' and i != 'minutes' and i != 'seconds']\n",
    "\n",
    "for col in columns:\n",
    "    df_count = df_merge[col].value_counts().reset_index(name=col+'_count')\n",
    "    df_count.columns = [col, col+'_count']\n",
    "#print('Starting to merge with main dataset...')\n",
    "    df_merge = df_merge.merge(df_count, on=col, how='left', sort=False)\n",
    "    df_merge[col+'_count'] = df_merge[col+'_count'].astype('uint16')\n",
    "#print('Merging operation completed.')\n",
    "    del df_count\n",
    "    \n",
    "print('Loaded counts for all features with {} seconds'.format(round(time.time() - start_time, 3)))"
   ]
  },
  {
   "cell_type": "code",
   "execution_count": 52,
   "metadata": {},
   "outputs": [],
   "source": [
    "gc.collect();\n",
    "\n",
    "df_train = df_merge[:train_record_index]\n",
    "df_test = df_merge[train_record_index:]\n",
    "\n",
    "del df_merge\n",
    "gc.collect();"
   ]
  },
  {
   "cell_type": "code",
   "execution_count": 53,
   "metadata": {},
   "outputs": [
    {
     "data": {
      "text/html": [
       "<div>\n",
       "<style scoped>\n",
       "    .dataframe tbody tr th:only-of-type {\n",
       "        vertical-align: middle;\n",
       "    }\n",
       "\n",
       "    .dataframe tbody tr th {\n",
       "        vertical-align: top;\n",
       "    }\n",
       "\n",
       "    .dataframe thead th {\n",
       "        text-align: right;\n",
       "    }\n",
       "</style>\n",
       "<table border=\"1\" class=\"dataframe\">\n",
       "  <thead>\n",
       "    <tr style=\"text-align: right;\">\n",
       "      <th></th>\n",
       "      <th>ip</th>\n",
       "      <th>app</th>\n",
       "      <th>device</th>\n",
       "      <th>os</th>\n",
       "      <th>channel</th>\n",
       "      <th>hours</th>\n",
       "      <th>minutes</th>\n",
       "      <th>seconds</th>\n",
       "      <th>ip_count</th>\n",
       "    </tr>\n",
       "  </thead>\n",
       "  <tbody>\n",
       "    <tr>\n",
       "      <th>0</th>\n",
       "      <td>103022</td>\n",
       "      <td>3</td>\n",
       "      <td>1</td>\n",
       "      <td>23</td>\n",
       "      <td>379</td>\n",
       "      <td>14</td>\n",
       "      <td>37</td>\n",
       "      <td>44</td>\n",
       "      <td>1042</td>\n",
       "    </tr>\n",
       "    <tr>\n",
       "      <th>1</th>\n",
       "      <td>114221</td>\n",
       "      <td>3</td>\n",
       "      <td>1</td>\n",
       "      <td>19</td>\n",
       "      <td>379</td>\n",
       "      <td>14</td>\n",
       "      <td>37</td>\n",
       "      <td>59</td>\n",
       "      <td>603</td>\n",
       "    </tr>\n",
       "    <tr>\n",
       "      <th>2</th>\n",
       "      <td>47902</td>\n",
       "      <td>3</td>\n",
       "      <td>1</td>\n",
       "      <td>17</td>\n",
       "      <td>379</td>\n",
       "      <td>14</td>\n",
       "      <td>48</td>\n",
       "      <td>7</td>\n",
       "      <td>1051</td>\n",
       "    </tr>\n",
       "    <tr>\n",
       "      <th>3</th>\n",
       "      <td>23550</td>\n",
       "      <td>3</td>\n",
       "      <td>1</td>\n",
       "      <td>13</td>\n",
       "      <td>379</td>\n",
       "      <td>14</td>\n",
       "      <td>53</td>\n",
       "      <td>39</td>\n",
       "      <td>700</td>\n",
       "    </tr>\n",
       "    <tr>\n",
       "      <th>4</th>\n",
       "      <td>84644</td>\n",
       "      <td>3</td>\n",
       "      <td>1</td>\n",
       "      <td>19</td>\n",
       "      <td>379</td>\n",
       "      <td>14</td>\n",
       "      <td>56</td>\n",
       "      <td>49</td>\n",
       "      <td>14689</td>\n",
       "    </tr>\n",
       "  </tbody>\n",
       "</table>\n",
       "</div>"
      ],
      "text/plain": [
       "       ip  app  device  os  channel  hours  minutes  seconds  ip_count\n",
       "0  103022    3       1  23      379     14       37       44      1042\n",
       "1  114221    3       1  19      379     14       37       59       603\n",
       "2   47902    3       1  17      379     14       48        7      1051\n",
       "3   23550    3       1  13      379     14       53       39       700\n",
       "4   84644    3       1  19      379     14       56       49     14689"
      ]
     },
     "execution_count": 53,
     "metadata": {},
     "output_type": "execute_result"
    }
   ],
   "source": [
    "df_train.head()"
   ]
  },
  {
   "cell_type": "markdown",
   "metadata": {},
   "source": [
    "# Machine Learning"
   ]
  },
  {
   "cell_type": "code",
   "execution_count": 10,
   "metadata": {},
   "outputs": [],
   "source": [
    "from sklearn import model_selection\n",
    "from sklearn.metrics import roc_auc_score\n",
    "from sklearn.metrics import roc_curve\n",
    "from sklearn.metrics import f1_score\n",
    "from sklearn.metrics import confusion_matrix\n",
    "\n",
    "# Separating training data in train and cross-validation\n",
    "train_idx, test_idx = model_selection.StratifiedKFold(n_splits=2).split(df_train, Learning_Y)\n",
    "\n",
    "X_train = df_train.iloc[train_idx[:1]]\n",
    "Y_train = Learning_Y.iloc[train_idx[:1]]\n",
    "\n",
    "X_cv = df_train.iloc[test_idx[:1]]\n",
    "Y_cv = Learning_Y.iloc[test_idx[:1]]"
   ]
  },
  {
   "cell_type": "markdown",
   "metadata": {},
   "source": [
    "## 1. Baseline"
   ]
  },
  {
   "cell_type": "code",
   "execution_count": 53,
   "metadata": {},
   "outputs": [],
   "source": [
    "# Selecting the features\n",
    "param = X_train.columns\n",
    "param = [i for i in param if i != 'ip' and i != 'app_count' and i != 'os_count' and i != 'channel_count']\n",
    "X = X_train[param]\n",
    "XX_cv = X_cv[param]"
   ]
  },
  {
   "cell_type": "code",
   "execution_count": 54,
   "metadata": {},
   "outputs": [
    {
     "name": "stdout",
     "output_type": "stream",
     "text": [
      "Starting to fit Random Forest Model... The machine is learning...\n",
      "The machine heas learned.\n",
      "RandomForest has fitted df_train_30m with 197 seconds\n"
     ]
    }
   ],
   "source": [
    "# Start of Random Forest Implementation\n",
    "from sklearn.ensemble import RandomForestClassifier\n",
    "\n",
    "print('Starting to fit Random Forest Model... The machine is learning...')\n",
    "start_time = time.time()\n",
    "rf = RandomForestClassifier(n_estimators=13, max_depth=13, verbose=0, n_jobs = -1)\n",
    "rf = rf.fit(X, Y_train)\n",
    "print('The machine has learned.')\n",
    "print('RandomForest has fitted df_train_30m with {} seconds'.format(round(time.time() - start_time), 3))"
   ]
  },
  {
   "cell_type": "markdown",
   "metadata": {},
   "source": [
    "### 1.1. Evaluating"
   ]
  },
  {
   "cell_type": "code",
   "execution_count": 15,
   "metadata": {},
   "outputs": [],
   "source": [
    "from matplotlib.font_manager import FontProperties\n",
    "import seaborn as sns\n",
    "import pickle\n",
    "import itertools\n",
    "%matplotlib inline\n",
    "\n",
    "import statsmodels.api as sm\n",
    "import statsmodels.formula.api as smf\n",
    "\n",
    "def plot_confusion_matrix(cm, classes,\n",
    "                          normalize=False,\n",
    "                          title='Confusion matrix',\n",
    "                          cmap=plt.cm.Blues):\n",
    "    \"\"\"\n",
    "    This function prints and plots the confusion matrix.\n",
    "    Normalization can be applied by setting `normalize=True`.\n",
    "    \"\"\"\n",
    "\n",
    "    plt.imshow(cm, interpolation='nearest', cmap=cmap, aspect='auto')\n",
    "    plt.title(title)\n",
    "    plt.colorbar()\n",
    "    tick_marks = np.arange(len(classes))\n",
    "    plt.xticks(tick_marks, classes, rotation=45)\n",
    "    plt.yticks(tick_marks, classes)\n",
    "    \n",
    "    if normalize:\n",
    "        cm = cm.astype('float') / cm.sum(axis=1)[:, np.newaxis]\n",
    "        print(\"Normalized confusion matrix\")\n",
    "    else:\n",
    "        print('Confusion matrix, without normalization')\n",
    "\n",
    "    print(cm)\n",
    "\n",
    "    thresh = cm.max() / 2.\n",
    "    for i, j in itertools.product(range(cm.shape[0]), range(cm.shape[1])):\n",
    "        plt.text(j, i, cm[i, j],\n",
    "                 horizontalalignment=\"center\",\n",
    "                 color=\"white\" if cm[i, j] > thresh else \"black\")\n",
    "\n",
    "    plt.tight_layout()\n",
    "    plt.ylabel('True label')\n",
    "    plt.xlabel('Predicted label')\n",
    "\n",
    "def clf_eval(clf, X, y_true, classes=['Não baixou', 'Baixou'], normalize=False):\n",
    "    y_pred = clf.predict(X)\n",
    "    clf_matrix = confusion_matrix(y_true, y_pred)\n",
    "    print('Classification Report')\n",
    "    print(classification_report(y_true, y_pred, target_names=classes))\n",
    "    print('ROC Score: {}'.format(roc_auc_score(y_true, y_pred)))\n",
    "    print('Accuracy Score: {}'.format(accuracy_score(y_true, y_pred)))\n",
    "    print('Average Precision Score: {}'.format(average_precision_score(y_true, y_pred)))\n",
    "    print('f1 Score: {}'.format(f1_score(y_true, y_pred)))\n",
    "    plot_confusion_matrix(clf_matrix, classes=classes, normalize=normalize)\n",
    "    \n",
    "    return roc_auc_score(y_true, y_pred)"
   ]
  },
  {
   "cell_type": "code",
   "execution_count": 56,
   "metadata": {},
   "outputs": [
    {
     "name": "stdout",
     "output_type": "stream",
     "text": [
      "Classification Report\n",
      "             precision    recall  f1-score   support\n",
      "\n",
      " Não baixou       1.00      1.00      1.00   9222278\n",
      "     Baixou       0.78      0.44      0.56     22916\n",
      "\n",
      "avg / total       1.00      1.00      1.00   9245194\n",
      "\n",
      "ROC Score: 0.7176886677284131\n",
      "Accuracy Score: 0.9983011713978095\n",
      "Average Precision Score: 0.3423464558521833\n",
      "f1 Score: 0.5597353815103436\n",
      "Normalized confusion matrix\n",
      "[[9.99699207e-01 3.00793361e-04]\n",
      " [5.64321871e-01 4.35678129e-01]]\n"
     ]
    },
    {
     "data": {
      "image/png": "[encoded data removed]",
      "text/plain": [
       "<matplotlib.figure.Figure at 0x1c159070f0>"
      ]
     },
     "metadata": {},
     "output_type": "display_data"
    }
   ],
   "source": [
    "from sklearn.metrics import classification_report\n",
    "from sklearn.metrics import accuracy_score\n",
    "from sklearn.metrics import average_precision_score\n",
    "\n",
    "roc_bl = clf_eval(rf, XX_cv, Y_cv, normalize=True)"
   ]
  },
  {
   "cell_type": "markdown",
   "metadata": {},
   "source": [
    "## 2. Just counts"
   ]
  },
  {
   "cell_type": "markdown",
   "metadata": {},
   "source": [
    "Primeira tentaiva de melhora será dropar as colunas com os dados em si e usar apenas a contagem"
   ]
  },
  {
   "cell_type": "code",
   "execution_count": 57,
   "metadata": {},
   "outputs": [],
   "source": [
    "# Selecting the features\n",
    "param = X_train.columns\n",
    "param = [i for i in param if i != 'ip' and i != 'app' and i != 'os' and i != 'channel' and i != 'device']\n",
    "X = X_train[param]\n",
    "XX_cv = X_cv[param]"
   ]
  },
  {
   "cell_type": "code",
   "execution_count": 58,
   "metadata": {},
   "outputs": [
    {
     "name": "stdout",
     "output_type": "stream",
     "text": [
      "Starting to fit Random Forest Model... The machine is learning...\n",
      "The machine has learned.\n",
      "RandomForest has fitted df_train_30m with 214 seconds\n"
     ]
    }
   ],
   "source": [
    "# Start of Random Forest Implementation\n",
    "\n",
    "print('Starting to fit Random Forest Model... The machine is learning...')\n",
    "start_time = time.time()\n",
    "rf = RandomForestClassifier(n_estimators=13, max_depth=13, verbose=0, n_jobs = -1)\n",
    "rf = rf.fit(X, Y_train)\n",
    "print('The machine has learned.')\n",
    "print('RandomForest has fitted df_train_30m with {} seconds'.format(round(time.time() - start_time), 3))"
   ]
  },
  {
   "cell_type": "markdown",
   "metadata": {},
   "source": [
    "### 2.1 Evaluating "
   ]
  },
  {
   "cell_type": "code",
   "execution_count": 59,
   "metadata": {},
   "outputs": [
    {
     "name": "stdout",
     "output_type": "stream",
     "text": [
      "Classification Report\n",
      "             precision    recall  f1-score   support\n",
      "\n",
      " Não baixou       1.00      1.00      1.00   9222278\n",
      "     Baixou       0.79      0.39      0.52     22916\n",
      "\n",
      "avg / total       1.00      1.00      1.00   9245194\n",
      "\n",
      "ROC Score: 0.6930793502065126\n",
      "Accuracy Score: 0.9982271870119762\n",
      "Average Precision Score: 0.30746434784684784\n",
      "f1 Score: 0.5193548387096774\n",
      "Normalized confusion matrix\n",
      "[[9.99747459e-01 2.52540641e-04]\n",
      " [6.13588759e-01 3.86411241e-01]]\n"
     ]
    },
    {
     "data": {
      "image/png": "[encoded data removed]",
      "text/plain": [
       "<matplotlib.figure.Figure at 0x1c15839c50>"
      ]
     },
     "metadata": {},
     "output_type": "display_data"
    }
   ],
   "source": [
    "roc_counts = clf_eval(rf, XX_cv, Y_cv, normalize=True)"
   ]
  },
  {
   "cell_type": "markdown",
   "metadata": {},
   "source": [
    "## 3. Undersampling"
   ]
  },
  {
   "cell_type": "code",
   "execution_count": 11,
   "metadata": {},
   "outputs": [
    {
     "name": "stdout",
     "output_type": "stream",
     "text": [
      "<class 'pandas.core.frame.DataFrame'>\n",
      "Int64Index: 45832 entries, 22916 to 91663\n",
      "Data columns (total 11 columns):\n",
      "ip               45832 non-null int64\n",
      "app              45832 non-null int64\n",
      "device           45832 non-null int64\n",
      "os               45832 non-null int64\n",
      "channel          45832 non-null int64\n",
      "hours            45832 non-null int64\n",
      "seconds          45832 non-null int64\n",
      "ip_count         45832 non-null int64\n",
      "app_count        45832 non-null int64\n",
      "os_count         45832 non-null int64\n",
      "channel_count    45832 non-null int64\n",
      "dtypes: int64(11)\n",
      "memory usage: 4.2 MB\n"
     ]
    }
   ],
   "source": [
    "from imblearn.under_sampling import RandomUnderSampler\n",
    "\n",
    "rus = RandomUnderSampler(return_indices=True)\n",
    "X_resampled, Y_resampled, idx_resampled = rus.fit_sample(df_train, Learning_Y)\n",
    "\n",
    "X_resampled = pd.DataFrame(X_resampled, columns=df_train.columns)\n",
    "Y_resampled = pd.DataFrame(Y_resampled, columns=['is_attributed'])\n",
    "\n",
    "train_idx, test_idx = model_selection.StratifiedKFold(n_splits=2).split(X_resampled, Y_resampled)\n",
    "\n",
    "X_train = X_resampled.iloc[train_idx[:1]]\n",
    "Y_train = Y_resampled.iloc[train_idx[:1]]\n",
    "\n",
    "X_cv = X_resampled.iloc[test_idx[:1]]\n",
    "Y_cv = Y_resampled.iloc[test_idx[:1]]\n",
    "\n",
    "X_train.info()"
   ]
  },
  {
   "cell_type": "markdown",
   "metadata": {},
   "source": [
    "Note que mesmo após o undersampling ficamos com uma boa quantidade de dados, graças ao tamanho da base de dados original. Após feito o undersampling, vamos tentar várias features diferentes"
   ]
  },
  {
   "cell_type": "markdown",
   "metadata": {},
   "source": [
    "### 3.1 Fitting (baseline)"
   ]
  },
  {
   "cell_type": "code",
   "execution_count": 13,
   "metadata": {},
   "outputs": [
    {
     "name": "stdout",
     "output_type": "stream",
     "text": [
      "Starting to fit Random Forest Model... The machine is learning...\n",
      "The machine has learned.\n",
      "RandomForest has fitted df_train_30m with 0 seconds\n"
     ]
    }
   ],
   "source": [
    "# Selecting the features (baseline)\n",
    "from sklearn.ensemble import RandomForestClassifier\n",
    "\n",
    "param = X_train.columns\n",
    "param = [i for i in param if i != 'ip' and i != 'app_count' and i != 'os_count' and i != 'channel_count']\n",
    "X = X_train[param]\n",
    "XX_cv = X_cv[param]\n",
    "\n",
    "# Start of Random Forest Implementation\n",
    "\n",
    "print('Starting to fit Random Forest Model... The machine is learning...')\n",
    "start_time = time.time()\n",
    "rf = RandomForestClassifier(n_estimators=13, max_depth=13, verbose=0, n_jobs = -1)\n",
    "rf = rf.fit(X, Y_train['is_attributed'])\n",
    "print('The machine has learned.')\n",
    "print('RandomForest has fitted df_train_30m with {} seconds'.format(round(time.time() - start_time), 3))"
   ]
  },
  {
   "cell_type": "markdown",
   "metadata": {},
   "source": [
    "#### 3.1 Evaluating (baseline)"
   ]
  },
  {
   "cell_type": "code",
   "execution_count": 17,
   "metadata": {},
   "outputs": [
    {
     "name": "stdout",
     "output_type": "stream",
     "text": [
      "Classification Report\n",
      "             precision    recall  f1-score   support\n",
      "\n",
      " Não baixou       0.88      0.97      0.92     22916\n",
      "     Baixou       0.97      0.87      0.92     22916\n",
      "\n",
      "avg / total       0.92      0.92      0.92     45832\n",
      "\n",
      "ROC Score: 0.9196412986559609\n",
      "Accuracy Score: 0.9196412986559609\n",
      "Average Precision Score: 0.9052339730665426\n",
      "f1 Score: 0.9154635389170702\n",
      "Normalized confusion matrix\n",
      "[[0.96906092 0.03093908]\n",
      " [0.12977832 0.87022168]]\n"
     ]
    },
    {
     "data": {
      "image/png": "[encoded data removed]",
      "text/plain": [
       "<matplotlib.figure.Figure at 0x1c10251c18>"
      ]
     },
     "metadata": {},
     "output_type": "display_data"
    }
   ],
   "source": [
    "from sklearn.metrics import classification_report\n",
    "from sklearn.metrics import accuracy_score\n",
    "from sklearn.metrics import average_precision_score\n",
    "\n",
    "roc_usample_bl = clf_eval(rf, XX_cv, Y_cv, normalize=True)"
   ]
  },
  {
   "cell_type": "markdown",
   "metadata": {},
   "source": [
    "### 3.2 Fitting (counts)"
   ]
  },
  {
   "cell_type": "code",
   "execution_count": 158,
   "metadata": {},
   "outputs": [
    {
     "name": "stdout",
     "output_type": "stream",
     "text": [
      "Starting to fit Random Forest Model... The machine is learning...\n",
      "The machine has learned.\n",
      "RandomForest has fitted df_train_30m with 0 seconds\n"
     ]
    }
   ],
   "source": [
    "# Selecting the features\n",
    "param = X_train.columns\n",
    "param = [i for i in param if i != 'ip' and i != 'app' and i != 'os' and i != 'channel' and i != 'device']\n",
    "X = X_train[param]\n",
    "XX_cv = X_cv[param]\n",
    "\n",
    "# Start of Random Forest Implementation\n",
    "\n",
    "print('Starting to fit Random Forest Model... The machine is learning...')\n",
    "start_time = time.time()\n",
    "rf = RandomForestClassifier(n_estimators=13, max_depth=13, verbose=0, n_jobs = -1)\n",
    "rf = rf.fit(X, Y_train['is_attributed'])\n",
    "print('The machine has learned.')\n",
    "print('RandomForest has fitted df_train_30m with {} seconds'.format(round(time.time() - start_time), 3))"
   ]
  },
  {
   "cell_type": "markdown",
   "metadata": {},
   "source": [
    "#### 3.2.1 Evaluating (counts)"
   ]
  },
  {
   "cell_type": "code",
   "execution_count": 159,
   "metadata": {},
   "outputs": [
    {
     "name": "stdout",
     "output_type": "stream",
     "text": [
      "Classification Report\n",
      "             precision    recall  f1-score   support\n",
      "\n",
      " Não baixou       0.89      0.96      0.92     22916\n",
      "     Baixou       0.96      0.88      0.92     22916\n",
      "\n",
      "avg / total       0.92      0.92      0.92     45832\n",
      "\n",
      "ROC Score: 0.9202085878861931\n",
      "Accuracy Score: 0.9202085878861931\n",
      "Average Precision Score: 0.9033512778988774\n",
      "f1 Score: 0.9166115608254475\n",
      "Normalized confusion matrix\n",
      "[[0.96334439 0.03665561]\n",
      " [0.12292721 0.87707279]]\n"
     ]
    },
    {
     "data": {
      "image/png": "[encoded data removed]",
      "text/plain": [
       "<matplotlib.figure.Figure at 0x1c0dfbf748>"
      ]
     },
     "metadata": {},
     "output_type": "display_data"
    }
   ],
   "source": [
    "roc_usample_counts = clf_eval(rf, XX_cv, Y_cv, normalize=True)"
   ]
  },
  {
   "cell_type": "markdown",
   "metadata": {},
   "source": [
    "## 3.3 Try adding information about time"
   ]
  },
  {
   "cell_type": "code",
   "execution_count": 33,
   "metadata": {},
   "outputs": [
    {
     "name": "stdout",
     "output_type": "stream",
     "text": [
      "Finish creating new feature in 1608 seconds\n"
     ]
    }
   ],
   "source": [
    "start_time = time.time()\n",
    "\n",
    "df_merge = pd.concat([df_train, df_test])\n",
    "# del df_train, df_test\n",
    "ips = X_resampled.ip.unique()\n",
    "dic = []\n",
    "\n",
    "for ip in ips:\n",
    "    temp = df_merge[df_merge.ip == ip]\n",
    "    temp.seconds = temp.hours*3600 + temp.seconds\n",
    "    temp.seconds = temp.minutes*60 + temp.seconds\n",
    "    temp = temp.drop(['hours', 'minutes'], axis=1)\n",
    "    average = abs(temp.seconds - temp.seconds.shift(-1)).mean()\n",
    "    dic.append([ip, average])\n",
    "    #if temp.seconds.value_counts().iloc[0] == 1:\n",
    "    #    dic.append([ip, 0])\n",
    "    #else:\n",
    "    #    average = abs(temp.seconds - temp.seconds.shift(-1))\n",
    "    #    average = average.mean()\n",
    "    #    dic.append([ip, average])\n",
    "    del temp\n",
    "    \n",
    "print('Finish creating new feature in {} seconds'.format(round(time.time() - start_time), 3))"
   ]
  },
  {
   "cell_type": "code",
   "execution_count": 55,
   "metadata": {},
   "outputs": [],
   "source": [
    "dic = pd.DataFrame(dic, columns=['ip', 'delta_seconds'])\n",
    "X_resampled = X_resampled.merge(dic, on='ip', how='left')\n",
    "X_resampled.head()"
   ]
  },
  {
   "cell_type": "code",
   "execution_count": 58,
   "metadata": {},
   "outputs": [],
   "source": [
    "# Selecting the features\n",
    "param = X_resampled.columns\n",
    "param = [i for i in param if i != 'ip' and i != 'app_count' and i != 'os_count' and i != 'channel_count']\n",
    "X = X_resampled[param]\n",
    "\n",
    "#Getting cross validation dataframe\n",
    "train_idx, test_idx = model_selection.StratifiedKFold(n_splits=2).split(X, Y_resampled)"
   ]
  },
  {
   "cell_type": "code",
   "execution_count": 59,
   "metadata": {},
   "outputs": [
    {
     "name": "stdout",
     "output_type": "stream",
     "text": [
      "Starting to fit Random Forest Model with different train/cv data sets... The machine is learning...\n",
      "The machine has learned.\n",
      "RandomForest has fitted df_train_30m with 0 seconds\n"
     ]
    }
   ],
   "source": [
    "print('Starting to fit Random Forest Model with different train/cv data sets... The machine is learning...')\n",
    "start_time = time.time()\n",
    "#dic = {}\n",
    "#for i in range(1,10):\n",
    "X_train = X.iloc[train_idx[:1]]\n",
    "Y_train = Y_resampled.iloc[train_idx[:1]]\n",
    "\n",
    "X_cv = X.iloc[test_idx[:1]]\n",
    "Y_cv = Y_resampled.iloc[test_idx[:1]]\n",
    "    \n",
    "    # Start of Random Forest Implementation\n",
    "rf = RandomForestClassifier(n_estimators=13, max_depth=13, verbose=0, n_jobs = -1)\n",
    "rf = rf.fit(X_train, Y_train['is_attributed'])\n",
    "print('The machine has learned.')\n",
    "    \n",
    "print('RandomForest has fitted df_train_30m with {} seconds'.format(round(time.time() - start_time), 3))"
   ]
  },
  {
   "cell_type": "code",
   "execution_count": 60,
   "metadata": {},
   "outputs": [
    {
     "name": "stdout",
     "output_type": "stream",
     "text": [
      "Classification Report\n",
      "             precision    recall  f1-score   support\n",
      "\n",
      " Não baixou       0.88      0.97      0.92     22916\n",
      "     Baixou       0.97      0.86      0.91     22916\n",
      "\n",
      "avg / total       0.92      0.92      0.92     45832\n",
      "\n",
      "ROC Score: 0.9174812358177694\n",
      "Accuracy Score: 0.9174812358177692\n",
      "Average Precision Score: 0.904603847757286\n",
      "f1 Score: 0.9126720236445922\n",
      "Normalized confusion matrix\n",
      "[[0.97255193 0.02744807]\n",
      " [0.13758946 0.86241054]]\n"
     ]
    },
    {
     "data": {
      "image/png": "[encoded data removed]",
      "text/plain": [
       "<matplotlib.figure.Figure at 0x1c1301a4e0>"
      ]
     },
     "metadata": {},
     "output_type": "display_data"
    }
   ],
   "source": [
    "roc_usample_counts = clf_eval(rf, X_cv, Y_cv, normalize=True)"
   ]
  },
  {
   "cell_type": "markdown",
   "metadata": {},
   "source": [
    "## 2. Using only data from last day to train"
   ]
  },
  {
   "cell_type": "code",
   "execution_count": 112,
   "metadata": {},
   "outputs": [
    {
     "name": "stdout",
     "output_type": "stream",
     "text": [
      "Load df_train_30m with 18.537 seconds\n"
     ]
    }
   ],
   "source": [
    "train_columns = ['ip', 'app', 'device', 'os', 'channel', 'hours', 'days', 'seconds', 'is_attributed']\n",
    "\n",
    "# Importing data\n",
    "start_time = time.time()\n",
    "df_train_30m = pd.read_csv(path + '10_train_timed.csv', dtype=dtypes, usecols=train_columns)\n",
    "print('Load df_train_30m with {} seconds'.format(round(time.time() - start_time, 3)))"
   ]
  },
  {
   "cell_type": "code",
   "execution_count": 113,
   "metadata": {},
   "outputs": [
    {
     "name": "stdout",
     "output_type": "stream",
     "text": [
      "Load df_test with 19.108 seconds\n"
     ]
    }
   ],
   "source": [
    "# Load testing df\n",
    "start_time = time.time()\n",
    "df_test = pd.read_csv(path + 'test_timed.csv', dtype=dtypes)\n",
    "print('Load df_test with {} seconds'.format(round(time.time() - start_time, 3)))\n",
    "\n"
   ]
  },
  {
   "cell_type": "code",
   "execution_count": 107,
   "metadata": {},
   "outputs": [
    {
     "data": {
      "text/plain": [
       "array([6, 7, 8, 9])"
      ]
     },
     "execution_count": 107,
     "metadata": {},
     "output_type": "execute_result"
    }
   ],
   "source": [
    "df_train_30m.days.unique()"
   ]
  },
  {
   "cell_type": "code",
   "execution_count": 114,
   "metadata": {},
   "outputs": [
    {
     "name": "stdout",
     "output_type": "stream",
     "text": [
      "Training target correctly extracted.\n"
     ]
    }
   ],
   "source": [
    "#Only last day\n",
    "df_train_30m = df_train_30m[df_train_30m.days == 9]\n",
    "train_record_index = df_train_30m.shape[0]\n",
    "\n",
    "#Extracting learning data\n",
    "Learning_Y = df_train_30m['is_attributed']\n",
    "print('Training target correctly extracted.')\n",
    "\n",
    "#drop zone\n",
    "df_test = df_test.drop(['click_id', 'days', 'minutes'], axis=1)\n",
    "df_train_30m = df_train_30m.drop(['is_attributed', 'days'], axis=1)\n",
    "gc.collect();\n",
    "\n"
   ]
  },
  {
   "cell_type": "code",
   "execution_count": 115,
   "metadata": {},
   "outputs": [
    {
     "data": {
      "text/html": [
       "<div>\n",
       "<style scoped>\n",
       "    .dataframe tbody tr th:only-of-type {\n",
       "        vertical-align: middle;\n",
       "    }\n",
       "\n",
       "    .dataframe tbody tr th {\n",
       "        vertical-align: top;\n",
       "    }\n",
       "\n",
       "    .dataframe thead th {\n",
       "        text-align: right;\n",
       "    }\n",
       "</style>\n",
       "<table border=\"1\" class=\"dataframe\">\n",
       "  <thead>\n",
       "    <tr style=\"text-align: right;\">\n",
       "      <th></th>\n",
       "      <th>ip</th>\n",
       "      <th>app</th>\n",
       "      <th>device</th>\n",
       "      <th>os</th>\n",
       "      <th>channel</th>\n",
       "      <th>hours</th>\n",
       "      <th>seconds</th>\n",
       "    </tr>\n",
       "  </thead>\n",
       "  <tbody>\n",
       "    <tr>\n",
       "      <th>0</th>\n",
       "      <td>5744</td>\n",
       "      <td>9</td>\n",
       "      <td>1</td>\n",
       "      <td>3</td>\n",
       "      <td>107</td>\n",
       "      <td>4</td>\n",
       "      <td>0</td>\n",
       "    </tr>\n",
       "    <tr>\n",
       "      <th>1</th>\n",
       "      <td>119901</td>\n",
       "      <td>9</td>\n",
       "      <td>1</td>\n",
       "      <td>3</td>\n",
       "      <td>466</td>\n",
       "      <td>4</td>\n",
       "      <td>0</td>\n",
       "    </tr>\n",
       "    <tr>\n",
       "      <th>2</th>\n",
       "      <td>72287</td>\n",
       "      <td>21</td>\n",
       "      <td>1</td>\n",
       "      <td>19</td>\n",
       "      <td>128</td>\n",
       "      <td>4</td>\n",
       "      <td>0</td>\n",
       "    </tr>\n",
       "    <tr>\n",
       "      <th>3</th>\n",
       "      <td>78477</td>\n",
       "      <td>15</td>\n",
       "      <td>1</td>\n",
       "      <td>13</td>\n",
       "      <td>111</td>\n",
       "      <td>4</td>\n",
       "      <td>0</td>\n",
       "    </tr>\n",
       "    <tr>\n",
       "      <th>4</th>\n",
       "      <td>123080</td>\n",
       "      <td>12</td>\n",
       "      <td>1</td>\n",
       "      <td>13</td>\n",
       "      <td>328</td>\n",
       "      <td>4</td>\n",
       "      <td>0</td>\n",
       "    </tr>\n",
       "  </tbody>\n",
       "</table>\n",
       "</div>"
      ],
      "text/plain": [
       "       ip  app  device  os  channel  hours  seconds\n",
       "0    5744    9       1   3      107      4        0\n",
       "1  119901    9       1   3      466      4        0\n",
       "2   72287   21       1  19      128      4        0\n",
       "3   78477   15       1  13      111      4        0\n",
       "4  123080   12       1  13      328      4        0"
      ]
     },
     "execution_count": 115,
     "metadata": {},
     "output_type": "execute_result"
    }
   ],
   "source": [
    "df_test.head()"
   ]
  },
  {
   "cell_type": "code",
   "execution_count": 116,
   "metadata": {},
   "outputs": [
    {
     "name": "stdout",
     "output_type": "stream",
     "text": [
      "<class 'pandas.core.frame.DataFrame'>\n",
      "Int64Index: 5302464 entries, 13187924 to 18490387\n",
      "Data columns (total 7 columns):\n",
      "ip         uint32\n",
      "app        uint16\n",
      "device     uint16\n",
      "os         uint16\n",
      "channel    uint16\n",
      "hours      int64\n",
      "seconds    int64\n",
      "dtypes: int64(2), uint16(4), uint32(1)\n",
      "memory usage: 182.0 MB\n"
     ]
    }
   ],
   "source": [
    "df_train_30m.info()"
   ]
  },
  {
   "cell_type": "code",
   "execution_count": 117,
   "metadata": {},
   "outputs": [
    {
     "name": "stdout",
     "output_type": "stream",
     "text": [
      "Data was correctly merged\n"
     ]
    }
   ],
   "source": [
    "df_merge = pd.concat([df_train_30m, df_test])\n",
    "del df_train_30m, df_test\n",
    "gc.collect();\n",
    "print('Data was correctly merged')"
   ]
  },
  {
   "cell_type": "code",
   "execution_count": 118,
   "metadata": {},
   "outputs": [
    {
     "name": "stdout",
     "output_type": "stream",
     "text": [
      "Loaded counts for all features with 39.865 seconds\n"
     ]
    }
   ],
   "source": [
    "# Count all features except device for both train and test df \n",
    "start_time = time.time()\n",
    "columns = df_merge.columns\n",
    "columns = [i for i in columns if i != 'device']\n",
    "\n",
    "for col in columns:\n",
    "    df_count = df_merge[col].value_counts().reset_index(name=col+'_count')\n",
    "    df_count.columns = [col, col+'_count']\n",
    "#print('Starting to merge with main dataset...')\n",
    "    df_merge = df_merge.merge(df_count, on=col, how='left', sort=False)\n",
    "    df_merge[col+'_count'] = df_merge[col+'_count'].astype('uint16')\n",
    "#print('Merging operation completed.')\n",
    "    del df_count\n",
    "    \n",
    "print('Loaded counts for all features with {} seconds'.format(round(time.time() - start_time, 3)))"
   ]
  },
  {
   "cell_type": "code",
   "execution_count": 119,
   "metadata": {},
   "outputs": [],
   "source": [
    "df_merge = df_merge.drop(['hours_count', 'seconds_count'], axis=1)\n",
    "gc.collect();\n",
    "\n",
    "df_train = df_merge[:train_record_index]\n",
    "df_test = df_merge[train_record_index:]\n",
    "\n",
    "del df_merge\n",
    "gc.collect();"
   ]
  },
  {
   "cell_type": "code",
   "execution_count": 120,
   "metadata": {},
   "outputs": [
    {
     "name": "stdout",
     "output_type": "stream",
     "text": [
      "<class 'pandas.core.frame.DataFrame'>\n",
      "Int64Index: 5302464 entries, 0 to 5302463\n",
      "Data columns (total 11 columns):\n",
      "ip               uint32\n",
      "app              uint16\n",
      "device           uint16\n",
      "os               uint16\n",
      "channel          uint16\n",
      "hours            int64\n",
      "seconds          int64\n",
      "ip_count         uint16\n",
      "app_count        uint16\n",
      "os_count         uint16\n",
      "channel_count    uint16\n",
      "dtypes: int64(2), uint16(8), uint32(1)\n",
      "memory usage: 222.5 MB\n"
     ]
    }
   ],
   "source": [
    "df_train.info()"
   ]
  },
  {
   "cell_type": "code",
   "execution_count": 121,
   "metadata": {},
   "outputs": [
    {
     "data": {
      "text/plain": [
       "count    5.302464e+06\n",
       "mean     2.548061e-03\n",
       "std      5.041397e-02\n",
       "min      0.000000e+00\n",
       "25%      0.000000e+00\n",
       "50%      0.000000e+00\n",
       "75%      0.000000e+00\n",
       "max      1.000000e+00\n",
       "Name: is_attributed, dtype: float64"
      ]
     },
     "execution_count": 121,
     "metadata": {},
     "output_type": "execute_result"
    }
   ],
   "source": [
    "Learning_Y.describe()"
   ]
  },
  {
   "cell_type": "markdown",
   "metadata": {},
   "source": [
    "### 2.1 Baseline"
   ]
  },
  {
   "cell_type": "code",
   "execution_count": 122,
   "metadata": {},
   "outputs": [],
   "source": [
    "# Separating training data in train and cross-validation\n",
    "train_idx, test_idx = model_selection.StratifiedKFold(n_splits=2).split(df_train, Learning_Y)\n",
    "\n",
    "X_train = df_train.iloc[train_idx[:1]]\n",
    "Y_train = Learning_Y.iloc[train_idx[:1]]\n",
    "\n",
    "X_cv = df_train.iloc[test_idx[:1]]\n",
    "Y_cv = Learning_Y.iloc[test_idx[:1]]"
   ]
  },
  {
   "cell_type": "code",
   "execution_count": 123,
   "metadata": {},
   "outputs": [],
   "source": [
    "# Selecting the features\n",
    "param = X_train.columns\n",
    "param = [i for i in param if i != 'ip' and i != 'app_count' and i != 'os_count' and i != 'channel_count']\n",
    "X = X_train[param]\n",
    "XX_cv = X_cv[param]"
   ]
  },
  {
   "cell_type": "code",
   "execution_count": 125,
   "metadata": {},
   "outputs": [
    {
     "name": "stdout",
     "output_type": "stream",
     "text": [
      "Starting to fit Random Forest Model... The machine is learning...\n",
      "The machine has learned.\n",
      "RandomForest has fitted df_train_30m with 37 seconds\n"
     ]
    }
   ],
   "source": [
    "# Start of Random Forest Implementation\n",
    "\n",
    "print('Starting to fit Random Forest Model... The machine is learning...')\n",
    "start_time = time.time()\n",
    "rf = RandomForestClassifier(n_estimators=13, max_depth=13, verbose=0, n_jobs = -1)\n",
    "rf = rf.fit(X, Y_train)\n",
    "print('The machine has learned.')\n",
    "print('RandomForest has fitted df_train_30m with {} seconds'.format(round(time.time() - start_time), 3))"
   ]
  },
  {
   "cell_type": "markdown",
   "metadata": {},
   "source": [
    "### 2.1.1 Evaluating"
   ]
  },
  {
   "cell_type": "code",
   "execution_count": 126,
   "metadata": {},
   "outputs": [
    {
     "name": "stdout",
     "output_type": "stream",
     "text": [
      "Classification Report\n",
      "             precision    recall  f1-score   support\n",
      "\n",
      " Não baixou       1.00      1.00      1.00   2644477\n",
      "     Baixou       0.76      0.29      0.42      6756\n",
      "\n",
      "avg / total       1.00      1.00      1.00   2651233\n",
      "\n",
      "ROC Score: 0.6439767240226116\n",
      "Accuracy Score: 0.9979518963440784\n",
      "Average Precision Score: 0.2203117606680864\n",
      "f1 Score: 0.41763191763191765\n",
      "Normalized confusion matrix\n",
      "[[9.99765171e-01 2.34829042e-04]\n",
      " [7.11811723e-01 2.88188277e-01]]\n"
     ]
    },
    {
     "data": {
      "image/png": "[encoded data removed]",
      "text/plain": [
       "<matplotlib.figure.Figure at 0x1c0de1b080>"
      ]
     },
     "metadata": {},
     "output_type": "display_data"
    }
   ],
   "source": [
    "roc_lastday = clf_eval(rf, XX_cv, Y_cv, normalize=True)"
   ]
  },
  {
   "cell_type": "markdown",
   "metadata": {},
   "source": [
    "## 1.3 Undersampling"
   ]
  },
  {
   "cell_type": "code",
   "execution_count": 127,
   "metadata": {},
   "outputs": [],
   "source": [
    "from imblearn.under_sampling import RandomUnderSampler\n",
    "\n",
    "rus = RandomUnderSampler(return_indices=True)\n",
    "X_resampled, Y_resampled, idx_resampled = rus.fit_sample(df_train, Learning_Y)\n",
    "\n",
    "X_resampled = pd.DataFrame(X_resampled, columns=df_train.columns)\n",
    "Y_resampled = pd.DataFrame(Y_resampled, columns=['is_attributed'])\n",
    "\n",
    "train_idx, test_idx = model_selection.StratifiedKFold(n_splits=2).split(X_resampled, Y_resampled)\n",
    "\n",
    "X_train = X_resampled.iloc[train_idx[:1]]\n",
    "Y_train = Y_resampled.iloc[train_idx[:1]]\n",
    "\n",
    "X_cv = X_resampled.iloc[test_idx[:1]]\n",
    "Y_cv = Y_resampled.iloc[test_idx[:1]]"
   ]
  },
  {
   "cell_type": "code",
   "execution_count": 128,
   "metadata": {},
   "outputs": [
    {
     "name": "stdout",
     "output_type": "stream",
     "text": [
      "<class 'pandas.core.frame.DataFrame'>\n",
      "Int64Index: 13510 entries, 6756 to 27021\n",
      "Data columns (total 11 columns):\n",
      "ip               13510 non-null int64\n",
      "app              13510 non-null int64\n",
      "device           13510 non-null int64\n",
      "os               13510 non-null int64\n",
      "channel          13510 non-null int64\n",
      "hours            13510 non-null int64\n",
      "seconds          13510 non-null int64\n",
      "ip_count         13510 non-null int64\n",
      "app_count        13510 non-null int64\n",
      "os_count         13510 non-null int64\n",
      "channel_count    13510 non-null int64\n",
      "dtypes: int64(11)\n",
      "memory usage: 1.2 MB\n"
     ]
    }
   ],
   "source": [
    "X_train.info()"
   ]
  },
  {
   "cell_type": "markdown",
   "metadata": {},
   "source": [
    "Note que mesmo após o undersampling ficamos com uma boa quantidade de dados, graças ao tamanho da base de dados original. Após feito o undersampling, vamos tentar várias features diferentes"
   ]
  },
  {
   "cell_type": "markdown",
   "metadata": {},
   "source": [
    "### 1.3.1 Fitting (baseline)"
   ]
  },
  {
   "cell_type": "code",
   "execution_count": 129,
   "metadata": {},
   "outputs": [],
   "source": [
    "# Selecting the features (baseline)\n",
    "param = X_train.columns\n",
    "param = [i for i in param if i != 'ip' and i != 'app_count' and i != 'os_count' and i != 'channel_count']\n",
    "X = X_train[param]\n",
    "XX_cv = X_cv[param]"
   ]
  },
  {
   "cell_type": "code",
   "execution_count": 130,
   "metadata": {},
   "outputs": [
    {
     "name": "stdout",
     "output_type": "stream",
     "text": [
      "Starting to fit Random Forest Model... The machine is learning...\n",
      "The machine has learned.\n",
      "RandomForest has fitted df_train_30m with 0 seconds\n"
     ]
    }
   ],
   "source": [
    "# Start of Random Forest Implementation\n",
    "\n",
    "print('Starting to fit Random Forest Model... The machine is learning...')\n",
    "start_time = time.time()\n",
    "rf = RandomForestClassifier(n_estimators=13, max_depth=13, verbose=0, n_jobs = -1)\n",
    "rf = rf.fit(X, Y_train['is_attributed'])\n",
    "print('The machine has learned.')\n",
    "print('RandomForest has fitted df_train_30m with {} seconds'.format(round(time.time() - start_time), 3))"
   ]
  },
  {
   "cell_type": "markdown",
   "metadata": {},
   "source": [
    "#### 1.3.1 Evaluating (baseline)"
   ]
  },
  {
   "cell_type": "code",
   "execution_count": 132,
   "metadata": {},
   "outputs": [
    {
     "name": "stdout",
     "output_type": "stream",
     "text": [
      "Classification Report\n",
      "             precision    recall  f1-score   support\n",
      "\n",
      " Não baixou       0.51      0.97      0.67      6756\n",
      "     Baixou       0.71      0.08      0.14      6756\n",
      "\n",
      "avg / total       0.61      0.52      0.41     13512\n",
      "\n",
      "ROC Score: 0.5232386027235051\n",
      "Accuracy Score: 0.5232386027235051\n",
      "Average Precision Score: 0.5164199074506871\n",
      "f1 Score: 0.1428951569984034\n",
      "Normalized confusion matrix\n",
      "[[0.9669923 0.0330077]\n",
      " [0.9205151 0.0794849]]\n"
     ]
    },
    {
     "data": {
      "image/png": "[encoded data removed]",
      "text/plain": [
       "<matplotlib.figure.Figure at 0x1c2d5a8898>"
      ]
     },
     "metadata": {},
     "output_type": "display_data"
    }
   ],
   "source": [
    "roc_usample_lastday_bl = clf_eval(rf, XX_cv, Y_cv, normalize=True)"
   ]
  },
  {
   "cell_type": "markdown",
   "metadata": {},
   "source": [
    "### 1.3.2 Fitting (counts)"
   ]
  },
  {
   "cell_type": "code",
   "execution_count": 133,
   "metadata": {},
   "outputs": [],
   "source": [
    "# Selecting the features\n",
    "param = X_train.columns\n",
    "param = [i for i in param if i != 'ip' and i != 'app' and i != 'os' and i != 'channel' and i != 'device']\n",
    "X = X_train[param]\n",
    "XX_cv = X_cv[param]"
   ]
  },
  {
   "cell_type": "code",
   "execution_count": 134,
   "metadata": {},
   "outputs": [
    {
     "name": "stdout",
     "output_type": "stream",
     "text": [
      "Starting to fit Random Forest Model... The machine is learning...\n",
      "The machine has learned.\n",
      "RandomForest has fitted df_train_30m with 0 seconds\n"
     ]
    }
   ],
   "source": [
    "# Start of Random Forest Implementation\n",
    "\n",
    "print('Starting to fit Random Forest Model... The machine is learning...')\n",
    "start_time = time.time()\n",
    "rf = RandomForestClassifier(n_estimators=13, max_depth=13, verbose=0, n_jobs = -1)\n",
    "rf = rf.fit(X, Y_train['is_attributed'])\n",
    "print('The machine has learned.')\n",
    "print('RandomForest has fitted df_train_30m with {} seconds'.format(round(time.time() - start_time), 3))"
   ]
  },
  {
   "cell_type": "markdown",
   "metadata": {},
   "source": [
    "#### 1.3.2 Evaluating (counts)"
   ]
  },
  {
   "cell_type": "code",
   "execution_count": 135,
   "metadata": {},
   "outputs": [
    {
     "name": "stdout",
     "output_type": "stream",
     "text": [
      "Classification Report\n",
      "             precision    recall  f1-score   support\n",
      "\n",
      " Não baixou       0.51      0.95      0.66      6756\n",
      "     Baixou       0.61      0.08      0.14      6756\n",
      "\n",
      "avg / total       0.56      0.51      0.40     13512\n",
      "\n",
      "ROC Score: 0.5144316163410302\n",
      "Accuracy Score: 0.5144316163410302\n",
      "Average Precision Score: 0.5087914885660922\n",
      "f1 Score: 0.14224081579291412\n",
      "Normalized confusion matrix\n",
      "[[0.94834221 0.05165779]\n",
      " [0.91947898 0.08052102]]\n"
     ]
    },
    {
     "data": {
      "image/png": "[encoded data removed]",
      "text/plain": [
       "<matplotlib.figure.Figure at 0x1c15847a20>"
      ]
     },
     "metadata": {},
     "output_type": "display_data"
    }
   ],
   "source": [
    "roc_usample_lastday_counts = clf_eval(rf, XX_cv, Y_cv, normalize=True)"
   ]
  },
  {
   "cell_type": "markdown",
   "metadata": {},
   "source": [
    "### 1.3.3 Fitting (everything)"
   ]
  },
  {
   "cell_type": "code",
   "execution_count": 136,
   "metadata": {},
   "outputs": [
    {
     "name": "stdout",
     "output_type": "stream",
     "text": [
      "Starting to fit Random Forest Model... The machine is learning...\n",
      "The machine has learned.\n",
      "RandomForest has fitted df_train_30m with 0 seconds\n"
     ]
    }
   ],
   "source": [
    "# Start of Random Forest Implementation\n",
    "\n",
    "print('Starting to fit Random Forest Model... The machine is learning...')\n",
    "start_time = time.time()\n",
    "rf = RandomForestClassifier(n_estimators=13, max_depth=13, verbose=0, n_jobs = -1)\n",
    "rf = rf.fit(X_train, Y_train['is_attributed'])\n",
    "print('The machine has learned.')\n",
    "print('RandomForest has fitted df_train_30m with {} seconds'.format(round(time.time() - start_time), 3))"
   ]
  },
  {
   "cell_type": "markdown",
   "metadata": {},
   "source": [
    "#### 1.3.3 Evaluating (everything)"
   ]
  },
  {
   "cell_type": "code",
   "execution_count": 137,
   "metadata": {},
   "outputs": [
    {
     "name": "stdout",
     "output_type": "stream",
     "text": [
      "Classification Report\n",
      "             precision    recall  f1-score   support\n",
      "\n",
      " Não baixou       0.51      0.96      0.67      6756\n",
      "     Baixou       0.70      0.09      0.16      6756\n",
      "\n",
      "avg / total       0.61      0.53      0.41     13512\n",
      "\n",
      "ROC Score: 0.5250148016577856\n",
      "Accuracy Score: 0.5250148016577857\n",
      "Average Precision Score: 0.5175162888385679\n",
      "f1 Score: 0.15552631578947368\n",
      "Normalized confusion matrix\n",
      "[[0.96255181 0.03744819]\n",
      " [0.9125222  0.0874778 ]]\n"
     ]
    },
    {
     "data": {
      "image/png": "[encoded data removed]",
      "text/plain": [
       "<matplotlib.figure.Figure at 0x1c158470f0>"
      ]
     },
     "metadata": {},
     "output_type": "display_data"
    }
   ],
   "source": [
    "roc_usample_lastday_every = clf_eval(rf, X_cv, Y_cv, normalize=True)"
   ]
  },
  {
   "cell_type": "markdown",
   "metadata": {},
   "source": [
    "# Sending prediction"
   ]
  },
  {
   "cell_type": "code",
   "execution_count": 18,
   "metadata": {},
   "outputs": [
    {
     "name": "stdout",
     "output_type": "stream",
     "text": [
      "Starting prediction phase...\n",
      "Prediction done. Elapsed time: 16.189 seconds\n"
     ]
    }
   ],
   "source": [
    "#First you have to run the model you want\n",
    "# Predict\n",
    "print('Starting prediction phase...')\n",
    "start_time = time.time()\n",
    "predictions = rf.predict_proba(df_test[param])\n",
    "print('Prediction done. Elapsed time: {} seconds'.format(round(time.time() - start_time, 3)))"
   ]
  },
  {
   "cell_type": "code",
   "execution_count": 19,
   "metadata": {},
   "outputs": [
    {
     "name": "stdout",
     "output_type": "stream",
     "text": [
      "Submission dataset created.\n"
     ]
    }
   ],
   "source": [
    "# Creating the submission dataset\n",
    "\n",
    "df_submit['is_attributed'] = predictions[:,1]\n",
    "print('Submission dataset created.')\n",
    "df_submit.head()"
   ]
  },
  {
   "cell_type": "code",
   "execution_count": 21,
   "metadata": {},
   "outputs": [
    {
     "name": "stdout",
     "output_type": "stream",
     "text": [
      "Submission dataset saved correctly.\n"
     ]
    },
    {
     "data": {
      "text/html": [
       "<div>\n",
       "<style scoped>\n",
       "    .dataframe tbody tr th:only-of-type {\n",
       "        vertical-align: middle;\n",
       "    }\n",
       "\n",
       "    .dataframe tbody tr th {\n",
       "        vertical-align: top;\n",
       "    }\n",
       "\n",
       "    .dataframe thead th {\n",
       "        text-align: right;\n",
       "    }\n",
       "</style>\n",
       "<table border=\"1\" class=\"dataframe\">\n",
       "  <thead>\n",
       "    <tr style=\"text-align: right;\">\n",
       "      <th></th>\n",
       "      <th>click_id</th>\n",
       "      <th>is_attributed</th>\n",
       "    </tr>\n",
       "  </thead>\n",
       "  <tbody>\n",
       "    <tr>\n",
       "      <th>count</th>\n",
       "      <td>1.879047e+07</td>\n",
       "      <td>1.879047e+07</td>\n",
       "    </tr>\n",
       "    <tr>\n",
       "      <th>mean</th>\n",
       "      <td>9.395234e+06</td>\n",
       "      <td>1.544636e-01</td>\n",
       "    </tr>\n",
       "    <tr>\n",
       "      <th>std</th>\n",
       "      <td>5.424341e+06</td>\n",
       "      <td>1.701872e-01</td>\n",
       "    </tr>\n",
       "    <tr>\n",
       "      <th>min</th>\n",
       "      <td>0.000000e+00</td>\n",
       "      <td>0.000000e+00</td>\n",
       "    </tr>\n",
       "    <tr>\n",
       "      <th>25%</th>\n",
       "      <td>4.697617e+06</td>\n",
       "      <td>6.018821e-02</td>\n",
       "    </tr>\n",
       "    <tr>\n",
       "      <th>50%</th>\n",
       "      <td>9.395234e+06</td>\n",
       "      <td>9.477477e-02</td>\n",
       "    </tr>\n",
       "    <tr>\n",
       "      <th>75%</th>\n",
       "      <td>1.409285e+07</td>\n",
       "      <td>1.709969e-01</td>\n",
       "    </tr>\n",
       "    <tr>\n",
       "      <th>max</th>\n",
       "      <td>1.879047e+07</td>\n",
       "      <td>1.000000e+00</td>\n",
       "    </tr>\n",
       "  </tbody>\n",
       "</table>\n",
       "</div>"
      ],
      "text/plain": [
       "           click_id  is_attributed\n",
       "count  1.879047e+07   1.879047e+07\n",
       "mean   9.395234e+06   1.544636e-01\n",
       "std    5.424341e+06   1.701872e-01\n",
       "min    0.000000e+00   0.000000e+00\n",
       "25%    4.697617e+06   6.018821e-02\n",
       "50%    9.395234e+06   9.477477e-02\n",
       "75%    1.409285e+07   1.709969e-01\n",
       "max    1.879047e+07   1.000000e+00"
      ]
     },
     "execution_count": 21,
     "metadata": {},
     "output_type": "execute_result"
    }
   ],
   "source": [
    "# Preparing submssion\n",
    "df_submit.to_csv('RF_undersample.csv', index=False)\n",
    "print('Submission dataset saved correctly.')\n",
    "\n",
    "df_submit.describe()"
   ]
  },
  {
   "cell_type": "code",
   "execution_count": null,
   "metadata": {},
   "outputs": [],
   "source": []
  }
 ],
 "metadata": {
  "kernelspec": {
   "display_name": "Python 3",
   "language": "python",
   "name": "python3"
  },
  "language_info": {
   "codemirror_mode": {
    "name": "ipython",
    "version": 3
   },
   "file_extension": ".py",
   "mimetype": "text/x-python",
   "name": "python",
   "nbconvert_exporter": "python",
   "pygments_lexer": "ipython3",
   "version": "3.6.4"
  }
 },
 "nbformat": 4,
 "nbformat_minor": 2
}
