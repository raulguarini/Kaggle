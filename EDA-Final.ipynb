{
 "cells": [
  {
   "cell_type": "markdown",
   "metadata": {},
   "source": [
    "# Análise Exploratória dos Dados - Competição \"Talking Data\"\n",
    "## Alunos: Alessandro Rivello e Raul Guarini"
   ]
  },
  {
   "cell_type": "markdown",
   "metadata": {},
   "source": [
    "Fazemos uma análise dos dados de teste e treinamento neste notebook. No caso do dados de treinamento, trabalhamos com uma amostra de 10% dos dados originais, frente ao tamanho do arquivo train.csv (quase 190 milhões de linhas!!!!!). O algoritmo para escolha da amostra está disponível no script ```row_select.py```.\n",
    "\n",
    "Ambos datasets continham a coluna \"click_time\" com o timestamp do acesso no formato \"YYYY-MM-DD hh:mm:ss\". Para poder trabalhar os dados, utilizamos o comando ```sed``` no Terminal para:\n",
    "1. Eliminar informação sobre o ano e o mês, em vista do fato de que todos os dados se encontram numa janela de apenas quatro dias. Isto torna o dataset mais leve e mais fácil de ser manipulado;\n",
    "2. Colocar as colunas de dias, horas, minutos e segundos separadamente, facilitando também a análise.\n",
    "\n",
    "No caso dos dados de teste, por exemplo, o comando utilizado foi: \n",
    "```\n",
    "cat test.csv | sed 's/2017-11-//g' | sed -E -e 's/[[:space:]]/,/g' -e 's/:/,/g' -e 's/click_time/days,hours,minutes,seconds/g' > test_timed.csv\n",
    "\n",
    "```\n",
    "\n",
    "Também julgamos desnecessária a coluna \"attributed_time\". É um timestamp do horário em que o download foi feito. Como veremos, ela aporta pouca informação pois o dataset é amplamente desbalanceado, com poucos downloads efetivos. Além disso, este dado é gerado após o download ser feito, o que o torna incompatível com a tarefa de prever se o download ocorrerá ou não. Portanto, os dados utilizados estão disponíveis nos arquivos ```10_train_timed.csv``` e ```test_timed.csv```.\n",
    "\n",
    "Links do Dropbox para estes arquivos (zipados):\n",
    "1. ```10_train_timed.csv```: https://www.dropbox.com/s/d16l70ib5y0tjyr/10_train_timed.csv.zip?dl=0\n",
    "2. ```test_timed.csv```: https://www.dropbox.com/s/gg14d21zskkqg7r/test_timed.csv.zip?dl=0"
   ]
  },
  {
   "cell_type": "markdown",
   "metadata": {},
   "source": [
    "### Importando os dados"
   ]
  },
  {
   "cell_type": "code",
   "execution_count": 1,
   "metadata": {},
   "outputs": [],
   "source": [
    "import pandas as pd\n",
    "import numpy as np\n",
    "import gc\n",
    "import matplotlib.pyplot as plt\n",
    "import seaborn as sns\n",
    "import time\n",
    "import os\n",
    "import datetime\n",
    "\n",
    "# Definindo o estilo dos plots\n",
    "sns.set_style(\"whitegrid\")\n",
    "sns.set(font_scale=1.5)\n",
    "\n",
    "%matplotlib inline\n",
    "%config InlineBackend.figure_format = 'retina'\n",
    "\n",
    "# Mudar o path conforme necessário\n",
    "path_raul = '/Users/Raul/Desktop/'"
   ]
  },
  {
   "cell_type": "code",
   "execution_count": null,
   "metadata": {},
   "outputs": [],
   "source": []
  }
 ],
 "metadata": {
  "kernelspec": {
   "display_name": "Python 3",
   "language": "python",
   "name": "python3"
  },
  "language_info": {
   "codemirror_mode": {
    "name": "ipython",
    "version": 3
   },
   "file_extension": ".py",
   "mimetype": "text/x-python",
   "name": "python",
   "nbconvert_exporter": "python",
   "pygments_lexer": "ipython3",
   "version": "3.6.4"
  }
 },
 "nbformat": 4,
 "nbformat_minor": 2
}
