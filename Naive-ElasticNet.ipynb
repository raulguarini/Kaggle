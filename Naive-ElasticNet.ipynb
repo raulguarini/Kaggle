{
 "cells": [
  {
   "cell_type": "markdown",
   "metadata": {},
   "source": [
    "# Naive Elastic Net Implementation for Talking Data\n",
    "## Alessandro Rivello and Raul Guarini - \"Econometristas'' Team"
   ]
  },
  {
   "cell_type": "code",
   "execution_count": 1,
   "metadata": {},
   "outputs": [],
   "source": [
    "# This is hardly inspired by the work of Raven Ron on https://www.kaggle.com/codeastar/random-forest-classification-on-talkingdata\n",
    "# Here, I try to implement Elastic Net logistic estimator\n",
    "import numpy as np # linear algebra\n",
    "import pandas as pd # data processing, CSV file I/O (e.g. pd.read_csv)\n",
    "\n",
    "import os\n",
    "# print(os.listdir(\"../input\"))\n",
    "\n",
    "import gc, time\n",
    "\n",
    "dtypes = {\n",
    "    'ip'            : 'uint32',\n",
    "    'app'           : 'uint16',\n",
    "    'device'        : 'uint16',\n",
    "    'os'            : 'uint16',\n",
    "    'channel'       : 'uint16',\n",
    "    'is_attributed' : 'uint8',\n",
    "    'click_id'      : 'uint32'\n",
    "}\n",
    "\n",
    "# Correcting path to data inside EMAp servers\n",
    "path = '/dados/Dados/Kaggle/'\n",
    "\n",
    "def handleClickHour(df):\n",
    "    df['click_hour']= (pd.to_datetime(df['click_time']).dt.round('H')).dt.hour\n",
    "    df['click_hour'] = df['click_hour'].astype('uint8')\n",
    "    df = df.drop(['click_time'], axis=1)   \n",
    "    return df"
   ]
  },
  {
   "cell_type": "code",
   "execution_count": 2,
   "metadata": {},
   "outputs": [
    {
     "name": "stdout",
     "output_type": "stream",
     "text": [
      "Load df_train_30m with 138.148 seconds\n"
     ]
    }
   ],
   "source": [
    "# Importing data\n",
    "train_columns = ['ip', 'app', 'device', 'os', 'channel', 'click_time', 'is_attributed']\n",
    "\n",
    "# Load training df (partly)\n",
    "start_time = time.time()\n",
    "df_train_30m = pd.read_csv(path + 'train.csv', dtype=dtypes, skiprows=range(1,133333333), nrows=33333333, usecols=train_columns)\n",
    "print('Load df_train_30m with {} seconds'.format(round(time.time() - start_time, 3)))"
   ]
  },
  {
   "cell_type": "code",
   "execution_count": 3,
   "metadata": {},
   "outputs": [
    {
     "name": "stdout",
     "output_type": "stream",
     "text": [
      "Load df_test with 21.781 seconds\n"
     ]
    }
   ],
   "source": [
    "# Load testing df\n",
    "start_time = time.time()\n",
    "df_test = pd.read_csv(path + 'test.csv', dtype=dtypes)\n",
    "print('Load df_test with {} seconds'.format(round(time.time() - start_time, 3)))\n",
    "\n",
    "train_record_index = df_train_30m.shape[0]"
   ]
  },
  {
   "cell_type": "code",
   "execution_count": 4,
   "metadata": {},
   "outputs": [
    {
     "name": "stdout",
     "output_type": "stream",
     "text": [
      "ClickTime data correctly handled.\n"
     ]
    }
   ],
   "source": [
    "# Handle click hour \n",
    "df_train_30m = handleClickHour(df_train_30m)\n",
    "df_test = handleClickHour(df_test)\n",
    "gc.collect();\n",
    "print('ClickTime data correctly handled.')"
   ]
  },
  {
   "cell_type": "code",
   "execution_count": 5,
   "metadata": {},
   "outputs": [
    {
     "data": {
      "text/html": [
       "<div>\n",
       "<style scoped>\n",
       "    .dataframe tbody tr th:only-of-type {\n",
       "        vertical-align: middle;\n",
       "    }\n",
       "\n",
       "    .dataframe tbody tr th {\n",
       "        vertical-align: top;\n",
       "    }\n",
       "\n",
       "    .dataframe thead th {\n",
       "        text-align: right;\n",
       "    }\n",
       "</style>\n",
       "<table border=\"1\" class=\"dataframe\">\n",
       "  <thead>\n",
       "    <tr style=\"text-align: right;\">\n",
       "      <th></th>\n",
       "      <th>ip</th>\n",
       "      <th>app</th>\n",
       "      <th>device</th>\n",
       "      <th>os</th>\n",
       "      <th>channel</th>\n",
       "      <th>is_attributed</th>\n",
       "      <th>click_hour</th>\n",
       "    </tr>\n",
       "  </thead>\n",
       "  <tbody>\n",
       "    <tr>\n",
       "      <th>0</th>\n",
       "      <td>89278</td>\n",
       "      <td>9</td>\n",
       "      <td>1</td>\n",
       "      <td>13</td>\n",
       "      <td>134</td>\n",
       "      <td>0</td>\n",
       "      <td>0</td>\n",
       "    </tr>\n",
       "    <tr>\n",
       "      <th>1</th>\n",
       "      <td>112296</td>\n",
       "      <td>21</td>\n",
       "      <td>1</td>\n",
       "      <td>22</td>\n",
       "      <td>128</td>\n",
       "      <td>0</td>\n",
       "      <td>0</td>\n",
       "    </tr>\n",
       "    <tr>\n",
       "      <th>2</th>\n",
       "      <td>119724</td>\n",
       "      <td>11</td>\n",
       "      <td>1</td>\n",
       "      <td>19</td>\n",
       "      <td>137</td>\n",
       "      <td>0</td>\n",
       "      <td>0</td>\n",
       "    </tr>\n",
       "    <tr>\n",
       "      <th>3</th>\n",
       "      <td>165053</td>\n",
       "      <td>12</td>\n",
       "      <td>1</td>\n",
       "      <td>13</td>\n",
       "      <td>19</td>\n",
       "      <td>0</td>\n",
       "      <td>0</td>\n",
       "    </tr>\n",
       "    <tr>\n",
       "      <th>4</th>\n",
       "      <td>338996</td>\n",
       "      <td>9</td>\n",
       "      <td>1</td>\n",
       "      <td>26</td>\n",
       "      <td>466</td>\n",
       "      <td>0</td>\n",
       "      <td>0</td>\n",
       "    </tr>\n",
       "  </tbody>\n",
       "</table>\n",
       "</div>"
      ],
      "text/plain": [
       "       ip  app  device  os  channel  is_attributed  click_hour\n",
       "0   89278    9       1  13      134              0           0\n",
       "1  112296   21       1  22      128              0           0\n",
       "2  119724   11       1  19      137              0           0\n",
       "3  165053   12       1  13       19              0           0\n",
       "4  338996    9       1  26      466              0           0"
      ]
     },
     "execution_count": 5,
     "metadata": {},
     "output_type": "execute_result"
    }
   ],
   "source": [
    "df_train_30m.head()"
   ]
  },
  {
   "cell_type": "code",
   "execution_count": 6,
   "metadata": {},
   "outputs": [
    {
     "data": {
      "text/html": [
       "<div>\n",
       "<style scoped>\n",
       "    .dataframe tbody tr th:only-of-type {\n",
       "        vertical-align: middle;\n",
       "    }\n",
       "\n",
       "    .dataframe tbody tr th {\n",
       "        vertical-align: top;\n",
       "    }\n",
       "\n",
       "    .dataframe thead th {\n",
       "        text-align: right;\n",
       "    }\n",
       "</style>\n",
       "<table border=\"1\" class=\"dataframe\">\n",
       "  <thead>\n",
       "    <tr style=\"text-align: right;\">\n",
       "      <th></th>\n",
       "      <th>click_id</th>\n",
       "      <th>ip</th>\n",
       "      <th>app</th>\n",
       "      <th>device</th>\n",
       "      <th>os</th>\n",
       "      <th>channel</th>\n",
       "      <th>click_hour</th>\n",
       "    </tr>\n",
       "  </thead>\n",
       "  <tbody>\n",
       "    <tr>\n",
       "      <th>0</th>\n",
       "      <td>0</td>\n",
       "      <td>5744</td>\n",
       "      <td>9</td>\n",
       "      <td>1</td>\n",
       "      <td>3</td>\n",
       "      <td>107</td>\n",
       "      <td>4</td>\n",
       "    </tr>\n",
       "    <tr>\n",
       "      <th>1</th>\n",
       "      <td>1</td>\n",
       "      <td>119901</td>\n",
       "      <td>9</td>\n",
       "      <td>1</td>\n",
       "      <td>3</td>\n",
       "      <td>466</td>\n",
       "      <td>4</td>\n",
       "    </tr>\n",
       "    <tr>\n",
       "      <th>2</th>\n",
       "      <td>2</td>\n",
       "      <td>72287</td>\n",
       "      <td>21</td>\n",
       "      <td>1</td>\n",
       "      <td>19</td>\n",
       "      <td>128</td>\n",
       "      <td>4</td>\n",
       "    </tr>\n",
       "    <tr>\n",
       "      <th>3</th>\n",
       "      <td>3</td>\n",
       "      <td>78477</td>\n",
       "      <td>15</td>\n",
       "      <td>1</td>\n",
       "      <td>13</td>\n",
       "      <td>111</td>\n",
       "      <td>4</td>\n",
       "    </tr>\n",
       "    <tr>\n",
       "      <th>4</th>\n",
       "      <td>4</td>\n",
       "      <td>123080</td>\n",
       "      <td>12</td>\n",
       "      <td>1</td>\n",
       "      <td>13</td>\n",
       "      <td>328</td>\n",
       "      <td>4</td>\n",
       "    </tr>\n",
       "  </tbody>\n",
       "</table>\n",
       "</div>"
      ],
      "text/plain": [
       "   click_id      ip  app  device  os  channel  click_hour\n",
       "0         0    5744    9       1   3      107           4\n",
       "1         1  119901    9       1   3      466           4\n",
       "2         2   72287   21       1  19      128           4\n",
       "3         3   78477   15       1  13      111           4\n",
       "4         4  123080   12       1  13      328           4"
      ]
     },
     "execution_count": 6,
     "metadata": {},
     "output_type": "execute_result"
    }
   ],
   "source": [
    "df_test.head()"
   ]
  },
  {
   "cell_type": "code",
   "execution_count": 7,
   "metadata": {},
   "outputs": [],
   "source": [
    "#df for submit\n",
    "df_submit = pd.DataFrame()\n",
    "df_submit['click_id'] = df_test['click_id']"
   ]
  },
  {
   "cell_type": "code",
   "execution_count": 8,
   "metadata": {},
   "outputs": [
    {
     "name": "stdout",
     "output_type": "stream",
     "text": [
      "Training target correctly extracted.\n"
     ]
    }
   ],
   "source": [
    "#Extracting learning data\n",
    "Learning_Y = df_train_30m['is_attributed']\n",
    "print('Training target correctly extracted.')\n",
    "\n",
    "#drop zone\n",
    "df_test = df_test.drop(['click_id'], axis=1)\n",
    "df_train_30m = df_train_30m.drop(['is_attributed'], axis=1)\n",
    "gc.collect();"
   ]
  },
  {
   "cell_type": "code",
   "execution_count": 9,
   "metadata": {},
   "outputs": [
    {
     "name": "stdout",
     "output_type": "stream",
     "text": [
      "Data was correctly concatenated\n"
     ]
    }
   ],
   "source": [
    "df_merge = pd.concat([df_train_30m, df_test])\n",
    "del df_train_30m, df_test\n",
    "gc.collect();\n",
    "print('Data was correctly concatenated')"
   ]
  },
  {
   "cell_type": "code",
   "execution_count": 11,
   "metadata": {},
   "outputs": [
    {
     "name": "stdout",
     "output_type": "stream",
     "text": [
      "Loaded df_ip_count with 7.429 seconds\n"
     ]
    }
   ],
   "source": [
    "# Count ip for both train and test df \n",
    "start_time = time.time()\n",
    "df_ip_count = df_merge['ip'].value_counts().reset_index(name = 'ip_count')\n",
    "df_ip_count.columns = ['ip', 'ip_count']\n",
    "print('Loaded df_ip_count with {} seconds'.format(round(time.time() - start_time, 3)))"
   ]
  },
  {
   "cell_type": "code",
   "execution_count": 12,
   "metadata": {},
   "outputs": [
    {
     "data": {
      "text/html": [
       "<div>\n",
       "<style scoped>\n",
       "    .dataframe tbody tr th:only-of-type {\n",
       "        vertical-align: middle;\n",
       "    }\n",
       "\n",
       "    .dataframe tbody tr th {\n",
       "        vertical-align: top;\n",
       "    }\n",
       "\n",
       "    .dataframe thead th {\n",
       "        text-align: right;\n",
       "    }\n",
       "</style>\n",
       "<table border=\"1\" class=\"dataframe\">\n",
       "  <thead>\n",
       "    <tr style=\"text-align: right;\">\n",
       "      <th></th>\n",
       "      <th>ip</th>\n",
       "      <th>ip_count</th>\n",
       "    </tr>\n",
       "  </thead>\n",
       "  <tbody>\n",
       "    <tr>\n",
       "      <th>0</th>\n",
       "      <td>5348</td>\n",
       "      <td>346892</td>\n",
       "    </tr>\n",
       "    <tr>\n",
       "      <th>1</th>\n",
       "      <td>5314</td>\n",
       "      <td>314366</td>\n",
       "    </tr>\n",
       "    <tr>\n",
       "      <th>2</th>\n",
       "      <td>73516</td>\n",
       "      <td>164026</td>\n",
       "    </tr>\n",
       "    <tr>\n",
       "      <th>3</th>\n",
       "      <td>73487</td>\n",
       "      <td>163330</td>\n",
       "    </tr>\n",
       "    <tr>\n",
       "      <th>4</th>\n",
       "      <td>53454</td>\n",
       "      <td>128719</td>\n",
       "    </tr>\n",
       "  </tbody>\n",
       "</table>\n",
       "</div>"
      ],
      "text/plain": [
       "      ip  ip_count\n",
       "0   5348    346892\n",
       "1   5314    314366\n",
       "2  73516    164026\n",
       "3  73487    163330\n",
       "4  53454    128719"
      ]
     },
     "execution_count": 12,
     "metadata": {},
     "output_type": "execute_result"
    }
   ],
   "source": [
    "df_ip_count.head()"
   ]
  },
  {
   "cell_type": "code",
   "execution_count": 13,
   "metadata": {},
   "outputs": [
    {
     "name": "stdout",
     "output_type": "stream",
     "text": [
      "Starting to merge with main dataset...\n",
      "Merging operation completed.\n"
     ]
    }
   ],
   "source": [
    "print('Starting to merge with main dataset...')\n",
    "df_merge = df_merge.merge(df_ip_count, on='ip', how='left', sort=False)\n",
    "df_merge['ip_count'] = df_merge['ip_count'].astype('uint16')\n",
    "print('Merging operation completed.')"
   ]
  },
  {
   "cell_type": "code",
   "execution_count": 15,
   "metadata": {},
   "outputs": [],
   "source": [
    "# We don't need the ip information anymore\n",
    "df_merge = df_merge.drop(['ip'], axis=1)\n",
    "del df_ip_count\n",
    "gc.collect();\n",
    "\n",
    "df_train = df_merge[:train_record_index]\n",
    "df_test = df_merge[train_record_index:]\n",
    "\n",
    "del df_merge\n",
    "gc.collect();\n",
    "\n",
    "df_train['Download'] = Learning_Y"
   ]
  },
  {
   "cell_type": "code",
   "execution_count": 26,
   "metadata": {},
   "outputs": [
    {
     "data": {
      "text/html": [
       "<div>\n",
       "<style scoped>\n",
       "    .dataframe tbody tr th:only-of-type {\n",
       "        vertical-align: middle;\n",
       "    }\n",
       "\n",
       "    .dataframe tbody tr th {\n",
       "        vertical-align: top;\n",
       "    }\n",
       "\n",
       "    .dataframe thead th {\n",
       "        text-align: right;\n",
       "    }\n",
       "</style>\n",
       "<table border=\"1\" class=\"dataframe\">\n",
       "  <thead>\n",
       "    <tr style=\"text-align: right;\">\n",
       "      <th></th>\n",
       "      <th>app</th>\n",
       "      <th>device</th>\n",
       "      <th>os</th>\n",
       "      <th>channel</th>\n",
       "      <th>click_hour</th>\n",
       "      <th>ip_count</th>\n",
       "      <th>Download</th>\n",
       "    </tr>\n",
       "  </thead>\n",
       "  <tbody>\n",
       "    <tr>\n",
       "      <th>0</th>\n",
       "      <td>9</td>\n",
       "      <td>1</td>\n",
       "      <td>13</td>\n",
       "      <td>134</td>\n",
       "      <td>0</td>\n",
       "      <td>4368</td>\n",
       "      <td>0</td>\n",
       "    </tr>\n",
       "    <tr>\n",
       "      <th>1</th>\n",
       "      <td>21</td>\n",
       "      <td>1</td>\n",
       "      <td>22</td>\n",
       "      <td>128</td>\n",
       "      <td>0</td>\n",
       "      <td>3719</td>\n",
       "      <td>0</td>\n",
       "    </tr>\n",
       "    <tr>\n",
       "      <th>2</th>\n",
       "      <td>11</td>\n",
       "      <td>1</td>\n",
       "      <td>19</td>\n",
       "      <td>137</td>\n",
       "      <td>0</td>\n",
       "      <td>1191</td>\n",
       "      <td>0</td>\n",
       "    </tr>\n",
       "    <tr>\n",
       "      <th>3</th>\n",
       "      <td>12</td>\n",
       "      <td>1</td>\n",
       "      <td>13</td>\n",
       "      <td>19</td>\n",
       "      <td>0</td>\n",
       "      <td>1170</td>\n",
       "      <td>0</td>\n",
       "    </tr>\n",
       "    <tr>\n",
       "      <th>4</th>\n",
       "      <td>9</td>\n",
       "      <td>1</td>\n",
       "      <td>26</td>\n",
       "      <td>466</td>\n",
       "      <td>0</td>\n",
       "      <td>549</td>\n",
       "      <td>0</td>\n",
       "    </tr>\n",
       "  </tbody>\n",
       "</table>\n",
       "</div>"
      ],
      "text/plain": [
       "   app  device  os  channel  click_hour  ip_count  Download\n",
       "0    9       1  13      134           0      4368         0\n",
       "1   21       1  22      128           0      3719         0\n",
       "2   11       1  19      137           0      1191         0\n",
       "3   12       1  13       19           0      1170         0\n",
       "4    9       1  26      466           0       549         0"
      ]
     },
     "execution_count": 26,
     "metadata": {},
     "output_type": "execute_result"
    }
   ],
   "source": [
    "df_train.head()"
   ]
  },
  {
   "cell_type": "code",
   "execution_count": 27,
   "metadata": {},
   "outputs": [
    {
     "data": {
      "text/html": [
       "<div>\n",
       "<style scoped>\n",
       "    .dataframe tbody tr th:only-of-type {\n",
       "        vertical-align: middle;\n",
       "    }\n",
       "\n",
       "    .dataframe tbody tr th {\n",
       "        vertical-align: top;\n",
       "    }\n",
       "\n",
       "    .dataframe thead th {\n",
       "        text-align: right;\n",
       "    }\n",
       "</style>\n",
       "<table border=\"1\" class=\"dataframe\">\n",
       "  <thead>\n",
       "    <tr style=\"text-align: right;\">\n",
       "      <th></th>\n",
       "      <th>app</th>\n",
       "      <th>device</th>\n",
       "      <th>os</th>\n",
       "      <th>channel</th>\n",
       "      <th>click_hour</th>\n",
       "      <th>ip_count</th>\n",
       "    </tr>\n",
       "  </thead>\n",
       "  <tbody>\n",
       "    <tr>\n",
       "      <th>33333333</th>\n",
       "      <td>9</td>\n",
       "      <td>1</td>\n",
       "      <td>3</td>\n",
       "      <td>107</td>\n",
       "      <td>4</td>\n",
       "      <td>383</td>\n",
       "    </tr>\n",
       "    <tr>\n",
       "      <th>33333334</th>\n",
       "      <td>9</td>\n",
       "      <td>1</td>\n",
       "      <td>3</td>\n",
       "      <td>466</td>\n",
       "      <td>4</td>\n",
       "      <td>6161</td>\n",
       "    </tr>\n",
       "    <tr>\n",
       "      <th>33333335</th>\n",
       "      <td>21</td>\n",
       "      <td>1</td>\n",
       "      <td>19</td>\n",
       "      <td>128</td>\n",
       "      <td>4</td>\n",
       "      <td>4615</td>\n",
       "    </tr>\n",
       "    <tr>\n",
       "      <th>33333336</th>\n",
       "      <td>15</td>\n",
       "      <td>1</td>\n",
       "      <td>13</td>\n",
       "      <td>111</td>\n",
       "      <td>4</td>\n",
       "      <td>3549</td>\n",
       "    </tr>\n",
       "    <tr>\n",
       "      <th>33333337</th>\n",
       "      <td>12</td>\n",
       "      <td>1</td>\n",
       "      <td>13</td>\n",
       "      <td>328</td>\n",
       "      <td>4</td>\n",
       "      <td>484</td>\n",
       "    </tr>\n",
       "  </tbody>\n",
       "</table>\n",
       "</div>"
      ],
      "text/plain": [
       "          app  device  os  channel  click_hour  ip_count\n",
       "33333333    9       1   3      107           4       383\n",
       "33333334    9       1   3      466           4      6161\n",
       "33333335   21       1  19      128           4      4615\n",
       "33333336   15       1  13      111           4      3549\n",
       "33333337   12       1  13      328           4       484"
      ]
     },
     "execution_count": 27,
     "metadata": {},
     "output_type": "execute_result"
    }
   ],
   "source": [
    "df_test.head()"
   ]
  },
  {
   "cell_type": "code",
   "execution_count": 31,
   "metadata": {},
   "outputs": [
    {
     "name": "stderr",
     "output_type": "stream",
     "text": [
      "/usr/local/lib/python3.5/dist-packages/sklearn/model_selection/_split.py:2026: FutureWarning: From version 0.21, test_size will always complement train_size unless both are specified.\n",
      "  FutureWarning)\n"
     ]
    }
   ],
   "source": [
    "# Now I split the training data in a real training dataset and cross validation dataset\n",
    "from sklearn import model_selection\n",
    "\n",
    "cols = list(df_train.columns)\n",
    "cols.remove('Download')\n",
    "X_train, X_cv, y_train, y_cv = model_selection.train_test_split(df_train[cols], \n",
    "                                                                df_train['Download'], train_size = 0.7)\n",
    "\n",
    "del cols\n",
    "gc.collect();\n",
    "\n",
    "print('Data splitting into training and cross validation is done.)"
   ]
  },
  {
   "cell_type": "code",
   "execution_count": 59,
   "metadata": {},
   "outputs": [],
   "source": [
    "# Creating a way to evaluate the model\n",
    "from sklearn.metrics import roc_auc_score\n",
    "from sklearn.metrics import accuracy_score\n",
    "from sklearn.metrics import average_precision_score\n",
    "from sklearn.metrics import f1_score\n",
    "\n",
    "def clf_eval(y_true, y_pred):\n",
    "    print('Classification Report')\n",
    "    \n",
    "    print('ROC Score: {}'.format(roc_auc_score(y_true, y_pred)))\n",
    "    \n",
    "    return roc_auc_score(y_true, y_pred)"
   ]
  },
  {
   "cell_type": "markdown",
   "metadata": {},
   "source": [
    "#### Machine Learning Phase"
   ]
  },
  {
   "cell_type": "code",
   "execution_count": 88,
   "metadata": {},
   "outputs": [
    {
     "name": "stdout",
     "output_type": "stream",
     "text": [
      "Starting to fit the model to the training dataset... The machine is learning...\n"
     ]
    },
    {
     "name": "stderr",
     "output_type": "stream",
     "text": [
      "/usr/local/lib/python3.5/dist-packages/sklearn/linear_model/stochastic_gradient.py:128: FutureWarning: max_iter and tol parameters have been added in <class 'sklearn.linear_model.stochastic_gradient.SGDClassifier'> in 0.19. If both are left unset, they default to max_iter=5 and tol=None. If tol is not None, max_iter defaults to max_iter=1000. From 0.21, default max_iter will be 1000, and default tol will be 1e-3.\n",
      "  \"and default tol will be 1e-3.\" % type(self), FutureWarning)\n"
     ]
    },
    {
     "name": "stdout",
     "output_type": "stream",
     "text": [
      "-- Epoch 1\n",
      "Norm: 7.64, NNZs: 5, Bias: -1.121971, T: 23333333, Avg. loss: 4.794118\n",
      "Total training time: 12.71 seconds.\n",
      "-- Epoch 2\n",
      "Norm: 5.42, NNZs: 4, Bias: -1.185583, T: 46666666, Avg. loss: 0.042739\n",
      "Total training time: 25.56 seconds.\n",
      "-- Epoch 3\n",
      "Norm: 4.41, NNZs: 4, Bias: -1.229895, T: 69999999, Avg. loss: 0.033771\n",
      "Total training time: 38.30 seconds.\n",
      "-- Epoch 4\n",
      "Norm: 3.80, NNZs: 5, Bias: -1.264082, T: 93333332, Avg. loss: 0.030369\n",
      "Total training time: 51.10 seconds.\n",
      "-- Epoch 5\n",
      "Norm: 3.38, NNZs: 5, Bias: -1.292020, T: 116666665, Avg. loss: 0.028634\n",
      "Total training time: 64.02 seconds.\n",
      "Machine has learned. Elapsed time: 70.609 seconds\n"
     ]
    }
   ],
   "source": [
    "# Starting Elastic Net Implementation\n",
    "from sklearn.linear_model import SGDClassifier\n",
    "\n",
    "print('Starting to fit the model to the training dataset... The machine is learning...')\n",
    "\n",
    "start_time = time.time()\n",
    "mae_dina = SGDClassifier(loss = 'log', penalty = 'elasticnet', alpha = 0.01, l1_ratio = 0.1, n_jobs = 5,\n",
    "                        verbose = 1, )\n",
    "trained_model = mae_dina.fit(X_train, y_train)\n",
    "\n",
    "print('Machine has learned. Elapsed time: {} seconds'.format(round(time.time() - start_time, 3)))"
   ]
  },
  {
   "cell_type": "code",
   "execution_count": 89,
   "metadata": {},
   "outputs": [
    {
     "name": "stdout",
     "output_type": "stream",
     "text": [
      "Starting cross-validation prediction phase...\n",
      "Prediction done. Elapsed time: 1.784 seconds\n"
     ]
    }
   ],
   "source": [
    "# Predicting\n",
    "print('Starting cross-validation prediction phase...')\n",
    "start_time = time.time()\n",
    "predictions = trained_model.predict_proba(X_cv)[:,1]\n",
    "print('Prediction done. Elapsed time: {} seconds'.format(round(time.time() - start_time, 3)))"
   ]
  },
  {
   "cell_type": "code",
   "execution_count": 90,
   "metadata": {},
   "outputs": [
    {
     "name": "stdout",
     "output_type": "stream",
     "text": [
      "Classification Report\n",
      "ROC Score: 0.7669744078835646\n"
     ]
    }
   ],
   "source": [
    "# Evaluating the model\n",
    "clf_eval(y_cv, predictions);"
   ]
  },
  {
   "cell_type": "markdown",
   "metadata": {},
   "source": [
    "#### Code for submission!"
   ]
  },
  {
   "cell_type": "code",
   "execution_count": 96,
   "metadata": {},
   "outputs": [
    {
     "name": "stdout",
     "output_type": "stream",
     "text": [
      "Starting prediction phase on test data...\n",
      "Prediction done. Elapsed time: 3.299 seconds\n"
     ]
    }
   ],
   "source": [
    "# Predicting\n",
    "print('Starting prediction phase on test data...')\n",
    "start_time = time.time()\n",
    "predictions = trained_model.predict_proba(df_test)[:,1]\n",
    "print('Prediction done. Elapsed time: {} seconds'.format(round(time.time() - start_time, 3)))"
   ]
  },
  {
   "cell_type": "code",
   "execution_count": 97,
   "metadata": {},
   "outputs": [
    {
     "name": "stdout",
     "output_type": "stream",
     "text": [
      "Submission dataset created.\n"
     ]
    }
   ],
   "source": [
    "# Creating the submission dataset\n",
    "df_submit['is_attributed'] = predictions\n",
    "\n",
    "print('Submission dataset created.')"
   ]
  },
  {
   "cell_type": "code",
   "execution_count": 98,
   "metadata": {},
   "outputs": [
    {
     "name": "stdout",
     "output_type": "stream",
     "text": [
      "Submission dataset saved correctly.\n"
     ]
    }
   ],
   "source": [
    "# Preparing submssion\n",
    "df_submit.to_csv('elasticnet_talking_data.csv', index=False)\n",
    "print('Submission dataset saved correctly.')"
   ]
  }
 ],
 "metadata": {
  "kernelspec": {
   "display_name": "Python 3",
   "language": "python",
   "name": "python3"
  },
  "language_info": {
   "codemirror_mode": {
    "name": "ipython",
    "version": 3
   },
   "file_extension": ".py",
   "mimetype": "text/x-python",
   "name": "python",
   "nbconvert_exporter": "python",
   "pygments_lexer": "ipython3",
   "version": "3.5.2"
  }
 },
 "nbformat": 4,
 "nbformat_minor": 2
}
