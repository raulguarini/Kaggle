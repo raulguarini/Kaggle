{
 "cells": [
  {
   "cell_type": "code",
   "execution_count": 8,
   "metadata": {},
   "outputs": [],
   "source": [
    "# This is hardly inspired by the work of Raven Ron on https://www.kaggle.com/codeastar/random-forest-classification-on-talkingdata\n",
    "\n",
    "import numpy as np # linear algebra\n",
    "import pandas as pd # data processing, CSV file I/O (e.g. pd.read_csv)\n",
    "\n",
    "import os\n",
    "# print(os.listdir(\"../input\"))\n",
    "\n",
    "import gc, time\n",
    "\n",
    "dtypes = {\n",
    "    'ip'            : 'uint32',\n",
    "    'app'           : 'uint16',\n",
    "    'device'        : 'uint16',\n",
    "    'os'            : 'uint16',\n",
    "    'channel'       : 'uint16',\n",
    "    'is_attributed' : 'uint8',\n",
    "    'click_id'      : 'uint32'\n",
    "}\n",
    "\n",
    "# Correcting path to data inside EMAp servers\n",
    "path = '/dados/Dados/Kaggle/'\n",
    "\n",
    "def handleClickHour(df):\n",
    "    df['click_hour']= (pd.to_datetime(df['click_time']).dt.round('H')).dt.hour\n",
    "    df['click_hour'] = df['click_hour'].astype('uint16')\n",
    "    df = df.drop(['click_time'], axis=1)   \n",
    "    return df\n",
    "\n",
    "train_columns = ['ip', 'app', 'device', 'os', 'channel', 'click_time', 'is_attributed']"
   ]
  },
  {
   "cell_type": "code",
   "execution_count": 12,
   "metadata": {},
   "outputs": [
    {
     "name": "stdout",
     "output_type": "stream",
     "text": [
      "CPU times: user 0 ns, sys: 0 ns, total: 0 ns\n",
      "Wall time: 37.9 µs\n"
     ]
    }
   ],
   "source": [
    "# Importing data\n",
    "\n",
    "# Load training df (partly)\n",
    "start_time = time.time()\n",
    "df_train_30m = pd.read_csv(path + 'train.csv', dtype=dtypes, skiprows=range(1,133333333), nrows=33333333, usecols=train_columns)\n",
    "print('Load df_train_30m with {} seconds'.format(round(time.time() - start_time, 3)))"
   ]
  },
  {
   "cell_type": "code",
   "execution_count": 13,
   "metadata": {},
   "outputs": [
    {
     "name": "stdout",
     "output_type": "stream",
     "text": [
      "Load df_test with 61.144 seconds\n"
     ]
    }
   ],
   "source": [
    "# Load testing df\n",
    "start_time = time.time()\n",
    "df_test = pd.read_csv(path + 'test.csv', dtype=dtypes)\n",
    "print('Load df_test with {} seconds'.format(round(time.time() - start_time, 3)))\n",
    "\n",
    "train_record_index = df_train_30m.shape[0]"
   ]
  },
  {
   "cell_type": "code",
   "execution_count": 14,
   "metadata": {},
   "outputs": [
    {
     "name": "stdout",
     "output_type": "stream",
     "text": [
      "ClickTime data correctly handled.\n"
     ]
    }
   ],
   "source": [
    "#handle click hour \n",
    "df_train_30m = handleClickHour(df_train_30m)\n",
    "df_test = handleClickHour(df_test)\n",
    "gc.collect();\n",
    "print('ClickTime data correctly handled.')"
   ]
  },
  {
   "cell_type": "code",
   "execution_count": 15,
   "metadata": {},
   "outputs": [
    {
     "name": "stdout",
     "output_type": "stream",
     "text": [
      "Training target correctly extracted.\n",
      "Data was correctly merged\n"
     ]
    }
   ],
   "source": [
    "#df for submit\n",
    "df_submit = pd.DataFrame()\n",
    "df_submit['click_id'] = df_test['click_id']\n",
    "\n",
    "#Extracting learning data\n",
    "Learning_Y = df_train_30m['is_attributed']\n",
    "print('Training target correctly extracted.')\n",
    "\n",
    "#drop zone\n",
    "df_test = df_test.drop(['click_id'], axis=1)\n",
    "df_train_30m = df_train_30m.drop(['is_attributed'], axis=1)\n",
    "gc.collect();\n",
    "\n",
    "df_merge = pd.concat([df_train_30m, df_test])\n",
    "del df_train_30m, df_test\n",
    "gc.collect();\n",
    "print('Data was correctly merged')"
   ]
  },
  {
   "cell_type": "code",
   "execution_count": 16,
   "metadata": {},
   "outputs": [
    {
     "name": "stdout",
     "output_type": "stream",
     "text": [
      "Loaded df_ip_count with 7.22 seconds\n",
      "Starting to merge with main dataset...\n",
      "Merging operation completed.\n"
     ]
    }
   ],
   "source": [
    "# Count ip for both train and test df \n",
    "start_time = time.time()\n",
    "df_ip_count = df_merge['ip'].value_counts().reset_index(name='ip_count')\n",
    "df_ip_count.columns = ['ip', 'ip_count']\n",
    "print('Loaded df_ip_count with {} seconds'.format(round(time.time() - start_time, 3)))\n",
    "\n",
    "print('Starting to merge with main dataset...')\n",
    "df_merge = df_merge.merge(df_ip_count, on='ip', how='left', sort=False)\n",
    "df_merge['ip_count'] = df_merge['ip_count'].astype('uint16')\n",
    "print('Merging operation completed.')"
   ]
  },
  {
   "cell_type": "code",
   "execution_count": 17,
   "metadata": {},
   "outputs": [],
   "source": [
    "df_merge = df_merge.drop(['ip'], axis=1)\n",
    "del df_ip_count\n",
    "gc.collect();\n",
    "\n",
    "df_train = df_merge[:train_record_index]\n",
    "df_test = df_merge[train_record_index:]\n",
    "\n",
    "del df_merge\n",
    "gc.collect();"
   ]
  },
  {
   "cell_type": "code",
   "execution_count": 18,
   "metadata": {},
   "outputs": [
    {
     "name": "stdout",
     "output_type": "stream",
     "text": [
      "Starting to fit Random Forest Model... The machine is learning...\n",
      "building tree 1 of 13\n",
      "building tree 2 of 13\n",
      "building tree 3 of 13\n",
      "building tree 4 of 13building tree 5 of 13\n",
      "building tree 6 of 13\n",
      "building tree 7 of 13\n",
      "building tree 8 of 13\n",
      "building tree 9 of 13\n",
      "building tree 10 of 13\n",
      "building tree 11 of 13\n",
      "\n",
      "building tree 12 of 13\n",
      "building tree 13 of 13\n"
     ]
    },
    {
     "name": "stderr",
     "output_type": "stream",
     "text": [
      "[Parallel(n_jobs=18)]: Done   6 out of  13 | elapsed:  7.7min remaining:  9.0min\n",
      "[Parallel(n_jobs=18)]: Done  13 out of  13 | elapsed:  8.2min remaining:    0.0s\n",
      "[Parallel(n_jobs=18)]: Done  13 out of  13 | elapsed:  8.2min finished\n"
     ]
    },
    {
     "name": "stdout",
     "output_type": "stream",
     "text": [
      "The machine heas learned.\n",
      "RandomForest has fitted df_train_30m with 501 seconds\n"
     ]
    }
   ],
   "source": [
    "# Start of Random Forest Implementation\n",
    "from sklearn.ensemble import RandomForestClassifier\n",
    "\n",
    "print('Starting to fit Random Forest Model... The machine is learning...')\n",
    "start_time = time.time()\n",
    "rf = RandomForestClassifier(n_estimators=13, max_depth=13, random_state=13,verbose=2, n_jobs = 18)\n",
    "rf.fit(df_train, Learning_Y)\n",
    "print('The machine heas learned.')\n",
    "print('RandomForest has fitted df_train_30m with {} seconds'.format(round(time.time() - start_time), 3))"
   ]
  },
  {
   "cell_type": "code",
   "execution_count": 19,
   "metadata": {},
   "outputs": [
    {
     "name": "stdout",
     "output_type": "stream",
     "text": [
      "Starting prediction phase...\n"
     ]
    },
    {
     "name": "stderr",
     "output_type": "stream",
     "text": [
      "[Parallel(n_jobs=13)]: Done   2 out of  13 | elapsed:    5.9s remaining:   32.6s\n",
      "[Parallel(n_jobs=13)]: Done   9 out of  13 | elapsed:    6.8s remaining:    3.0s\n",
      "[Parallel(n_jobs=13)]: Done  13 out of  13 | elapsed:    7.3s finished\n"
     ]
    },
    {
     "name": "stdout",
     "output_type": "stream",
     "text": [
      "Prediction done. Elapsed time: 17.882 seconds\n"
     ]
    }
   ],
   "source": [
    "# Predict\n",
    "print('Starting prediction phase...')\n",
    "start_time = time.time()\n",
    "predictions = rf.predict_proba(df_test)\n",
    "print('Prediction done. Elapsed time: {} seconds'.format(round(time.time() - start_time, 3)))"
   ]
  },
  {
   "cell_type": "code",
   "execution_count": 21,
   "metadata": {},
   "outputs": [
    {
     "data": {
      "text/html": [
       "<div>\n",
       "<style scoped>\n",
       "    .dataframe tbody tr th:only-of-type {\n",
       "        vertical-align: middle;\n",
       "    }\n",
       "\n",
       "    .dataframe tbody tr th {\n",
       "        vertical-align: top;\n",
       "    }\n",
       "\n",
       "    .dataframe thead th {\n",
       "        text-align: right;\n",
       "    }\n",
       "</style>\n",
       "<table border=\"1\" class=\"dataframe\">\n",
       "  <thead>\n",
       "    <tr style=\"text-align: right;\">\n",
       "      <th></th>\n",
       "      <th>click_id</th>\n",
       "      <th>is_attributed</th>\n",
       "    </tr>\n",
       "  </thead>\n",
       "  <tbody>\n",
       "    <tr>\n",
       "      <th>count</th>\n",
       "      <td>1.879047e+07</td>\n",
       "      <td>1.879047e+07</td>\n",
       "    </tr>\n",
       "    <tr>\n",
       "      <th>mean</th>\n",
       "      <td>9.395234e+06</td>\n",
       "      <td>3.618579e-03</td>\n",
       "    </tr>\n",
       "    <tr>\n",
       "      <th>std</th>\n",
       "      <td>5.424341e+06</td>\n",
       "      <td>3.498543e-02</td>\n",
       "    </tr>\n",
       "    <tr>\n",
       "      <th>min</th>\n",
       "      <td>0.000000e+00</td>\n",
       "      <td>0.000000e+00</td>\n",
       "    </tr>\n",
       "    <tr>\n",
       "      <th>25%</th>\n",
       "      <td>4.697617e+06</td>\n",
       "      <td>2.613477e-04</td>\n",
       "    </tr>\n",
       "    <tr>\n",
       "      <th>50%</th>\n",
       "      <td>9.395234e+06</td>\n",
       "      <td>3.855908e-04</td>\n",
       "    </tr>\n",
       "    <tr>\n",
       "      <th>75%</th>\n",
       "      <td>1.409285e+07</td>\n",
       "      <td>7.654008e-04</td>\n",
       "    </tr>\n",
       "    <tr>\n",
       "      <th>max</th>\n",
       "      <td>1.879047e+07</td>\n",
       "      <td>1.000000e+00</td>\n",
       "    </tr>\n",
       "  </tbody>\n",
       "</table>\n",
       "</div>"
      ],
      "text/plain": [
       "           click_id  is_attributed\n",
       "count  1.879047e+07   1.879047e+07\n",
       "mean   9.395234e+06   3.618579e-03\n",
       "std    5.424341e+06   3.498543e-02\n",
       "min    0.000000e+00   0.000000e+00\n",
       "25%    4.697617e+06   2.613477e-04\n",
       "50%    9.395234e+06   3.855908e-04\n",
       "75%    1.409285e+07   7.654008e-04\n",
       "max    1.879047e+07   1.000000e+00"
      ]
     },
     "execution_count": 21,
     "metadata": {},
     "output_type": "execute_result"
    }
   ],
   "source": [
    "# Creating the submission dataset\n",
    "df_submit['is_attributed'] = predictions[:,1]\n",
    "df_submit.describe()\n",
    "print('Submission dataset created.')\n",
    "\n",
    "# Preparing submssion\n",
    "df_submit.to_csv('random_forest_talking_data.csv', index=False)\n",
    "print('Submission dataset saved correctly.')\n",
    "\n",
    "df_submit.describe()\n",
    "\n"
   ]
  }
 ],
 "metadata": {
  "kernelspec": {
   "display_name": "Python 3",
   "language": "python",
   "name": "python3"
  },
  "language_info": {
   "codemirror_mode": {
    "name": "ipython",
    "version": 3
   },
   "file_extension": ".py",
   "mimetype": "text/x-python",
   "name": "python",
   "nbconvert_exporter": "python",
   "pygments_lexer": "ipython3",
   "version": "3.6.4"
  }
 },
 "nbformat": 4,
 "nbformat_minor": 2
}
