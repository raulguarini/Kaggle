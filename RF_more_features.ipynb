{
 "cells": [
  {
   "cell_type": "markdown",
   "metadata": {},
   "source": [
    "# Competição Talking Data\n",
    "## Equipe \"Econometristas\" - Alessandro Rivello e Raul Guarini"
   ]
  },
  {
   "cell_type": "code",
   "execution_count": 1,
   "metadata": {},
   "outputs": [
    {
     "name": "stderr",
     "output_type": "stream",
     "text": [
      "/usr/local/lib/python3.5/dist-packages/statsmodels/compat/pandas.py:56: FutureWarning: The pandas.core.datetools module is deprecated and will be removed in a future version. Please use the pandas.tseries module instead.\n",
      "  from pandas.core import datetools\n"
     ]
    }
   ],
   "source": [
    "import numpy as np \n",
    "import pandas as pd \n",
    "\n",
    "import statsmodels.api as sm\n",
    "import statsmodels.formula.api as smf\n",
    "\n",
    "import matplotlib\n",
    "import matplotlib.pyplot as plt\n",
    "from matplotlib.font_manager import FontProperties\n",
    "import seaborn as sns\n",
    "import pickle\n",
    "import itertools\n",
    "%matplotlib inline\n",
    "\n",
    "import os\n",
    "\n",
    "import gc, time\n",
    "\n",
    "dtypes = {\n",
    "        'ip'            : 'uint32',\n",
    "        'app'           : 'uint16',\n",
    "        'device'        : 'uint16',\n",
    "        'os'            : 'uint16',\n",
    "        'channel'       : 'uint16',\n",
    "        'is_attributed' : 'uint8',\n",
    "        'days'          : 'uint8',\n",
    "        'hours'         : 'uint8',\n",
    "        'minutes'       : 'uint8',\n",
    "        'seconds'       : 'uint8',\n",
    "        }\n",
    "\n",
    "# Correcting path to data inside EMAp servers\n",
    "path = '~/Kaggle/Dados/'\n",
    "\n",
    "train_columns = ['ip', 'app', 'device', 'os', 'channel', 'is_attributed', 'days', 'hours', 'minutes','seconds']"
   ]
  },
  {
   "cell_type": "markdown",
   "metadata": {},
   "source": [
    "Dado o tamanho dos dados originais, escolhemos trabalhar com uma amostra dos dados de teste (10% dos dados, selecionados aleatoriamente). Essa amostra é o mesmo dataset utilizado na parte de EDA do trabalho."
   ]
  },
  {
   "cell_type": "code",
   "execution_count": 2,
   "metadata": {},
   "outputs": [
    {
     "name": "stdout",
     "output_type": "stream",
     "text": [
      "Load df_train with 72.641 seconds\n"
     ]
    }
   ],
   "source": [
    "# Importing data\n",
    "\n",
    "# Load training df (partly)\n",
    "start_time = time.time()\n",
    "df_train = pd.read_csv(path + '10_train_timed.csv', dtype=dtypes, usecols=train_columns)\n",
    "print('Load df_train with {} seconds'.format(round(time.time() - start_time, 3)))"
   ]
  },
  {
   "cell_type": "code",
   "execution_count": 3,
   "metadata": {},
   "outputs": [
    {
     "name": "stdout",
     "output_type": "stream",
     "text": [
      "Load df_test with 45.641 seconds\n"
     ]
    }
   ],
   "source": [
    "# Load testing df\n",
    "start_time = time.time()\n",
    "df_test = pd.read_csv(path + 'test_timed.csv', dtype=dtypes)\n",
    "print('Load df_test with {} seconds'.format(round(time.time() - start_time, 3)))\n",
    "\n",
    "train_record_index = df_train.shape[0]"
   ]
  },
  {
   "cell_type": "code",
   "execution_count": 4,
   "metadata": {},
   "outputs": [
    {
     "data": {
      "text/html": [
       "<div>\n",
       "<style scoped>\n",
       "    .dataframe tbody tr th:only-of-type {\n",
       "        vertical-align: middle;\n",
       "    }\n",
       "\n",
       "    .dataframe tbody tr th {\n",
       "        vertical-align: top;\n",
       "    }\n",
       "\n",
       "    .dataframe thead th {\n",
       "        text-align: right;\n",
       "    }\n",
       "</style>\n",
       "<table border=\"1\" class=\"dataframe\">\n",
       "  <thead>\n",
       "    <tr style=\"text-align: right;\">\n",
       "      <th></th>\n",
       "      <th>ip</th>\n",
       "      <th>app</th>\n",
       "      <th>device</th>\n",
       "      <th>os</th>\n",
       "      <th>channel</th>\n",
       "      <th>days</th>\n",
       "      <th>hours</th>\n",
       "      <th>minutes</th>\n",
       "      <th>seconds</th>\n",
       "      <th>is_attributed</th>\n",
       "    </tr>\n",
       "  </thead>\n",
       "  <tbody>\n",
       "    <tr>\n",
       "      <th>0</th>\n",
       "      <td>29045</td>\n",
       "      <td>64</td>\n",
       "      <td>1</td>\n",
       "      <td>13</td>\n",
       "      <td>459</td>\n",
       "      <td>6</td>\n",
       "      <td>14</td>\n",
       "      <td>54</td>\n",
       "      <td>59</td>\n",
       "      <td>0</td>\n",
       "    </tr>\n",
       "    <tr>\n",
       "      <th>1</th>\n",
       "      <td>64886</td>\n",
       "      <td>3</td>\n",
       "      <td>1</td>\n",
       "      <td>13</td>\n",
       "      <td>379</td>\n",
       "      <td>6</td>\n",
       "      <td>15</td>\n",
       "      <td>5</td>\n",
       "      <td>17</td>\n",
       "      <td>0</td>\n",
       "    </tr>\n",
       "    <tr>\n",
       "      <th>2</th>\n",
       "      <td>147605</td>\n",
       "      <td>3</td>\n",
       "      <td>1</td>\n",
       "      <td>19</td>\n",
       "      <td>379</td>\n",
       "      <td>6</td>\n",
       "      <td>15</td>\n",
       "      <td>8</td>\n",
       "      <td>24</td>\n",
       "      <td>0</td>\n",
       "    </tr>\n",
       "    <tr>\n",
       "      <th>3</th>\n",
       "      <td>108881</td>\n",
       "      <td>3</td>\n",
       "      <td>1</td>\n",
       "      <td>19</td>\n",
       "      <td>379</td>\n",
       "      <td>6</td>\n",
       "      <td>15</td>\n",
       "      <td>25</td>\n",
       "      <td>15</td>\n",
       "      <td>0</td>\n",
       "    </tr>\n",
       "    <tr>\n",
       "      <th>4</th>\n",
       "      <td>116013</td>\n",
       "      <td>3</td>\n",
       "      <td>1</td>\n",
       "      <td>13</td>\n",
       "      <td>379</td>\n",
       "      <td>6</td>\n",
       "      <td>15</td>\n",
       "      <td>39</td>\n",
       "      <td>18</td>\n",
       "      <td>0</td>\n",
       "    </tr>\n",
       "  </tbody>\n",
       "</table>\n",
       "</div>"
      ],
      "text/plain": [
       "       ip  app  device  os  channel  days  hours  minutes  seconds  \\\n",
       "0   29045   64       1  13      459     6     14       54       59   \n",
       "1   64886    3       1  13      379     6     15        5       17   \n",
       "2  147605    3       1  19      379     6     15        8       24   \n",
       "3  108881    3       1  19      379     6     15       25       15   \n",
       "4  116013    3       1  13      379     6     15       39       18   \n",
       "\n",
       "   is_attributed  \n",
       "0              0  \n",
       "1              0  \n",
       "2              0  \n",
       "3              0  \n",
       "4              0  "
      ]
     },
     "execution_count": 4,
     "metadata": {},
     "output_type": "execute_result"
    }
   ],
   "source": [
    "df_train.head()"
   ]
  },
  {
   "cell_type": "code",
   "execution_count": 5,
   "metadata": {},
   "outputs": [
    {
     "data": {
      "text/html": [
       "<div>\n",
       "<style scoped>\n",
       "    .dataframe tbody tr th:only-of-type {\n",
       "        vertical-align: middle;\n",
       "    }\n",
       "\n",
       "    .dataframe tbody tr th {\n",
       "        vertical-align: top;\n",
       "    }\n",
       "\n",
       "    .dataframe thead th {\n",
       "        text-align: right;\n",
       "    }\n",
       "</style>\n",
       "<table border=\"1\" class=\"dataframe\">\n",
       "  <thead>\n",
       "    <tr style=\"text-align: right;\">\n",
       "      <th></th>\n",
       "      <th>click_id</th>\n",
       "      <th>ip</th>\n",
       "      <th>app</th>\n",
       "      <th>device</th>\n",
       "      <th>os</th>\n",
       "      <th>channel</th>\n",
       "      <th>days</th>\n",
       "      <th>hours</th>\n",
       "      <th>minutes</th>\n",
       "      <th>seconds</th>\n",
       "    </tr>\n",
       "  </thead>\n",
       "  <tbody>\n",
       "    <tr>\n",
       "      <th>0</th>\n",
       "      <td>0</td>\n",
       "      <td>5744</td>\n",
       "      <td>9</td>\n",
       "      <td>1</td>\n",
       "      <td>3</td>\n",
       "      <td>107</td>\n",
       "      <td>10</td>\n",
       "      <td>4</td>\n",
       "      <td>0</td>\n",
       "      <td>0</td>\n",
       "    </tr>\n",
       "    <tr>\n",
       "      <th>1</th>\n",
       "      <td>1</td>\n",
       "      <td>119901</td>\n",
       "      <td>9</td>\n",
       "      <td>1</td>\n",
       "      <td>3</td>\n",
       "      <td>466</td>\n",
       "      <td>10</td>\n",
       "      <td>4</td>\n",
       "      <td>0</td>\n",
       "      <td>0</td>\n",
       "    </tr>\n",
       "    <tr>\n",
       "      <th>2</th>\n",
       "      <td>2</td>\n",
       "      <td>72287</td>\n",
       "      <td>21</td>\n",
       "      <td>1</td>\n",
       "      <td>19</td>\n",
       "      <td>128</td>\n",
       "      <td>10</td>\n",
       "      <td>4</td>\n",
       "      <td>0</td>\n",
       "      <td>0</td>\n",
       "    </tr>\n",
       "    <tr>\n",
       "      <th>3</th>\n",
       "      <td>3</td>\n",
       "      <td>78477</td>\n",
       "      <td>15</td>\n",
       "      <td>1</td>\n",
       "      <td>13</td>\n",
       "      <td>111</td>\n",
       "      <td>10</td>\n",
       "      <td>4</td>\n",
       "      <td>0</td>\n",
       "      <td>0</td>\n",
       "    </tr>\n",
       "    <tr>\n",
       "      <th>4</th>\n",
       "      <td>4</td>\n",
       "      <td>123080</td>\n",
       "      <td>12</td>\n",
       "      <td>1</td>\n",
       "      <td>13</td>\n",
       "      <td>328</td>\n",
       "      <td>10</td>\n",
       "      <td>4</td>\n",
       "      <td>0</td>\n",
       "      <td>0</td>\n",
       "    </tr>\n",
       "  </tbody>\n",
       "</table>\n",
       "</div>"
      ],
      "text/plain": [
       "   click_id      ip  app  device  os  channel  days  hours  minutes  seconds\n",
       "0         0    5744    9       1   3      107    10      4        0        0\n",
       "1         1  119901    9       1   3      466    10      4        0        0\n",
       "2         2   72287   21       1  19      128    10      4        0        0\n",
       "3         3   78477   15       1  13      111    10      4        0        0\n",
       "4         4  123080   12       1  13      328    10      4        0        0"
      ]
     },
     "execution_count": 5,
     "metadata": {},
     "output_type": "execute_result"
    }
   ],
   "source": [
    "df_test.head()"
   ]
  },
  {
   "cell_type": "code",
   "execution_count": 6,
   "metadata": {},
   "outputs": [
    {
     "name": "stdout",
     "output_type": "stream",
     "text": [
      "Training target correctly extracted.\n",
      "Data was correctly merged\n"
     ]
    }
   ],
   "source": [
    "#df for submit\n",
    "df_submit = pd.DataFrame()\n",
    "df_submit['click_id'] = df_test['click_id']\n",
    "\n",
    "#Extracting learning data\n",
    "Learning_Y = df_train['is_attributed']\n",
    "print('Training target correctly extracted.')\n",
    "\n",
    "#drop zone\n",
    "df_test = df_test.drop(['click_id'], axis=1)\n",
    "df_train = df_train.drop(['is_attributed'], axis=1)\n",
    "gc.collect();\n",
    "\n",
    "df_merge = pd.concat([df_train, df_test])\n",
    "del df_train, df_test\n",
    "gc.collect();\n",
    "print('Data was correctly merged')"
   ]
  },
  {
   "cell_type": "markdown",
   "metadata": {},
   "source": [
    "# 1. Feature de contagem \n",
    "\n",
    "Criaremos uma coluna para cada feature existente no dataset que contará quantos cliques estão ligados a determinado registro"
   ]
  },
  {
   "cell_type": "code",
   "execution_count": 7,
   "metadata": {},
   "outputs": [
    {
     "name": "stdout",
     "output_type": "stream",
     "text": [
      "Loaded counts for all features with 78.797 seconds\n"
     ]
    }
   ],
   "source": [
    "# Count all features except device and timestamp data for both train and test df \n",
    "start_time = time.time()\n",
    "columns = df_merge.columns\n",
    "columns = [i for i in columns if i != 'device' and i != 'days' and i != 'hours' and i != 'minutes'\n",
    "          and i != 'seconds']\n",
    "\n",
    "for col in columns:\n",
    "    df_count = df_merge[col].value_counts().reset_index(name=col+'_count')\n",
    "    df_count.columns = [col, col+'_count']\n",
    "\n",
    "    df_merge = df_merge.merge(df_count, on=col, how='left', sort=False)\n",
    "    df_merge[col+'_count'] = df_merge[col+'_count'].astype('uint16')\n",
    "\n",
    "    del df_count\n",
    "    \n",
    "print('Loaded counts for all features with {} seconds'.format(round(time.time() - start_time, 3)))"
   ]
  },
  {
   "cell_type": "code",
   "execution_count": 8,
   "metadata": {},
   "outputs": [
    {
     "data": {
      "text/html": [
       "<div>\n",
       "<style scoped>\n",
       "    .dataframe tbody tr th:only-of-type {\n",
       "        vertical-align: middle;\n",
       "    }\n",
       "\n",
       "    .dataframe tbody tr th {\n",
       "        vertical-align: top;\n",
       "    }\n",
       "\n",
       "    .dataframe thead th {\n",
       "        text-align: right;\n",
       "    }\n",
       "</style>\n",
       "<table border=\"1\" class=\"dataframe\">\n",
       "  <thead>\n",
       "    <tr style=\"text-align: right;\">\n",
       "      <th></th>\n",
       "      <th>ip</th>\n",
       "      <th>app</th>\n",
       "      <th>device</th>\n",
       "      <th>os</th>\n",
       "      <th>channel</th>\n",
       "      <th>days</th>\n",
       "      <th>hours</th>\n",
       "      <th>minutes</th>\n",
       "      <th>seconds</th>\n",
       "      <th>ip_count</th>\n",
       "      <th>app_count</th>\n",
       "      <th>os_count</th>\n",
       "      <th>channel_count</th>\n",
       "    </tr>\n",
       "  </thead>\n",
       "  <tbody>\n",
       "    <tr>\n",
       "      <th>0</th>\n",
       "      <td>29045</td>\n",
       "      <td>64</td>\n",
       "      <td>1</td>\n",
       "      <td>13</td>\n",
       "      <td>459</td>\n",
       "      <td>6</td>\n",
       "      <td>14</td>\n",
       "      <td>54</td>\n",
       "      <td>59</td>\n",
       "      <td>1472</td>\n",
       "      <td>58544</td>\n",
       "      <td>8424</td>\n",
       "      <td>55595</td>\n",
       "    </tr>\n",
       "    <tr>\n",
       "      <th>1</th>\n",
       "      <td>64886</td>\n",
       "      <td>3</td>\n",
       "      <td>1</td>\n",
       "      <td>13</td>\n",
       "      <td>379</td>\n",
       "      <td>6</td>\n",
       "      <td>15</td>\n",
       "      <td>5</td>\n",
       "      <td>17</td>\n",
       "      <td>1702</td>\n",
       "      <td>18901</td>\n",
       "      <td>8424</td>\n",
       "      <td>24734</td>\n",
       "    </tr>\n",
       "    <tr>\n",
       "      <th>2</th>\n",
       "      <td>147605</td>\n",
       "      <td>3</td>\n",
       "      <td>1</td>\n",
       "      <td>19</td>\n",
       "      <td>379</td>\n",
       "      <td>6</td>\n",
       "      <td>15</td>\n",
       "      <td>8</td>\n",
       "      <td>24</td>\n",
       "      <td>559</td>\n",
       "      <td>18901</td>\n",
       "      <td>32993</td>\n",
       "      <td>24734</td>\n",
       "    </tr>\n",
       "    <tr>\n",
       "      <th>3</th>\n",
       "      <td>108881</td>\n",
       "      <td>3</td>\n",
       "      <td>1</td>\n",
       "      <td>19</td>\n",
       "      <td>379</td>\n",
       "      <td>6</td>\n",
       "      <td>15</td>\n",
       "      <td>25</td>\n",
       "      <td>15</td>\n",
       "      <td>19887</td>\n",
       "      <td>18901</td>\n",
       "      <td>32993</td>\n",
       "      <td>24734</td>\n",
       "    </tr>\n",
       "    <tr>\n",
       "      <th>4</th>\n",
       "      <td>116013</td>\n",
       "      <td>3</td>\n",
       "      <td>1</td>\n",
       "      <td>13</td>\n",
       "      <td>379</td>\n",
       "      <td>6</td>\n",
       "      <td>15</td>\n",
       "      <td>39</td>\n",
       "      <td>18</td>\n",
       "      <td>948</td>\n",
       "      <td>18901</td>\n",
       "      <td>8424</td>\n",
       "      <td>24734</td>\n",
       "    </tr>\n",
       "  </tbody>\n",
       "</table>\n",
       "</div>"
      ],
      "text/plain": [
       "       ip  app  device  os  channel  days  hours  minutes  seconds  ip_count  \\\n",
       "0   29045   64       1  13      459     6     14       54       59      1472   \n",
       "1   64886    3       1  13      379     6     15        5       17      1702   \n",
       "2  147605    3       1  19      379     6     15        8       24       559   \n",
       "3  108881    3       1  19      379     6     15       25       15     19887   \n",
       "4  116013    3       1  13      379     6     15       39       18       948   \n",
       "\n",
       "   app_count  os_count  channel_count  \n",
       "0      58544      8424          55595  \n",
       "1      18901      8424          24734  \n",
       "2      18901     32993          24734  \n",
       "3      18901     32993          24734  \n",
       "4      18901      8424          24734  "
      ]
     },
     "execution_count": 8,
     "metadata": {},
     "output_type": "execute_result"
    }
   ],
   "source": [
    "df_merge.head()"
   ]
  },
  {
   "cell_type": "code",
   "execution_count": 9,
   "metadata": {},
   "outputs": [],
   "source": [
    "gc.collect();\n",
    "\n",
    "df_train = df_merge[:train_record_index]\n",
    "df_test = df_merge[train_record_index:]"
   ]
  },
  {
   "cell_type": "markdown",
   "metadata": {},
   "source": [
    "Vamos definir algumas funções para nos ajudar a avaliar o desempenho dos nossos modelos."
   ]
  },
  {
   "cell_type": "code",
   "execution_count": 10,
   "metadata": {},
   "outputs": [],
   "source": [
    "from sklearn import model_selection\n",
    "from sklearn.metrics import roc_auc_score\n",
    "from sklearn.metrics import roc_curve\n",
    "from sklearn.metrics import f1_score\n",
    "from sklearn.metrics import confusion_matrix\n",
    "from sklearn.metrics import classification_report\n",
    "from sklearn.metrics import accuracy_score\n",
    "from sklearn.metrics import average_precision_score\n",
    "\n",
    "from sklearn.ensemble import RandomForestClassifier\n",
    "from imblearn.under_sampling import RandomUnderSampler\n",
    "\n",
    "from matplotlib.font_manager import FontProperties\n",
    "import seaborn as sns\n",
    "import pickle\n",
    "import itertools\n",
    "%matplotlib inline\n",
    "\n",
    "import statsmodels.api as sm\n",
    "import statsmodels.formula.api as smf\n",
    "\n",
    "from pylab import *\n",
    "\n",
    "def plot_confusion_matrix(cm, classes,\n",
    "                          normalize=False,\n",
    "                          title='Confusion matrix',\n",
    "                          cmap=plt.cm.Blues):\n",
    "    \"\"\"\n",
    "    This function prints and plots the confusion matrix.\n",
    "    Normalization can be applied by setting `normalize=True`.\n",
    "    \"\"\"\n",
    "\n",
    "    plt.imshow(cm, interpolation='nearest', cmap=cmap, aspect='auto')\n",
    "    plt.title(title)\n",
    "    plt.colorbar()\n",
    "    tick_marks = np.arange(len(classes))\n",
    "    plt.xticks(tick_marks, classes, rotation=45)\n",
    "    plt.yticks(tick_marks, classes)\n",
    "    \n",
    "    if normalize:\n",
    "        cm = cm.astype('float') / cm.sum(axis=1)[:, np.newaxis]\n",
    "        print(\"Normalized confusion matrix\")\n",
    "    else:\n",
    "        print('Confusion matrix, without normalization')\n",
    "\n",
    "    print(cm)\n",
    "\n",
    "    thresh = cm.max() / 2.\n",
    "    for i, j in itertools.product(range(cm.shape[0]), range(cm.shape[1])):\n",
    "        plt.text(j, i, cm[i, j],\n",
    "                 horizontalalignment=\"center\",\n",
    "                 color=\"white\" if cm[i, j] > thresh else \"black\")\n",
    "\n",
    "    plt.tight_layout()\n",
    "    plt.ylabel('True label')\n",
    "    plt.xlabel('Predicted label')\n",
    "\n",
    "def clf_eval(clf, X, y_true, classes=['Não baixou', 'Baixou'], normalize=False):\n",
    "    y_pred = clf.predict(X)\n",
    "    clf_matrix = confusion_matrix(y_true, y_pred)\n",
    "    print('Classification Report')\n",
    "    print(classification_report(y_true, y_pred, target_names=classes))\n",
    "    print('ROC Score: {}'.format(roc_auc_score(y_true, y_pred)))\n",
    "    print('Accuracy Score: {}'.format(accuracy_score(y_true, y_pred)))\n",
    "    print('Average Precision Score: {}'.format(average_precision_score(y_true, y_pred)))\n",
    "    print('f1 Score: {}'.format(f1_score(y_true, y_pred)))\n",
    "    plot_confusion_matrix(clf_matrix, classes=classes, normalize=normalize)\n",
    "    \n",
    "    return roc_auc_score(y_true, y_pred)"
   ]
  },
  {
   "cell_type": "markdown",
   "metadata": {},
   "source": [
    "Dado o grande desbalanceamento nos dados, visto na fase de EDA, faremos o undersampling dos dados."
   ]
  },
  {
   "cell_type": "code",
   "execution_count": 11,
   "metadata": {},
   "outputs": [],
   "source": [
    "# Doing undersampling\n",
    "\n",
    "rus = RandomUnderSampler(return_indices=True)\n",
    "X_resampled, Y_resampled, idx_resampled = rus.fit_sample(df_train, Learning_Y)\n",
    "\n",
    "X_resampled = pd.DataFrame(X_resampled, columns=df_train.columns)\n",
    "Y_resampled = pd.DataFrame(Y_resampled, columns=['is_attributed'])\n"
   ]
  },
  {
   "cell_type": "code",
   "execution_count": 12,
   "metadata": {},
   "outputs": [],
   "source": [
    "# Separating 10 groups of testing and training for cross validation\n",
    "\n",
    "train_idx = np.array([])\n",
    "test_idx = np.array([])\n",
    "roc_counts = []\n",
    "\n",
    "idx = model_selection.StratifiedKFold(n_splits=10).split(X_resampled, Y_resampled)"
   ]
  },
  {
   "cell_type": "code",
   "execution_count": 13,
   "metadata": {},
   "outputs": [
    {
     "name": "stdout",
     "output_type": "stream",
     "text": [
      "RandomForest has fitted X_resampled with 1 seconds\n",
      "RandomForest has fitted X_resampled with 0 seconds\n",
      "RandomForest has fitted X_resampled with 0 seconds\n",
      "RandomForest has fitted X_resampled with 0 seconds\n",
      "RandomForest has fitted X_resampled with 1 seconds\n",
      "RandomForest has fitted X_resampled with 1 seconds\n",
      "RandomForest has fitted X_resampled with 0 seconds\n",
      "RandomForest has fitted X_resampled with 0 seconds\n",
      "RandomForest has fitted X_resampled with 0 seconds\n",
      "RandomForest has fitted X_resampled with 0 seconds\n"
     ]
    }
   ],
   "source": [
    "for train_idx, test_idx in idx:\n",
    "    start_time = time.time()\n",
    "    X = X_resampled.iloc[train_idx]\n",
    "    Y = Y_resampled.iloc[train_idx]\n",
    "    rf = RandomForestClassifier(n_estimators=100, max_depth=13, verbose=0, n_jobs = -1)\n",
    "    rf = rf.fit(X, Y.values.ravel())\n",
    "    \n",
    "    print('RandomForest has fitted X_resampled with {} seconds'.format(round(time.time() - start_time), 3))\n",
    "        \n",
    "    Y_true = Y_resampled.iloc[test_idx]\n",
    "    Y_pred = rf.predict(X_resampled.iloc[test_idx])\n",
    "    roc_counts.append(roc_auc_score(Y_true, Y_pred))"
   ]
  },
  {
   "cell_type": "code",
   "execution_count": 14,
   "metadata": {},
   "outputs": [
    {
     "data": {
      "image/png": "[encoded data removed]",
      "text/plain": [
       "<Figure size 648x432 with 1 Axes>"
      ]
     },
     "metadata": {},
     "output_type": "display_data"
    }
   ],
   "source": [
    "# Ploting the ROC scores\n",
    "roc_counts = np.array(roc_counts)\n",
    "\n",
    "fig = plt.figure(1, figsize=(9, 6))\n",
    "ax = fig.add_subplot(111)\n",
    "\n",
    "bp_dict = ax.boxplot(roc_counts)\n",
    "ax.set_xticklabels(['All_counts'])\n",
    "ax.set_title('Models ROC Scores')\n",
    "\n",
    "for line in bp_dict['medians']:\n",
    "    # get position data for median line\n",
    "    x1, y1 = line.get_xydata()[0] # low of median line\n",
    "    x2, y1 = line.get_xydata()[1] # top of median line\n",
    "    x = (x1 + x2)/2\n",
    "    # overlay median value\n",
    "    text(x, y1+0.001, '%.3f' % y1,\n",
    "         horizontalalignment='center') # draw above, centered"
   ]
  },
  {
   "cell_type": "markdown",
   "metadata": {},
   "source": [
    "Buscando uma representação mais parcimoniosa tentaremos usar apenas a dado de IP count"
   ]
  },
  {
   "cell_type": "code",
   "execution_count": 15,
   "metadata": {},
   "outputs": [],
   "source": [
    "# Doing undersampling\n",
    "\n",
    "params = ['ip', 'app', 'device', 'os', 'channel','days', 'hours', 'minutes',\n",
    "                                                                  'seconds', 'ip_count']\n",
    "rus = RandomUnderSampler(return_indices=True)\n",
    "X_resampled, Y_resampled, idx_resampled = rus.fit_sample(df_train[params], Learning_Y)\n",
    "\n",
    "X_resampled = pd.DataFrame(X_resampled, columns=params)\n",
    "Y_resampled = pd.DataFrame(Y_resampled, columns=['is_attributed'])"
   ]
  },
  {
   "cell_type": "code",
   "execution_count": 16,
   "metadata": {},
   "outputs": [],
   "source": [
    "# Separating 10 groups of testing and training for cross validation\n",
    "\n",
    "train_idx = np.array([])\n",
    "test_idx = np.array([])\n",
    "roc_ipcounts = []\n",
    "\n",
    "idx = model_selection.StratifiedKFold(n_splits=10).split(X_resampled, Y_resampled)"
   ]
  },
  {
   "cell_type": "code",
   "execution_count": 17,
   "metadata": {},
   "outputs": [
    {
     "name": "stdout",
     "output_type": "stream",
     "text": [
      "RandomForest has fitted X_resampled with 0 seconds\n",
      "RandomForest has fitted X_resampled with 0 seconds\n",
      "RandomForest has fitted X_resampled with 1 seconds\n",
      "RandomForest has fitted X_resampled with 0 seconds\n",
      "RandomForest has fitted X_resampled with 0 seconds\n",
      "RandomForest has fitted X_resampled with 0 seconds\n",
      "RandomForest has fitted X_resampled with 0 seconds\n",
      "RandomForest has fitted X_resampled with 0 seconds\n",
      "RandomForest has fitted X_resampled with 0 seconds\n",
      "RandomForest has fitted X_resampled with 0 seconds\n"
     ]
    }
   ],
   "source": [
    "for train_idx, test_idx in idx:\n",
    "    start_time = time.time()\n",
    "    X = X_resampled.iloc[train_idx]\n",
    "    Y = Y_resampled.iloc[train_idx]\n",
    "    rf = RandomForestClassifier(n_estimators=100, max_depth=13, verbose=0, n_jobs = -1)\n",
    "    rf = rf.fit(X, Y.values.ravel())\n",
    "    \n",
    "    print('RandomForest has fitted X_resampled with {} seconds'.format(round(time.time() - start_time), 3))\n",
    "        \n",
    "    Y_true = Y_resampled.iloc[test_idx]\n",
    "    Y_pred = rf.predict(X_resampled.iloc[test_idx])\n",
    "    roc_ipcounts.append(roc_auc_score(Y_true, Y_pred))"
   ]
  },
  {
   "cell_type": "code",
   "execution_count": 18,
   "metadata": {},
   "outputs": [
    {
     "data": {
      "image/png": "[encoded data removed]",
      "text/plain": [
       "<Figure size 648x432 with 1 Axes>"
      ]
     },
     "metadata": {},
     "output_type": "display_data"
    }
   ],
   "source": [
    "# Ploting the ROC scores\n",
    "roc_ipcounts = np.array(roc_ipcounts)\n",
    "data_plot = [roc_counts, roc_ipcounts]\n",
    "labels = ['All_counts', 'ip_counts']\n",
    "\n",
    "fig = plt.figure(1, figsize=(9, 6))\n",
    "ax = fig.add_subplot(111)\n",
    "\n",
    "bp_dict = ax.boxplot(data_plot)\n",
    "ax.set_xticklabels(labels)\n",
    "ax.set_title('Models ROC Scores')\n",
    "\n",
    "for line in bp_dict['medians']:\n",
    "    # get position data for median line\n",
    "    x1, y1 = line.get_xydata()[0] # low of median line\n",
    "    x2, y1 = line.get_xydata()[1] # top of median line\n",
    "    x = (x1 + x2)/2\n",
    "    # overlay median value\n",
    "    text(x, y1+0.001, '%.3f' % y1,\n",
    "         horizontalalignment='center') # draw above, centered"
   ]
  },
  {
   "cell_type": "markdown",
   "metadata": {},
   "source": [
    "Observamos que, apesar da mediana do modelo mais parcimonioso não estar muito distante do modelo completo, a variância dos resultados aumentou bastante. Seguimos Tentando novas features."
   ]
  },
  {
   "cell_type": "markdown",
   "metadata": {},
   "source": [
    "# 2. Utilizando a informação temporal\n",
    "\n",
    "Criaremos uma coluna que mede o intervalo entre um clique e outro ligado ao mesmo IP"
   ]
  },
  {
   "cell_type": "code",
   "execution_count": 19,
   "metadata": {},
   "outputs": [
    {
     "name": "stdout",
     "output_type": "stream",
     "text": [
      "New dataframe with diff clicktime created in 1793 seconds\n"
     ]
    }
   ],
   "source": [
    "# This cell takes a long time to run.... be pacient\n",
    "start_time = time.time()\n",
    "gr = pd.DataFrame()\n",
    "gr['ip'] = df_merge.ip\n",
    "gr['time'] = pd.to_datetime(df_merge.loc[:,['hours', 'minutes', 'seconds']].astype(str).apply(''.join,1),format='%H%M%S')\n",
    "gr['delta_time'] = gr.groupby('ip').time.diff().dt.total_seconds()\n",
    "gr = gr.drop(['time'], axis=1)\n",
    "print('New dataframe with diff clicktime created in {} seconds'.format(round(time.time() - start_time), 3))"
   ]
  },
  {
   "cell_type": "code",
   "execution_count": 21,
   "metadata": {},
   "outputs": [
    {
     "data": {
      "text/html": [
       "<div>\n",
       "<style scoped>\n",
       "    .dataframe tbody tr th:only-of-type {\n",
       "        vertical-align: middle;\n",
       "    }\n",
       "\n",
       "    .dataframe tbody tr th {\n",
       "        vertical-align: top;\n",
       "    }\n",
       "\n",
       "    .dataframe thead th {\n",
       "        text-align: right;\n",
       "    }\n",
       "</style>\n",
       "<table border=\"1\" class=\"dataframe\">\n",
       "  <thead>\n",
       "    <tr style=\"text-align: right;\">\n",
       "      <th></th>\n",
       "      <th>ip</th>\n",
       "      <th>app</th>\n",
       "      <th>device</th>\n",
       "      <th>os</th>\n",
       "      <th>channel</th>\n",
       "      <th>days</th>\n",
       "      <th>hours</th>\n",
       "      <th>minutes</th>\n",
       "      <th>seconds</th>\n",
       "      <th>ip_count</th>\n",
       "      <th>app_count</th>\n",
       "      <th>os_count</th>\n",
       "      <th>channel_count</th>\n",
       "      <th>delta_time</th>\n",
       "    </tr>\n",
       "  </thead>\n",
       "  <tbody>\n",
       "    <tr>\n",
       "      <th>0</th>\n",
       "      <td>29045</td>\n",
       "      <td>64</td>\n",
       "      <td>1</td>\n",
       "      <td>13</td>\n",
       "      <td>459</td>\n",
       "      <td>6</td>\n",
       "      <td>14</td>\n",
       "      <td>54</td>\n",
       "      <td>59</td>\n",
       "      <td>1472</td>\n",
       "      <td>58544</td>\n",
       "      <td>8424</td>\n",
       "      <td>55595</td>\n",
       "      <td>0.0</td>\n",
       "    </tr>\n",
       "    <tr>\n",
       "      <th>1</th>\n",
       "      <td>64886</td>\n",
       "      <td>3</td>\n",
       "      <td>1</td>\n",
       "      <td>13</td>\n",
       "      <td>379</td>\n",
       "      <td>6</td>\n",
       "      <td>15</td>\n",
       "      <td>5</td>\n",
       "      <td>17</td>\n",
       "      <td>1702</td>\n",
       "      <td>18901</td>\n",
       "      <td>8424</td>\n",
       "      <td>24734</td>\n",
       "      <td>0.0</td>\n",
       "    </tr>\n",
       "    <tr>\n",
       "      <th>2</th>\n",
       "      <td>147605</td>\n",
       "      <td>3</td>\n",
       "      <td>1</td>\n",
       "      <td>19</td>\n",
       "      <td>379</td>\n",
       "      <td>6</td>\n",
       "      <td>15</td>\n",
       "      <td>8</td>\n",
       "      <td>24</td>\n",
       "      <td>559</td>\n",
       "      <td>18901</td>\n",
       "      <td>32993</td>\n",
       "      <td>24734</td>\n",
       "      <td>0.0</td>\n",
       "    </tr>\n",
       "    <tr>\n",
       "      <th>3</th>\n",
       "      <td>108881</td>\n",
       "      <td>3</td>\n",
       "      <td>1</td>\n",
       "      <td>19</td>\n",
       "      <td>379</td>\n",
       "      <td>6</td>\n",
       "      <td>15</td>\n",
       "      <td>25</td>\n",
       "      <td>15</td>\n",
       "      <td>19887</td>\n",
       "      <td>18901</td>\n",
       "      <td>32993</td>\n",
       "      <td>24734</td>\n",
       "      <td>0.0</td>\n",
       "    </tr>\n",
       "    <tr>\n",
       "      <th>4</th>\n",
       "      <td>116013</td>\n",
       "      <td>3</td>\n",
       "      <td>1</td>\n",
       "      <td>13</td>\n",
       "      <td>379</td>\n",
       "      <td>6</td>\n",
       "      <td>15</td>\n",
       "      <td>39</td>\n",
       "      <td>18</td>\n",
       "      <td>948</td>\n",
       "      <td>18901</td>\n",
       "      <td>8424</td>\n",
       "      <td>24734</td>\n",
       "      <td>0.0</td>\n",
       "    </tr>\n",
       "  </tbody>\n",
       "</table>\n",
       "</div>"
      ],
      "text/plain": [
       "       ip  app  device  os  channel  days  hours  minutes  seconds  ip_count  \\\n",
       "0   29045   64       1  13      459     6     14       54       59      1472   \n",
       "1   64886    3       1  13      379     6     15        5       17      1702   \n",
       "2  147605    3       1  19      379     6     15        8       24       559   \n",
       "3  108881    3       1  19      379     6     15       25       15     19887   \n",
       "4  116013    3       1  13      379     6     15       39       18       948   \n",
       "\n",
       "   app_count  os_count  channel_count  delta_time  \n",
       "0      58544      8424          55595         0.0  \n",
       "1      18901      8424          24734         0.0  \n",
       "2      18901     32993          24734         0.0  \n",
       "3      18901     32993          24734         0.0  \n",
       "4      18901      8424          24734         0.0  "
      ]
     },
     "execution_count": 21,
     "metadata": {},
     "output_type": "execute_result"
    }
   ],
   "source": [
    "#Merging the new feature created in the original df\n",
    "df_merge['delta_time'] = gr.delta_time\n",
    "df_merge['delta_time'] = df_merge['delta_time'].fillna(value = 0)\n",
    "# Deleting the temporary df created on the process\n",
    "del gr\n",
    "gc.collect();\n",
    "\n",
    "df_merge.head()"
   ]
  },
  {
   "cell_type": "code",
   "execution_count": 22,
   "metadata": {},
   "outputs": [],
   "source": [
    "# Getting back train and test\n",
    "df_train = df_merge[:train_record_index]\n",
    "df_test = df_merge[train_record_index:]"
   ]
  },
  {
   "cell_type": "code",
   "execution_count": 23,
   "metadata": {},
   "outputs": [],
   "source": [
    "# Doing undersampling\n",
    "\n",
    "rus = RandomUnderSampler(return_indices=True)\n",
    "X_resampled, Y_resampled, idx_resampled = rus.fit_sample(df_train, Learning_Y)\n",
    "\n",
    "X_resampled = pd.DataFrame(X_resampled, columns=df_train.columns)\n",
    "Y_resampled = pd.DataFrame(Y_resampled, columns=['is_attributed'])"
   ]
  },
  {
   "cell_type": "code",
   "execution_count": 24,
   "metadata": {},
   "outputs": [],
   "source": [
    "# Separating 10 groups of testing and training for cross validation\n",
    "\n",
    "train_idx = np.array([])\n",
    "test_idx = np.array([])\n",
    "roc_ipcounts_dtime = []\n",
    "\n",
    "idx = model_selection.StratifiedKFold(n_splits=10).split(X_resampled, Y_resampled)"
   ]
  },
  {
   "cell_type": "code",
   "execution_count": 25,
   "metadata": {},
   "outputs": [
    {
     "name": "stdout",
     "output_type": "stream",
     "text": [
      "RandomForest has fitted X_resampled with 1 seconds\n",
      "RandomForest has fitted X_resampled with 1 seconds\n",
      "RandomForest has fitted X_resampled with 1 seconds\n",
      "RandomForest has fitted X_resampled with 1 seconds\n",
      "RandomForest has fitted X_resampled with 1 seconds\n",
      "RandomForest has fitted X_resampled with 1 seconds\n",
      "RandomForest has fitted X_resampled with 1 seconds\n",
      "RandomForest has fitted X_resampled with 1 seconds\n",
      "RandomForest has fitted X_resampled with 1 seconds\n",
      "RandomForest has fitted X_resampled with 1 seconds\n"
     ]
    }
   ],
   "source": [
    "for train_idx, test_idx in idx:\n",
    "    start_time = time.time()\n",
    "    X = X_resampled.iloc[train_idx]\n",
    "    Y = Y_resampled.iloc[train_idx]\n",
    "    rf = RandomForestClassifier(n_estimators=100, max_depth=13, verbose=0, n_jobs = -1)\n",
    "    rf = rf.fit(X, Y.values.ravel())\n",
    "    \n",
    "    print('RandomForest has fitted X_resampled with {} seconds'.format(round(time.time() - start_time), 3))\n",
    "        \n",
    "    Y_true = Y_resampled.iloc[test_idx]\n",
    "    Y_pred = rf.predict(X_resampled.iloc[test_idx])\n",
    "    roc_ipcounts_dtime.append(roc_auc_score(Y_true, Y_pred))"
   ]
  },
  {
   "cell_type": "code",
   "execution_count": 26,
   "metadata": {},
   "outputs": [
    {
     "data": {
      "image/png": "[encoded data removed]",
      "text/plain": [
       "<Figure size 648x432 with 1 Axes>"
      ]
     },
     "metadata": {},
     "output_type": "display_data"
    }
   ],
   "source": [
    "# Ploting the ROC scores\n",
    "roc_counts_dtime = np.array(roc_ipcounts_dtime)\n",
    "data_plot = [roc_counts, roc_ipcounts, roc_counts_dtime]\n",
    "labels = ['All_counts', 'ip_counts', 'All_counts & delta_time']\n",
    "\n",
    "fig = plt.figure(1, figsize=(9, 6))\n",
    "ax = fig.add_subplot(111)\n",
    "\n",
    "bp_dict = ax.boxplot(data_plot)\n",
    "ax.set_xticklabels(labels)\n",
    "ax.set_title('Models ROC Scores')\n",
    "\n",
    "for line in bp_dict['medians']:\n",
    "    # get position data for median line\n",
    "    x1, y1 = line.get_xydata()[0] # low of median line\n",
    "    x2, y1 = line.get_xydata()[1] # top of median line\n",
    "    x = (x1 + x2)/2\n",
    "    # overlay median value\n",
    "    text(x, y1+0.001, '%.3f' % y1,\n",
    "         horizontalalignment='center') # draw above, centered"
   ]
  },
  {
   "cell_type": "markdown",
   "metadata": {},
   "source": [
    "As novas alterações propostas não provocaram grandes mudanças na capacidade preditiva do modelo."
   ]
  },
  {
   "cell_type": "markdown",
   "metadata": {},
   "source": [
    "# 3. Usando apenas nossas features\n",
    "\n",
    "Seguindo a filosofia da parimonia, tentaremos reduzir o número de features usadas no treinamento do modelo e avaliar como isso afeta sua eficiência"
   ]
  },
  {
   "cell_type": "code",
   "execution_count": 27,
   "metadata": {},
   "outputs": [],
   "source": [
    "# Doing undersampling\n",
    "params = ['device', 'hours', 'minutes', 'seconds', 'ip_count', 'app_count', 'os_count', 'channel_count', 'delta_time']\n",
    "rus = RandomUnderSampler(return_indices=True)\n",
    "X_resampled, Y_resampled, idx_resampled = rus.fit_sample(df_train[params], Learning_Y)\n",
    "\n",
    "X_resampled = pd.DataFrame(X_resampled, columns=params)\n",
    "Y_resampled = pd.DataFrame(Y_resampled, columns=['is_attributed'])"
   ]
  },
  {
   "cell_type": "code",
   "execution_count": 28,
   "metadata": {},
   "outputs": [],
   "source": [
    "# Separating 10 groups of testing and training for cross validation\n",
    "\n",
    "train_idx = np.array([])\n",
    "test_idx = np.array([])\n",
    "roc_onlycounts_dtime = []\n",
    "\n",
    "idx = model_selection.StratifiedKFold(n_splits=10).split(X_resampled, Y_resampled)"
   ]
  },
  {
   "cell_type": "code",
   "execution_count": 29,
   "metadata": {},
   "outputs": [
    {
     "name": "stdout",
     "output_type": "stream",
     "text": [
      "RandomForest has fitted X_resampled with 2 seconds\n",
      "RandomForest has fitted X_resampled with 2 seconds\n",
      "RandomForest has fitted X_resampled with 2 seconds\n",
      "RandomForest has fitted X_resampled with 2 seconds\n",
      "RandomForest has fitted X_resampled with 2 seconds\n",
      "RandomForest has fitted X_resampled with 2 seconds\n",
      "RandomForest has fitted X_resampled with 2 seconds\n",
      "RandomForest has fitted X_resampled with 2 seconds\n",
      "RandomForest has fitted X_resampled with 2 seconds\n",
      "RandomForest has fitted X_resampled with 2 seconds\n"
     ]
    }
   ],
   "source": [
    "for train_idx, test_idx in idx:\n",
    "    start_time = time.time()\n",
    "    X = X_resampled.iloc[train_idx]\n",
    "    Y = Y_resampled.iloc[train_idx]\n",
    "    rf = RandomForestClassifier(n_estimators=100, max_depth=20, verbose=0, n_jobs = -1)\n",
    "    rf = rf.fit(X, Y.values.ravel())\n",
    "    \n",
    "    print('RandomForest has fitted X_resampled with {} seconds'.format(round(time.time() - start_time), 3))\n",
    "        \n",
    "    Y_true = Y_resampled.iloc[test_idx]\n",
    "    Y_pred = rf.predict(X_resampled.iloc[test_idx])\n",
    "    roc_onlycounts_dtime.append(roc_auc_score(Y_true, Y_pred))"
   ]
  },
  {
   "cell_type": "code",
   "execution_count": 30,
   "metadata": {},
   "outputs": [
    {
     "data": {
      "image/png": "[encoded data removed]",
      "text/plain": [
       "<Figure size 648x432 with 1 Axes>"
      ]
     },
     "metadata": {},
     "output_type": "display_data"
    }
   ],
   "source": [
    "# Ploting the ROC scores\n",
    "roc_onlycounts_dtime = np.array(roc_onlycounts_dtime)\n",
    "data_plot = [roc_counts, roc_ipcounts, roc_counts_dtime, roc_onlycounts_dtime]\n",
    "labels = ['All_counts', 'ip_counts', 'All_counts & delta_time', 'Just_counts & delta_time']\n",
    "\n",
    "fig = plt.figure(1, figsize=(9, 6))\n",
    "ax = fig.add_subplot(111)\n",
    "\n",
    "bp_dict = ax.boxplot(data_plot, vert=False)\n",
    "ax.set_yticklabels(labels)\n",
    "ax.set_title('Models ROC Scores', fontsize = 16)\n",
    "\n",
    "for line in bp_dict['medians']:\n",
    "    # get position data for median line\n",
    "    x, y = line.get_xydata()[1] # low of median line\n",
    "        \n",
    "    # overlay median value\n",
    "    text(x, y + 0.02, '%.3f' % x,\n",
    "         horizontalalignment='center') # draw above, centered"
   ]
  },
  {
   "cell_type": "markdown",
   "metadata": {},
   "source": [
    "Interessante ver que reduzir o número de features usadas no treino do algoritmo também reduz a variância dos ROC scores"
   ]
  },
  {
   "cell_type": "markdown",
   "metadata": {},
   "source": [
    "# 4. Submissão\n",
    "\n",
    "Preparando os datasets para submissão"
   ]
  },
  {
   "cell_type": "code",
   "execution_count": 31,
   "metadata": {},
   "outputs": [
    {
     "name": "stdout",
     "output_type": "stream",
     "text": [
      "Starting prediction phase...\n",
      "Prediction done. Elapsed time: 57.439 seconds\n"
     ]
    }
   ],
   "source": [
    "# Predict\n",
    "print('Starting prediction phase...')\n",
    "start_time = time.time()\n",
    "predictions = rf.predict_proba(df_test[params])\n",
    "print('Prediction done. Elapsed time: {} seconds'.format(round(time.time() - start_time, 3)))"
   ]
  },
  {
   "cell_type": "code",
   "execution_count": 32,
   "metadata": {},
   "outputs": [
    {
     "name": "stdout",
     "output_type": "stream",
     "text": [
      "Submission dataset created.\n"
     ]
    },
    {
     "data": {
      "text/html": [
       "<div>\n",
       "<style scoped>\n",
       "    .dataframe tbody tr th:only-of-type {\n",
       "        vertical-align: middle;\n",
       "    }\n",
       "\n",
       "    .dataframe tbody tr th {\n",
       "        vertical-align: top;\n",
       "    }\n",
       "\n",
       "    .dataframe thead th {\n",
       "        text-align: right;\n",
       "    }\n",
       "</style>\n",
       "<table border=\"1\" class=\"dataframe\">\n",
       "  <thead>\n",
       "    <tr style=\"text-align: right;\">\n",
       "      <th></th>\n",
       "      <th>click_id</th>\n",
       "      <th>is_attributed</th>\n",
       "    </tr>\n",
       "  </thead>\n",
       "  <tbody>\n",
       "    <tr>\n",
       "      <th>0</th>\n",
       "      <td>0</td>\n",
       "      <td>0.312622</td>\n",
       "    </tr>\n",
       "    <tr>\n",
       "      <th>1</th>\n",
       "      <td>1</td>\n",
       "      <td>0.223482</td>\n",
       "    </tr>\n",
       "    <tr>\n",
       "      <th>2</th>\n",
       "      <td>2</td>\n",
       "      <td>0.197517</td>\n",
       "    </tr>\n",
       "    <tr>\n",
       "      <th>3</th>\n",
       "      <td>3</td>\n",
       "      <td>0.160406</td>\n",
       "    </tr>\n",
       "    <tr>\n",
       "      <th>4</th>\n",
       "      <td>4</td>\n",
       "      <td>0.158317</td>\n",
       "    </tr>\n",
       "  </tbody>\n",
       "</table>\n",
       "</div>"
      ],
      "text/plain": [
       "   click_id  is_attributed\n",
       "0         0       0.312622\n",
       "1         1       0.223482\n",
       "2         2       0.197517\n",
       "3         3       0.160406\n",
       "4         4       0.158317"
      ]
     },
     "execution_count": 32,
     "metadata": {},
     "output_type": "execute_result"
    }
   ],
   "source": [
    "# Creating the submission dataset\n",
    "df_submit['is_attributed'] = predictions[:,1]\n",
    "\n",
    "print('Submission dataset created.')\n",
    "df_submit.head()"
   ]
  },
  {
   "cell_type": "code",
   "execution_count": 185,
   "metadata": {},
   "outputs": [
    {
     "name": "stdout",
     "output_type": "stream",
     "text": [
      "Submission dataset saved correctly.\n"
     ]
    },
    {
     "data": {
      "text/html": [
       "<div>\n",
       "<style scoped>\n",
       "    .dataframe tbody tr th:only-of-type {\n",
       "        vertical-align: middle;\n",
       "    }\n",
       "\n",
       "    .dataframe tbody tr th {\n",
       "        vertical-align: top;\n",
       "    }\n",
       "\n",
       "    .dataframe thead th {\n",
       "        text-align: right;\n",
       "    }\n",
       "</style>\n",
       "<table border=\"1\" class=\"dataframe\">\n",
       "  <thead>\n",
       "    <tr style=\"text-align: right;\">\n",
       "      <th></th>\n",
       "      <th>click_id</th>\n",
       "      <th>is_attributed</th>\n",
       "    </tr>\n",
       "  </thead>\n",
       "  <tbody>\n",
       "    <tr>\n",
       "      <th>count</th>\n",
       "      <td>1.879047e+07</td>\n",
       "      <td>1.879047e+07</td>\n",
       "    </tr>\n",
       "    <tr>\n",
       "      <th>mean</th>\n",
       "      <td>9.395234e+06</td>\n",
       "      <td>1.358047e-01</td>\n",
       "    </tr>\n",
       "    <tr>\n",
       "      <th>std</th>\n",
       "      <td>5.424341e+06</td>\n",
       "      <td>1.675659e-01</td>\n",
       "    </tr>\n",
       "    <tr>\n",
       "      <th>min</th>\n",
       "      <td>0.000000e+00</td>\n",
       "      <td>0.000000e+00</td>\n",
       "    </tr>\n",
       "    <tr>\n",
       "      <th>25%</th>\n",
       "      <td>4.697617e+06</td>\n",
       "      <td>4.229510e-02</td>\n",
       "    </tr>\n",
       "    <tr>\n",
       "      <th>50%</th>\n",
       "      <td>9.395234e+06</td>\n",
       "      <td>7.976632e-02</td>\n",
       "    </tr>\n",
       "    <tr>\n",
       "      <th>75%</th>\n",
       "      <td>1.409285e+07</td>\n",
       "      <td>1.558537e-01</td>\n",
       "    </tr>\n",
       "    <tr>\n",
       "      <th>max</th>\n",
       "      <td>1.879047e+07</td>\n",
       "      <td>1.000000e+00</td>\n",
       "    </tr>\n",
       "  </tbody>\n",
       "</table>\n",
       "</div>"
      ],
      "text/plain": [
       "           click_id  is_attributed\n",
       "count  1.879047e+07   1.879047e+07\n",
       "mean   9.395234e+06   1.358047e-01\n",
       "std    5.424341e+06   1.675659e-01\n",
       "min    0.000000e+00   0.000000e+00\n",
       "25%    4.697617e+06   4.229510e-02\n",
       "50%    9.395234e+06   7.976632e-02\n",
       "75%    1.409285e+07   1.558537e-01\n",
       "max    1.879047e+07   1.000000e+00"
      ]
     },
     "execution_count": 185,
     "metadata": {},
     "output_type": "execute_result"
    }
   ],
   "source": [
    "# Preparing submssion\n",
    "df_submit.to_csv('Undersample_clicktime.csv', index=False)\n",
    "print('Submission dataset saved correctly.')\n",
    "\n",
    "df_submit.describe()"
   ]
  }
 ],
 "metadata": {
  "kernelspec": {
   "display_name": "Python 3",
   "language": "python",
   "name": "python3"
  },
  "language_info": {
   "codemirror_mode": {
    "name": "ipython",
    "version": 3
   },
   "file_extension": ".py",
   "mimetype": "text/x-python",
   "name": "python",
   "nbconvert_exporter": "python",
   "pygments_lexer": "ipython3",
   "version": "3.5.2"
  }
 },
 "nbformat": 4,
 "nbformat_minor": 2
}
