{
 "cells": [
  {
   "cell_type": "code",
   "execution_count": 1,
   "metadata": {},
   "outputs": [
    {
     "name": "stderr",
     "output_type": "stream",
     "text": [
      "/usr/local/lib/python3.5/dist-packages/statsmodels/compat/pandas.py:56: FutureWarning: The pandas.core.datetools module is deprecated and will be removed in a future version. Please use the pandas.tseries module instead.\n",
      "  from pandas.core import datetools\n"
     ]
    }
   ],
   "source": [
    "# This is hardly inspired by the work of Raven Ron on https://www.kaggle.com/codeastar/random-forest-classification-on-talkingdata\n",
    "\n",
    "import numpy as np # linear algebra\n",
    "import pandas as pd # data processing, CSV file I/O (e.g. pd.read_csv)\n",
    "\n",
    "import statsmodels.api as sm\n",
    "import statsmodels.formula.api as smf\n",
    "\n",
    "import matplotlib\n",
    "import matplotlib.pyplot as plt\n",
    "from matplotlib.font_manager import FontProperties\n",
    "import seaborn as sns\n",
    "import pickle\n",
    "import itertools\n",
    "%matplotlib inline\n",
    "\n",
    "import os\n",
    "# print(os.listdir(\"../input\"))\n",
    "\n",
    "import gc, time\n",
    "\n",
    "dtypes = {\n",
    "        'ip'            : 'uint32',\n",
    "        'app'           : 'uint16',\n",
    "        'device'        : 'uint16',\n",
    "        'os'            : 'uint16',\n",
    "        'channel'       : 'uint16',\n",
    "        'is_attributed' : 'uint8',\n",
    "        'days'          : 'uint8',\n",
    "        'hours'         : 'uint8',\n",
    "        'minutes'       : 'uint8',\n",
    "        'seconds'       : 'uint8',\n",
    "        }\n",
    "\n",
    "# Correcting path to data inside EMAp servers\n",
    "path = '~/Kaggle/Dados/'\n",
    "\n",
    "train_columns = ['ip', 'app', 'device', 'os', 'channel', 'is_attributed', 'days', 'hours', 'minutes','seconds']"
   ]
  },
  {
   "cell_type": "code",
   "execution_count": 2,
   "metadata": {},
   "outputs": [
    {
     "name": "stdout",
     "output_type": "stream",
     "text": [
      "Load df_train with 50.835 seconds\n"
     ]
    }
   ],
   "source": [
    "# Importing data\n",
    "\n",
    "# Load training df (partly)\n",
    "start_time = time.time()\n",
    "df_train = pd.read_csv(path + '10_train_timed.csv', dtype=dtypes, usecols=train_columns)\n",
    "print('Load df_train with {} seconds'.format(round(time.time() - start_time, 3)))"
   ]
  },
  {
   "cell_type": "code",
   "execution_count": 3,
   "metadata": {},
   "outputs": [
    {
     "name": "stdout",
     "output_type": "stream",
     "text": [
      "Load df_test with 23.247 seconds\n"
     ]
    }
   ],
   "source": [
    "# Load testing df\n",
    "start_time = time.time()\n",
    "df_test = pd.read_csv(path + 'test_timed.csv', dtype=dtypes)\n",
    "print('Load df_test with {} seconds'.format(round(time.time() - start_time, 3)))\n",
    "\n",
    "train_record_index = df_train.shape[0]"
   ]
  },
  {
   "cell_type": "code",
   "execution_count": 4,
   "metadata": {},
   "outputs": [
    {
     "data": {
      "text/html": [
       "<div>\n",
       "<style scoped>\n",
       "    .dataframe tbody tr th:only-of-type {\n",
       "        vertical-align: middle;\n",
       "    }\n",
       "\n",
       "    .dataframe tbody tr th {\n",
       "        vertical-align: top;\n",
       "    }\n",
       "\n",
       "    .dataframe thead th {\n",
       "        text-align: right;\n",
       "    }\n",
       "</style>\n",
       "<table border=\"1\" class=\"dataframe\">\n",
       "  <thead>\n",
       "    <tr style=\"text-align: right;\">\n",
       "      <th></th>\n",
       "      <th>ip</th>\n",
       "      <th>app</th>\n",
       "      <th>device</th>\n",
       "      <th>os</th>\n",
       "      <th>channel</th>\n",
       "      <th>days</th>\n",
       "      <th>hours</th>\n",
       "      <th>minutes</th>\n",
       "      <th>seconds</th>\n",
       "      <th>is_attributed</th>\n",
       "    </tr>\n",
       "  </thead>\n",
       "  <tbody>\n",
       "    <tr>\n",
       "      <th>0</th>\n",
       "      <td>29045</td>\n",
       "      <td>64</td>\n",
       "      <td>1</td>\n",
       "      <td>13</td>\n",
       "      <td>459</td>\n",
       "      <td>6</td>\n",
       "      <td>14</td>\n",
       "      <td>54</td>\n",
       "      <td>59</td>\n",
       "      <td>0</td>\n",
       "    </tr>\n",
       "    <tr>\n",
       "      <th>1</th>\n",
       "      <td>64886</td>\n",
       "      <td>3</td>\n",
       "      <td>1</td>\n",
       "      <td>13</td>\n",
       "      <td>379</td>\n",
       "      <td>6</td>\n",
       "      <td>15</td>\n",
       "      <td>5</td>\n",
       "      <td>17</td>\n",
       "      <td>0</td>\n",
       "    </tr>\n",
       "    <tr>\n",
       "      <th>2</th>\n",
       "      <td>147605</td>\n",
       "      <td>3</td>\n",
       "      <td>1</td>\n",
       "      <td>19</td>\n",
       "      <td>379</td>\n",
       "      <td>6</td>\n",
       "      <td>15</td>\n",
       "      <td>8</td>\n",
       "      <td>24</td>\n",
       "      <td>0</td>\n",
       "    </tr>\n",
       "    <tr>\n",
       "      <th>3</th>\n",
       "      <td>108881</td>\n",
       "      <td>3</td>\n",
       "      <td>1</td>\n",
       "      <td>19</td>\n",
       "      <td>379</td>\n",
       "      <td>6</td>\n",
       "      <td>15</td>\n",
       "      <td>25</td>\n",
       "      <td>15</td>\n",
       "      <td>0</td>\n",
       "    </tr>\n",
       "    <tr>\n",
       "      <th>4</th>\n",
       "      <td>116013</td>\n",
       "      <td>3</td>\n",
       "      <td>1</td>\n",
       "      <td>13</td>\n",
       "      <td>379</td>\n",
       "      <td>6</td>\n",
       "      <td>15</td>\n",
       "      <td>39</td>\n",
       "      <td>18</td>\n",
       "      <td>0</td>\n",
       "    </tr>\n",
       "  </tbody>\n",
       "</table>\n",
       "</div>"
      ],
      "text/plain": [
       "       ip  app  device  os  channel  days  hours  minutes  seconds  \\\n",
       "0   29045   64       1  13      459     6     14       54       59   \n",
       "1   64886    3       1  13      379     6     15        5       17   \n",
       "2  147605    3       1  19      379     6     15        8       24   \n",
       "3  108881    3       1  19      379     6     15       25       15   \n",
       "4  116013    3       1  13      379     6     15       39       18   \n",
       "\n",
       "   is_attributed  \n",
       "0              0  \n",
       "1              0  \n",
       "2              0  \n",
       "3              0  \n",
       "4              0  "
      ]
     },
     "execution_count": 4,
     "metadata": {},
     "output_type": "execute_result"
    }
   ],
   "source": [
    "df_train.head()"
   ]
  },
  {
   "cell_type": "code",
   "execution_count": 5,
   "metadata": {},
   "outputs": [
    {
     "data": {
      "text/html": [
       "<div>\n",
       "<style scoped>\n",
       "    .dataframe tbody tr th:only-of-type {\n",
       "        vertical-align: middle;\n",
       "    }\n",
       "\n",
       "    .dataframe tbody tr th {\n",
       "        vertical-align: top;\n",
       "    }\n",
       "\n",
       "    .dataframe thead th {\n",
       "        text-align: right;\n",
       "    }\n",
       "</style>\n",
       "<table border=\"1\" class=\"dataframe\">\n",
       "  <thead>\n",
       "    <tr style=\"text-align: right;\">\n",
       "      <th></th>\n",
       "      <th>click_id</th>\n",
       "      <th>ip</th>\n",
       "      <th>app</th>\n",
       "      <th>device</th>\n",
       "      <th>os</th>\n",
       "      <th>channel</th>\n",
       "      <th>days</th>\n",
       "      <th>hours</th>\n",
       "      <th>minutes</th>\n",
       "      <th>seconds</th>\n",
       "    </tr>\n",
       "  </thead>\n",
       "  <tbody>\n",
       "    <tr>\n",
       "      <th>0</th>\n",
       "      <td>0</td>\n",
       "      <td>5744</td>\n",
       "      <td>9</td>\n",
       "      <td>1</td>\n",
       "      <td>3</td>\n",
       "      <td>107</td>\n",
       "      <td>10</td>\n",
       "      <td>4</td>\n",
       "      <td>0</td>\n",
       "      <td>0</td>\n",
       "    </tr>\n",
       "    <tr>\n",
       "      <th>1</th>\n",
       "      <td>1</td>\n",
       "      <td>119901</td>\n",
       "      <td>9</td>\n",
       "      <td>1</td>\n",
       "      <td>3</td>\n",
       "      <td>466</td>\n",
       "      <td>10</td>\n",
       "      <td>4</td>\n",
       "      <td>0</td>\n",
       "      <td>0</td>\n",
       "    </tr>\n",
       "    <tr>\n",
       "      <th>2</th>\n",
       "      <td>2</td>\n",
       "      <td>72287</td>\n",
       "      <td>21</td>\n",
       "      <td>1</td>\n",
       "      <td>19</td>\n",
       "      <td>128</td>\n",
       "      <td>10</td>\n",
       "      <td>4</td>\n",
       "      <td>0</td>\n",
       "      <td>0</td>\n",
       "    </tr>\n",
       "    <tr>\n",
       "      <th>3</th>\n",
       "      <td>3</td>\n",
       "      <td>78477</td>\n",
       "      <td>15</td>\n",
       "      <td>1</td>\n",
       "      <td>13</td>\n",
       "      <td>111</td>\n",
       "      <td>10</td>\n",
       "      <td>4</td>\n",
       "      <td>0</td>\n",
       "      <td>0</td>\n",
       "    </tr>\n",
       "    <tr>\n",
       "      <th>4</th>\n",
       "      <td>4</td>\n",
       "      <td>123080</td>\n",
       "      <td>12</td>\n",
       "      <td>1</td>\n",
       "      <td>13</td>\n",
       "      <td>328</td>\n",
       "      <td>10</td>\n",
       "      <td>4</td>\n",
       "      <td>0</td>\n",
       "      <td>0</td>\n",
       "    </tr>\n",
       "  </tbody>\n",
       "</table>\n",
       "</div>"
      ],
      "text/plain": [
       "   click_id      ip  app  device  os  channel  days  hours  minutes  seconds\n",
       "0         0    5744    9       1   3      107    10      4        0        0\n",
       "1         1  119901    9       1   3      466    10      4        0        0\n",
       "2         2   72287   21       1  19      128    10      4        0        0\n",
       "3         3   78477   15       1  13      111    10      4        0        0\n",
       "4         4  123080   12       1  13      328    10      4        0        0"
      ]
     },
     "execution_count": 5,
     "metadata": {},
     "output_type": "execute_result"
    }
   ],
   "source": [
    "df_test.head()"
   ]
  },
  {
   "cell_type": "code",
   "execution_count": 6,
   "metadata": {},
   "outputs": [
    {
     "name": "stdout",
     "output_type": "stream",
     "text": [
      "Training target correctly extracted.\n",
      "Data was correctly merged\n"
     ]
    }
   ],
   "source": [
    "#df for submit\n",
    "df_submit = pd.DataFrame()\n",
    "df_submit['click_id'] = df_test['click_id']\n",
    "\n",
    "#Extracting learning data\n",
    "Learning_Y = df_train['is_attributed']\n",
    "print('Training target correctly extracted.')\n",
    "\n",
    "#drop zone\n",
    "df_test = df_test.drop(['click_id'], axis=1)\n",
    "df_train = df_train.drop(['is_attributed'], axis=1)\n",
    "gc.collect();\n",
    "\n",
    "df_merge = pd.concat([df_train, df_test])\n",
    "del df_train, df_test\n",
    "gc.collect();\n",
    "print('Data was correctly merged')"
   ]
  },
  {
   "cell_type": "markdown",
   "metadata": {},
   "source": [
    "# Primeira tentativa de feature \n",
    "\n",
    "contagem de cliques de todos os dados categóricos"
   ]
  },
  {
   "cell_type": "code",
   "execution_count": 7,
   "metadata": {},
   "outputs": [
    {
     "name": "stdout",
     "output_type": "stream",
     "text": [
      "Loaded counts for all features with 80.936 seconds\n"
     ]
    }
   ],
   "source": [
    "# Count all features except device and timestamp data for both train and test df \n",
    "start_time = time.time()\n",
    "columns = df_merge.columns\n",
    "columns = [i for i in columns if i != 'device' and i != 'days' and i != 'hours' and i != 'minutes'\n",
    "          and i != 'seconds']\n",
    "\n",
    "for col in columns:\n",
    "    df_count = df_merge[col].value_counts().reset_index(name=col+'_count')\n",
    "    df_count.columns = [col, col+'_count']\n",
    "\n",
    "    df_merge = df_merge.merge(df_count, on=col, how='left', sort=False)\n",
    "    df_merge[col+'_count'] = df_merge[col+'_count'].astype('uint16')\n",
    "\n",
    "    del df_count\n",
    "    \n",
    "print('Loaded counts for all features with {} seconds'.format(round(time.time() - start_time, 3)))"
   ]
  },
  {
   "cell_type": "code",
   "execution_count": 8,
   "metadata": {},
   "outputs": [
    {
     "data": {
      "text/html": [
       "<div>\n",
       "<style scoped>\n",
       "    .dataframe tbody tr th:only-of-type {\n",
       "        vertical-align: middle;\n",
       "    }\n",
       "\n",
       "    .dataframe tbody tr th {\n",
       "        vertical-align: top;\n",
       "    }\n",
       "\n",
       "    .dataframe thead th {\n",
       "        text-align: right;\n",
       "    }\n",
       "</style>\n",
       "<table border=\"1\" class=\"dataframe\">\n",
       "  <thead>\n",
       "    <tr style=\"text-align: right;\">\n",
       "      <th></th>\n",
       "      <th>ip</th>\n",
       "      <th>app</th>\n",
       "      <th>device</th>\n",
       "      <th>os</th>\n",
       "      <th>channel</th>\n",
       "      <th>days</th>\n",
       "      <th>hours</th>\n",
       "      <th>minutes</th>\n",
       "      <th>seconds</th>\n",
       "      <th>ip_count</th>\n",
       "      <th>app_count</th>\n",
       "      <th>os_count</th>\n",
       "      <th>channel_count</th>\n",
       "    </tr>\n",
       "  </thead>\n",
       "  <tbody>\n",
       "    <tr>\n",
       "      <th>0</th>\n",
       "      <td>29045</td>\n",
       "      <td>64</td>\n",
       "      <td>1</td>\n",
       "      <td>13</td>\n",
       "      <td>459</td>\n",
       "      <td>6</td>\n",
       "      <td>14</td>\n",
       "      <td>54</td>\n",
       "      <td>59</td>\n",
       "      <td>1472</td>\n",
       "      <td>58544</td>\n",
       "      <td>8424</td>\n",
       "      <td>55595</td>\n",
       "    </tr>\n",
       "    <tr>\n",
       "      <th>1</th>\n",
       "      <td>64886</td>\n",
       "      <td>3</td>\n",
       "      <td>1</td>\n",
       "      <td>13</td>\n",
       "      <td>379</td>\n",
       "      <td>6</td>\n",
       "      <td>15</td>\n",
       "      <td>5</td>\n",
       "      <td>17</td>\n",
       "      <td>1702</td>\n",
       "      <td>18901</td>\n",
       "      <td>8424</td>\n",
       "      <td>24734</td>\n",
       "    </tr>\n",
       "    <tr>\n",
       "      <th>2</th>\n",
       "      <td>147605</td>\n",
       "      <td>3</td>\n",
       "      <td>1</td>\n",
       "      <td>19</td>\n",
       "      <td>379</td>\n",
       "      <td>6</td>\n",
       "      <td>15</td>\n",
       "      <td>8</td>\n",
       "      <td>24</td>\n",
       "      <td>559</td>\n",
       "      <td>18901</td>\n",
       "      <td>32993</td>\n",
       "      <td>24734</td>\n",
       "    </tr>\n",
       "    <tr>\n",
       "      <th>3</th>\n",
       "      <td>108881</td>\n",
       "      <td>3</td>\n",
       "      <td>1</td>\n",
       "      <td>19</td>\n",
       "      <td>379</td>\n",
       "      <td>6</td>\n",
       "      <td>15</td>\n",
       "      <td>25</td>\n",
       "      <td>15</td>\n",
       "      <td>19887</td>\n",
       "      <td>18901</td>\n",
       "      <td>32993</td>\n",
       "      <td>24734</td>\n",
       "    </tr>\n",
       "    <tr>\n",
       "      <th>4</th>\n",
       "      <td>116013</td>\n",
       "      <td>3</td>\n",
       "      <td>1</td>\n",
       "      <td>13</td>\n",
       "      <td>379</td>\n",
       "      <td>6</td>\n",
       "      <td>15</td>\n",
       "      <td>39</td>\n",
       "      <td>18</td>\n",
       "      <td>948</td>\n",
       "      <td>18901</td>\n",
       "      <td>8424</td>\n",
       "      <td>24734</td>\n",
       "    </tr>\n",
       "  </tbody>\n",
       "</table>\n",
       "</div>"
      ],
      "text/plain": [
       "       ip  app  device  os  channel  days  hours  minutes  seconds  ip_count  \\\n",
       "0   29045   64       1  13      459     6     14       54       59      1472   \n",
       "1   64886    3       1  13      379     6     15        5       17      1702   \n",
       "2  147605    3       1  19      379     6     15        8       24       559   \n",
       "3  108881    3       1  19      379     6     15       25       15     19887   \n",
       "4  116013    3       1  13      379     6     15       39       18       948   \n",
       "\n",
       "   app_count  os_count  channel_count  \n",
       "0      58544      8424          55595  \n",
       "1      18901      8424          24734  \n",
       "2      18901     32993          24734  \n",
       "3      18901     32993          24734  \n",
       "4      18901      8424          24734  "
      ]
     },
     "execution_count": 8,
     "metadata": {},
     "output_type": "execute_result"
    }
   ],
   "source": [
    "df_merge.head()"
   ]
  },
  {
   "cell_type": "code",
   "execution_count": 9,
   "metadata": {},
   "outputs": [],
   "source": [
    "gc.collect();\n",
    "\n",
    "df_train = df_merge[:train_record_index]\n",
    "df_test = df_merge[train_record_index:]"
   ]
  },
  {
   "cell_type": "code",
   "execution_count": 10,
   "metadata": {},
   "outputs": [],
   "source": [
    "from sklearn import model_selection\n",
    "from sklearn.metrics import roc_auc_score\n",
    "from sklearn.metrics import roc_curve\n",
    "from sklearn.metrics import f1_score\n",
    "from sklearn.metrics import confusion_matrix\n",
    "from sklearn.metrics import classification_report\n",
    "from sklearn.metrics import accuracy_score\n",
    "from sklearn.metrics import average_precision_score\n",
    "\n",
    "from sklearn.ensemble import RandomForestClassifier\n",
    "from imblearn.under_sampling import RandomUnderSampler\n",
    "\n",
    "from matplotlib.font_manager import FontProperties\n",
    "import seaborn as sns\n",
    "import pickle\n",
    "import itertools\n",
    "%matplotlib inline\n",
    "\n",
    "import statsmodels.api as sm\n",
    "import statsmodels.formula.api as smf\n",
    "\n",
    "def plot_confusion_matrix(cm, classes,\n",
    "                          normalize=False,\n",
    "                          title='Confusion matrix',\n",
    "                          cmap=plt.cm.Blues):\n",
    "    \"\"\"\n",
    "    This function prints and plots the confusion matrix.\n",
    "    Normalization can be applied by setting `normalize=True`.\n",
    "    \"\"\"\n",
    "\n",
    "    plt.imshow(cm, interpolation='nearest', cmap=cmap, aspect='auto')\n",
    "    plt.title(title)\n",
    "    plt.colorbar()\n",
    "    tick_marks = np.arange(len(classes))\n",
    "    plt.xticks(tick_marks, classes, rotation=45)\n",
    "    plt.yticks(tick_marks, classes)\n",
    "    \n",
    "    if normalize:\n",
    "        cm = cm.astype('float') / cm.sum(axis=1)[:, np.newaxis]\n",
    "        print(\"Normalized confusion matrix\")\n",
    "    else:\n",
    "        print('Confusion matrix, without normalization')\n",
    "\n",
    "    print(cm)\n",
    "\n",
    "    thresh = cm.max() / 2.\n",
    "    for i, j in itertools.product(range(cm.shape[0]), range(cm.shape[1])):\n",
    "        plt.text(j, i, cm[i, j],\n",
    "                 horizontalalignment=\"center\",\n",
    "                 color=\"white\" if cm[i, j] > thresh else \"black\")\n",
    "\n",
    "    plt.tight_layout()\n",
    "    plt.ylabel('True label')\n",
    "    plt.xlabel('Predicted label')\n",
    "\n",
    "def clf_eval(clf, X, y_true, classes=['Não baixou', 'Baixou'], normalize=False):\n",
    "    y_pred = clf.predict(X)\n",
    "    clf_matrix = confusion_matrix(y_true, y_pred)\n",
    "    print('Classification Report')\n",
    "    print(classification_report(y_true, y_pred, target_names=classes))\n",
    "    print('ROC Score: {}'.format(roc_auc_score(y_true, y_pred)))\n",
    "    print('Accuracy Score: {}'.format(accuracy_score(y_true, y_pred)))\n",
    "    print('Average Precision Score: {}'.format(average_precision_score(y_true, y_pred)))\n",
    "    print('f1 Score: {}'.format(f1_score(y_true, y_pred)))\n",
    "    plot_confusion_matrix(clf_matrix, classes=classes, normalize=normalize)\n",
    "    \n",
    "    return roc_auc_score(y_true, y_pred)"
   ]
  },
  {
   "cell_type": "code",
   "execution_count": 11,
   "metadata": {},
   "outputs": [],
   "source": [
    "# Doing undersampling\n",
    "\n",
    "rus = RandomUnderSampler(return_indices=True)\n",
    "X_resampled, Y_resampled, idx_resampled = rus.fit_sample(df_train, Learning_Y)\n",
    "\n",
    "X_resampled = pd.DataFrame(X_resampled, columns=df_train.columns)\n",
    "Y_resampled = pd.DataFrame(Y_resampled, columns=['is_attributed'])\n"
   ]
  },
  {
   "cell_type": "code",
   "execution_count": 12,
   "metadata": {},
   "outputs": [],
   "source": [
    "# Separating 10 groups of testing and training for cross validation\n",
    "\n",
    "train_idx = np.array([])\n",
    "test_idx = np.array([])\n",
    "roc_counts = []\n",
    "\n",
    "idx = model_selection.StratifiedKFold(n_splits=10).split(X_resampled, Y_resampled)"
   ]
  },
  {
   "cell_type": "code",
   "execution_count": 13,
   "metadata": {},
   "outputs": [
    {
     "name": "stdout",
     "output_type": "stream",
     "text": [
      "RandomForest has fitted X_resampled with 1 seconds\n",
      "RandomForest has fitted X_resampled with 1 seconds\n",
      "RandomForest has fitted X_resampled with 0 seconds\n",
      "RandomForest has fitted X_resampled with 0 seconds\n",
      "RandomForest has fitted X_resampled with 0 seconds\n",
      "RandomForest has fitted X_resampled with 0 seconds\n",
      "RandomForest has fitted X_resampled with 0 seconds\n",
      "RandomForest has fitted X_resampled with 0 seconds\n",
      "RandomForest has fitted X_resampled with 0 seconds\n",
      "RandomForest has fitted X_resampled with 0 seconds\n"
     ]
    }
   ],
   "source": [
    "for train_idx, test_idx in idx:\n",
    "    start_time = time.time()\n",
    "    X = X_resampled.iloc[train_idx]\n",
    "    Y = Y_resampled.iloc[train_idx]\n",
    "    rf = RandomForestClassifier(n_estimators=13, max_depth=13, verbose=0, n_jobs = -1)\n",
    "    rf = rf.fit(X, Y.values.ravel())\n",
    "    \n",
    "    print('RandomForest has fitted X_resampled with {} seconds'.format(round(time.time() - start_time), 3))\n",
    "        \n",
    "    Y_true = Y_resampled.iloc[test_idx]\n",
    "    Y_pred = rf.predict(X_resampled.iloc[test_idx])\n",
    "    roc_counts.append(roc_auc_score(Y_true, Y_pred))"
   ]
  },
  {
   "cell_type": "code",
   "execution_count": 27,
   "metadata": {},
   "outputs": [
    {
     "data": {
      "text/plain": [
       "Text(0.5,1,'Models ROC Scores')"
      ]
     },
     "execution_count": 27,
     "metadata": {},
     "output_type": "execute_result"
    },
    {
     "data": {
      "image/png": "[encoded data removed]",
      "text/plain": [
       "<Figure size 648x432 with 1 Axes>"
      ]
     },
     "metadata": {},
     "output_type": "display_data"
    }
   ],
   "source": [
    "# Ploting the ROC scores\n",
    "roc_counts = np.array(roc_counts)\n",
    "\n",
    "fig = plt.figure(1, figsize=(9, 6))\n",
    "ax = fig.add_subplot(111)\n",
    "\n",
    "ax.boxplot(roc_counts)\n",
    "ax.set_xticklabels(['All_counts'])\n",
    "ax.set_title('Models ROC Scores')"
   ]
  },
  {
   "cell_type": "markdown",
   "metadata": {},
   "source": [
    "Usando só o IP counts"
   ]
  },
  {
   "cell_type": "code",
   "execution_count": 54,
   "metadata": {},
   "outputs": [],
   "source": [
    "# Doing undersampling\n",
    "\n",
    "params = ['ip', 'app', 'device', 'os', 'channel','days', 'hours', 'minutes',\n",
    "                                                                  'seconds', 'ip_count']\n",
    "rus = RandomUnderSampler(return_indices=True)\n",
    "X_resampled, Y_resampled, idx_resampled = rus.fit_sample(df_train[params], Learning_Y)\n",
    "\n",
    "X_resampled = pd.DataFrame(X_resampled, columns=params)\n",
    "Y_resampled = pd.DataFrame(Y_resampled, columns=['is_attributed'])"
   ]
  },
  {
   "cell_type": "code",
   "execution_count": 55,
   "metadata": {},
   "outputs": [],
   "source": [
    "# Separating 10 groups of testing and training for cross validation\n",
    "\n",
    "train_idx = np.array([])\n",
    "test_idx = np.array([])\n",
    "roc_ipcounts = []\n",
    "\n",
    "idx = model_selection.StratifiedKFold(n_splits=10).split(X_resampled, Y_resampled)"
   ]
  },
  {
   "cell_type": "code",
   "execution_count": 56,
   "metadata": {},
   "outputs": [
    {
     "name": "stdout",
     "output_type": "stream",
     "text": [
      "RandomForest has fitted X_resampled with 0 seconds\n",
      "RandomForest has fitted X_resampled with 0 seconds\n",
      "RandomForest has fitted X_resampled with 0 seconds\n",
      "RandomForest has fitted X_resampled with 0 seconds\n",
      "RandomForest has fitted X_resampled with 0 seconds\n",
      "RandomForest has fitted X_resampled with 0 seconds\n",
      "RandomForest has fitted X_resampled with 0 seconds\n",
      "RandomForest has fitted X_resampled with 0 seconds\n",
      "RandomForest has fitted X_resampled with 0 seconds\n",
      "RandomForest has fitted X_resampled with 0 seconds\n"
     ]
    }
   ],
   "source": [
    "for train_idx, test_idx in idx:\n",
    "    start_time = time.time()\n",
    "    X = X_resampled.iloc[train_idx]\n",
    "    Y = Y_resampled.iloc[train_idx]\n",
    "    rf = RandomForestClassifier(n_estimators=13, max_depth=13, verbose=0, n_jobs = -1)\n",
    "    rf = rf.fit(X, Y.values.ravel())\n",
    "    \n",
    "    print('RandomForest has fitted X_resampled with {} seconds'.format(round(time.time() - start_time), 3))\n",
    "        \n",
    "    Y_true = Y_resampled.iloc[test_idx]\n",
    "    Y_pred = rf.predict(X_resampled.iloc[test_idx])\n",
    "    roc_ipcounts.append(roc_auc_score(Y_true, Y_pred))"
   ]
  },
  {
   "cell_type": "code",
   "execution_count": 57,
   "metadata": {},
   "outputs": [
    {
     "data": {
      "text/plain": [
       "Text(0.5,1,'Models ROC Scores')"
      ]
     },
     "execution_count": 57,
     "metadata": {},
     "output_type": "execute_result"
    },
    {
     "data": {
      "image/png": "[encoded data removed]",
      "text/plain": [
       "<Figure size 648x432 with 1 Axes>"
      ]
     },
     "metadata": {},
     "output_type": "display_data"
    }
   ],
   "source": [
    "# Ploting the ROC scores\n",
    "roc_ipcounts = np.array(roc_ipcounts)\n",
    "data_plot = [roc_counts, roc_ipcounts]\n",
    "lables = ['All_counts', 'ip_counts']\n",
    "\n",
    "fig = plt.figure(1, figsize=(9, 6))\n",
    "ax = fig.add_subplot(111)\n",
    "\n",
    "ax.boxplot(data_plot)\n",
    "ax.set_xticklabels(labels)\n",
    "ax.set_title('Models ROC Scores')"
   ]
  },
  {
   "cell_type": "markdown",
   "metadata": {},
   "source": [
    "# Segunda tentativa\n",
    "\n",
    "Acrescentando diferença de clique time"
   ]
  },
  {
   "cell_type": "code",
   "execution_count": 28,
   "metadata": {},
   "outputs": [
    {
     "name": "stdout",
     "output_type": "stream",
     "text": [
      "1798.308\n"
     ]
    },
    {
     "data": {
      "text/plain": [
       "0   NaN\n",
       "1   NaN\n",
       "2   NaN\n",
       "3   NaN\n",
       "4   NaN\n",
       "Name: time, dtype: float64"
      ]
     },
     "execution_count": 28,
     "metadata": {},
     "output_type": "execute_result"
    }
   ],
   "source": [
    "# This cell takes a long time to run.... be pacient\n",
    "start_time = time.time()\n",
    "gr = pd.DataFrame()\n",
    "gr['ip'] = df_merge.ip\n",
    "gr['time'] = pd.to_datetime(df_merge.loc[:,['hours', 'minutes', 'seconds']].astype(str).apply(''.join,1),format='%H%M%S')\n",
    "temp = gr.groupby('ip', as_index=False)).time.diff().dt.total_seconds()\n",
    "print('New dataframe with diff clicktime created in {} seconds'.format(round(time.time() - start_time), 3))"
   ]
  },
  {
   "cell_type": "code",
   "execution_count": 35,
   "metadata": {},
   "outputs": [
    {
     "data": {
      "text/html": [
       "<div>\n",
       "<style scoped>\n",
       "    .dataframe tbody tr th:only-of-type {\n",
       "        vertical-align: middle;\n",
       "    }\n",
       "\n",
       "    .dataframe tbody tr th {\n",
       "        vertical-align: top;\n",
       "    }\n",
       "\n",
       "    .dataframe thead th {\n",
       "        text-align: right;\n",
       "    }\n",
       "</style>\n",
       "<table border=\"1\" class=\"dataframe\">\n",
       "  <thead>\n",
       "    <tr style=\"text-align: right;\">\n",
       "      <th></th>\n",
       "      <th></th>\n",
       "      <th>time</th>\n",
       "    </tr>\n",
       "  </thead>\n",
       "  <tbody>\n",
       "    <tr>\n",
       "      <th rowspan=\"2\" valign=\"top\">0</th>\n",
       "      <th>21380769</th>\n",
       "      <td>NaN</td>\n",
       "    </tr>\n",
       "    <tr>\n",
       "      <th>21526668</th>\n",
       "      <td>163.0</td>\n",
       "    </tr>\n",
       "    <tr>\n",
       "      <th rowspan=\"3\" valign=\"top\">1</th>\n",
       "      <th>12731137</th>\n",
       "      <td>NaN</td>\n",
       "    </tr>\n",
       "    <tr>\n",
       "      <th>12747692</th>\n",
       "      <td>-1576.0</td>\n",
       "    </tr>\n",
       "    <tr>\n",
       "      <th>16683909</th>\n",
       "      <td>-35601.0</td>\n",
       "    </tr>\n",
       "  </tbody>\n",
       "</table>\n",
       "</div>"
      ],
      "text/plain": [
       "               time\n",
       "0 21380769      NaN\n",
       "  21526668    163.0\n",
       "1 12731137      NaN\n",
       "  12747692  -1576.0\n",
       "  16683909 -35601.0"
      ]
     },
     "execution_count": 35,
     "metadata": {},
     "output_type": "execute_result"
    }
   ],
   "source": [
    "temp = temp.to_frame()\n",
    "temp.reset_index(level=1, inplace=True)\n",
    "temp.columns = ['ip', 'delta_time']\n",
    "temp.delta_time = abs(temp.delta_time)\n",
    "temp.delta_time = temp.delta_time.fillna(value=0)\n",
    "\n",
    "temp.head()"
   ]
  },
  {
   "cell_type": "code",
   "execution_count": 42,
   "metadata": {},
   "outputs": [
    {
     "data": {
      "text/html": [
       "<div>\n",
       "<style scoped>\n",
       "    .dataframe tbody tr th:only-of-type {\n",
       "        vertical-align: middle;\n",
       "    }\n",
       "\n",
       "    .dataframe tbody tr th {\n",
       "        vertical-align: top;\n",
       "    }\n",
       "\n",
       "    .dataframe thead th {\n",
       "        text-align: right;\n",
       "    }\n",
       "</style>\n",
       "<table border=\"1\" class=\"dataframe\">\n",
       "  <thead>\n",
       "    <tr style=\"text-align: right;\">\n",
       "      <th></th>\n",
       "      <th>ip</th>\n",
       "      <th>app</th>\n",
       "      <th>device</th>\n",
       "      <th>os</th>\n",
       "      <th>channel</th>\n",
       "      <th>days</th>\n",
       "      <th>hours</th>\n",
       "      <th>minutes</th>\n",
       "      <th>seconds</th>\n",
       "      <th>ip_count</th>\n",
       "      <th>app_count</th>\n",
       "      <th>os_count</th>\n",
       "      <th>channel_count</th>\n",
       "      <th>delta_time</th>\n",
       "    </tr>\n",
       "  </thead>\n",
       "  <tbody>\n",
       "    <tr>\n",
       "      <th>0</th>\n",
       "      <td>29045</td>\n",
       "      <td>64</td>\n",
       "      <td>1</td>\n",
       "      <td>13</td>\n",
       "      <td>459</td>\n",
       "      <td>6</td>\n",
       "      <td>14</td>\n",
       "      <td>54</td>\n",
       "      <td>59</td>\n",
       "      <td>1472</td>\n",
       "      <td>58544</td>\n",
       "      <td>8424</td>\n",
       "      <td>55595</td>\n",
       "      <td>0.0</td>\n",
       "    </tr>\n",
       "    <tr>\n",
       "      <th>1</th>\n",
       "      <td>64886</td>\n",
       "      <td>3</td>\n",
       "      <td>1</td>\n",
       "      <td>13</td>\n",
       "      <td>379</td>\n",
       "      <td>6</td>\n",
       "      <td>15</td>\n",
       "      <td>5</td>\n",
       "      <td>17</td>\n",
       "      <td>1702</td>\n",
       "      <td>18901</td>\n",
       "      <td>8424</td>\n",
       "      <td>24734</td>\n",
       "      <td>157.0</td>\n",
       "    </tr>\n",
       "    <tr>\n",
       "      <th>2</th>\n",
       "      <td>147605</td>\n",
       "      <td>3</td>\n",
       "      <td>1</td>\n",
       "      <td>19</td>\n",
       "      <td>379</td>\n",
       "      <td>6</td>\n",
       "      <td>15</td>\n",
       "      <td>8</td>\n",
       "      <td>24</td>\n",
       "      <td>559</td>\n",
       "      <td>18901</td>\n",
       "      <td>32993</td>\n",
       "      <td>24734</td>\n",
       "      <td>14.0</td>\n",
       "    </tr>\n",
       "    <tr>\n",
       "      <th>3</th>\n",
       "      <td>108881</td>\n",
       "      <td>3</td>\n",
       "      <td>1</td>\n",
       "      <td>19</td>\n",
       "      <td>379</td>\n",
       "      <td>6</td>\n",
       "      <td>15</td>\n",
       "      <td>25</td>\n",
       "      <td>15</td>\n",
       "      <td>19887</td>\n",
       "      <td>18901</td>\n",
       "      <td>32993</td>\n",
       "      <td>24734</td>\n",
       "      <td>288.0</td>\n",
       "    </tr>\n",
       "    <tr>\n",
       "      <th>4</th>\n",
       "      <td>116013</td>\n",
       "      <td>3</td>\n",
       "      <td>1</td>\n",
       "      <td>13</td>\n",
       "      <td>379</td>\n",
       "      <td>6</td>\n",
       "      <td>15</td>\n",
       "      <td>39</td>\n",
       "      <td>18</td>\n",
       "      <td>948</td>\n",
       "      <td>18901</td>\n",
       "      <td>8424</td>\n",
       "      <td>24734</td>\n",
       "      <td>0.0</td>\n",
       "    </tr>\n",
       "  </tbody>\n",
       "</table>\n",
       "</div>"
      ],
      "text/plain": [
       "       ip  app  device  os  channel  days  hours  minutes  seconds  ip_count  \\\n",
       "0   29045   64       1  13      459     6     14       54       59      1472   \n",
       "1   64886    3       1  13      379     6     15        5       17      1702   \n",
       "2  147605    3       1  19      379     6     15        8       24       559   \n",
       "3  108881    3       1  19      379     6     15       25       15     19887   \n",
       "4  116013    3       1  13      379     6     15       39       18       948   \n",
       "\n",
       "   app_count  os_count  channel_count  delta_time  \n",
       "0      58544      8424          55595         0.0  \n",
       "1      18901      8424          24734       157.0  \n",
       "2      18901     32993          24734        14.0  \n",
       "3      18901     32993          24734       288.0  \n",
       "4      18901      8424          24734         0.0  "
      ]
     },
     "execution_count": 42,
     "metadata": {},
     "output_type": "execute_result"
    }
   ],
   "source": [
    "#Merging the new feature created in the original df\n",
    "df_merge = df_merge.merge(temp, on='ip', how='left')\n",
    "\n",
    "# Deleting the temporary df created on the process\n",
    "del temp, gr\n",
    "gc.collect();\n",
    "\n",
    "df_merge.head()"
   ]
  },
  {
   "cell_type": "code",
   "execution_count": 44,
   "metadata": {},
   "outputs": [],
   "source": [
    "# Getting back train and test\n",
    "df_train = df_merge[:train_record_index]\n",
    "df_test = df_merge[train_record_index:]"
   ]
  },
  {
   "cell_type": "code",
   "execution_count": 45,
   "metadata": {},
   "outputs": [],
   "source": [
    "# Doing undersampling\n",
    "params = ['ip', 'app', 'device', 'os', 'channel','days', 'hours', 'minutes',\n",
    "                                                                  'seconds', 'ip_count', 'delta_time']\n",
    "rus = RandomUnderSampler(return_indices=True)\n",
    "X_resampled, Y_resampled, idx_resampled = rus.fit_sample(df_train[params], Learning_Y)\n",
    "\n",
    "X_resampled = pd.DataFrame(X_resampled, columns=params)\n",
    "Y_resampled = pd.DataFrame(Y_resampled, columns=['is_attributed'])"
   ]
  },
  {
   "cell_type": "code",
   "execution_count": 48,
   "metadata": {},
   "outputs": [],
   "source": [
    "# Separating 10 groups of testing and training for cross validation\n",
    "\n",
    "train_idx = np.array([])\n",
    "test_idx = np.array([])\n",
    "roc_ipcounts_dtime = []\n",
    "\n",
    "idx = model_selection.StratifiedKFold(n_splits=10).split(X_resampled, Y_resampled)"
   ]
  },
  {
   "cell_type": "code",
   "execution_count": 49,
   "metadata": {},
   "outputs": [
    {
     "name": "stdout",
     "output_type": "stream",
     "text": [
      "RandomForest has fitted X_resampled with 0 seconds\n",
      "RandomForest has fitted X_resampled with 1 seconds\n",
      "RandomForest has fitted X_resampled with 0 seconds\n",
      "RandomForest has fitted X_resampled with 0 seconds\n",
      "RandomForest has fitted X_resampled with 0 seconds\n",
      "RandomForest has fitted X_resampled with 0 seconds\n",
      "RandomForest has fitted X_resampled with 0 seconds\n",
      "RandomForest has fitted X_resampled with 0 seconds\n",
      "RandomForest has fitted X_resampled with 0 seconds\n",
      "RandomForest has fitted X_resampled with 0 seconds\n"
     ]
    }
   ],
   "source": [
    "for train_idx, test_idx in idx:\n",
    "    start_time = time.time()\n",
    "    X = X_resampled.iloc[train_idx]\n",
    "    Y = Y_resampled.iloc[train_idx]\n",
    "    rf = RandomForestClassifier(n_estimators=13, max_depth=13, verbose=0, n_jobs = -1)\n",
    "    rf = rf.fit(X, Y.values.ravel())\n",
    "    \n",
    "    print('RandomForest has fitted X_resampled with {} seconds'.format(round(time.time() - start_time), 3))\n",
    "        \n",
    "    Y_true = Y_resampled.iloc[test_idx]\n",
    "    Y_pred = rf.predict(X_resampled.iloc[test_idx])\n",
    "    roc_ipcounts_dtime.append(roc_auc_score(Y_true, Y_pred))"
   ]
  },
  {
   "cell_type": "code",
   "execution_count": 58,
   "metadata": {},
   "outputs": [
    {
     "data": {
      "text/plain": [
       "Text(0.5,1,'Models ROC Scores')"
      ]
     },
     "execution_count": 58,
     "metadata": {},
     "output_type": "execute_result"
    },
    {
     "data": {
      "image/png": "[encoded data removed]",
      "text/plain": [
       "<Figure size 648x432 with 1 Axes>"
      ]
     },
     "metadata": {},
     "output_type": "display_data"
    }
   ],
   "source": [
    "# Ploting the ROC scores\n",
    "roc_ipcounts_dtime = np.array(roc_ipcounts_dtime)\n",
    "data_plot = [roc_counts, roc_ipcounts, roc_ipcounts_dtime]\n",
    "labels = ['All_counts', 'ip_counts', 'ip_counts & delta_time']\n",
    "\n",
    "fig = plt.figure(1, figsize=(9, 6))\n",
    "ax = fig.add_subplot(111)\n",
    "\n",
    "ax.boxplot(data_plot)\n",
    "ax.set_xticklabels(labels)\n",
    "ax.set_title('Models ROC Scores')"
   ]
  },
  {
   "cell_type": "code",
   "execution_count": null,
   "metadata": {},
   "outputs": [],
   "source": []
  }
 ],
 "metadata": {
  "kernelspec": {
   "display_name": "Python 3",
   "language": "python",
   "name": "python3"
  },
  "language_info": {
   "codemirror_mode": {
    "name": "ipython",
    "version": 3
   },
   "file_extension": ".py",
   "mimetype": "text/x-python",
   "name": "python",
   "nbconvert_exporter": "python",
   "pygments_lexer": "ipython3",
   "version": "3.5.2"
  }
 },
 "nbformat": 4,
 "nbformat_minor": 2
}
